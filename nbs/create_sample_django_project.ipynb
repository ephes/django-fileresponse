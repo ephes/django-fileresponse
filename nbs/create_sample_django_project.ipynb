{
 "cells": [
  {
   "cell_type": "markdown",
   "id": "5c6ace2d",
   "metadata": {},
   "source": [
    "# Create an Example Django Project"
   ]
  },
  {
   "cell_type": "markdown",
   "id": "faf15e9b",
   "metadata": {},
   "source": [
    "## Use django-admin to bootstrap the project"
   ]
  },
  {
   "cell_type": "code",
   "execution_count": null,
   "id": "186e40ad",
   "metadata": {},
   "outputs": [
    {
     "name": "stdout",
     "output_type": "stream",
     "text": [
      "/Users/jochen/projects/django_fileresponse\n"
     ]
    }
   ],
   "source": [
    "# dont_test\n",
    "\n",
    "%cd .."
   ]
  },
  {
   "cell_type": "code",
   "execution_count": null,
   "id": "c6f99d60",
   "metadata": {},
   "outputs": [
    {
     "name": "stdout",
     "output_type": "stream",
     "text": [
      "WARNING: `pyenv init -` no longer sets PATH.\r\n",
      "Run `pyenv init` to see the necessary changes to make to your configuration.\r\n"
     ]
    }
   ],
   "source": [
    "# dont_test\n",
    "\n",
    "!django-admin startproject example"
   ]
  },
  {
   "cell_type": "markdown",
   "id": "2ab18e1d",
   "metadata": {},
   "source": [
    "## Views"
   ]
  },
  {
   "cell_type": "code",
   "execution_count": null,
   "id": "0f2a8b88",
   "metadata": {},
   "outputs": [
    {
     "name": "stdout",
     "output_type": "stream",
     "text": [
      "Overwriting example/example/views.py\n"
     ]
    }
   ],
   "source": [
    "%%writefile example/example/views.py\n",
    "# dont_test\n",
    "\n",
    "import aiofiles\n",
    "\n",
    "from pathlib import Path\n",
    "\n",
    "from django.conf import settings\n",
    "from django.http import HttpResponse\n",
    "from django.http import FileResponse\n",
    "\n",
    "from fileresponse.http import AiofileFileResponse\n",
    "from fileresponse.http import AiobotocoreFileResponse\n",
    "\n",
    "\n",
    "def get_file(request, num=None):\n",
    "    file_path = Path(__file__).parent.parent / \"data\" / str(num)\n",
    "    print(str(file_path))\n",
    "    return FileResponse(file_path.open(\"rb\"))\n",
    "\n",
    "\n",
    "async def aget_file(request, num=None):\n",
    "    file_path = Path(__file__).parent.parent / \"data\" / str(num)\n",
    "    return AiofileFileResponse(file_path, chunk_size=4096)\n",
    "\n",
    "\n",
    "async def aminio_get_file(request, num=None):\n",
    "    bucket = settings.DJANGO_AWS_STORAGE_BUCKET_NAME\n",
    "    key = str(num)\n",
    "    return AiobotocoreFileResponse(bucket, key, chunk_size=4096)"
   ]
  },
  {
   "cell_type": "markdown",
   "id": "b568254d",
   "metadata": {},
   "source": [
    "## Urls"
   ]
  },
  {
   "cell_type": "code",
   "execution_count": null,
   "id": "1e2d068e",
   "metadata": {},
   "outputs": [
    {
     "name": "stdout",
     "output_type": "stream",
     "text": [
      "Overwriting example/example/urls.py\n"
     ]
    }
   ],
   "source": [
    "%%writefile example/example/urls.py\n",
    "# dont_test\n",
    "\n",
    "from django.urls import path\n",
    "\n",
    "from . import views\n",
    "\n",
    "urlpatterns = [\n",
    "    path('<int:num>', views.get_file),\n",
    "]\n",
    "\n",
    "async_urlpatterns = [\n",
    "    path('<int:num>', views.aget_file),\n",
    "]\n",
    "\n",
    "minio_urlpatterns = [\n",
    "    path('<int:num>', views.aminio_get_file),\n",
    "]"
   ]
  },
  {
   "cell_type": "markdown",
   "id": "fe9419bb",
   "metadata": {},
   "source": [
    "## ASGI"
   ]
  },
  {
   "cell_type": "code",
   "execution_count": null,
   "id": "6b6d5900",
   "metadata": {},
   "outputs": [
    {
     "name": "stdout",
     "output_type": "stream",
     "text": [
      "Overwriting example/example/asgi.py\n"
     ]
    }
   ],
   "source": [
    "%%writefile example/example/asgi.py\n",
    "# dont_test\n",
    "import os\n",
    "\n",
    "import django\n",
    "from django.core.asgi import get_asgi_application\n",
    "\n",
    "from fileresponse.handlers import AsyncFileASGIHandler\n",
    "\n",
    "from . import urls\n",
    "\n",
    "os.environ.setdefault('DJANGO_SETTINGS_MODULE', 'example.settings')\n",
    "\n",
    "\n",
    "def get_fileresponse_asgi_application():\n",
    "    \"\"\"\n",
    "    The public interface to Django's ASGI support. Return an ASGI 3 callable.\n",
    "\n",
    "    Avoids making django.core.handlers.ASGIHandler a public API, in case the\n",
    "    internal implementation changes or moves in the future.\n",
    "    \"\"\"\n",
    "    django.setup(set_prefix=False)\n",
    "    urls.urlpatterns = urls.async_urlpatterns\n",
    "    return AsyncFileASGIHandler()\n",
    "\n",
    "\n",
    "def get_minio_application():\n",
    "    django.setup(set_prefix=False)\n",
    "    urls.urlpatterns = urls.minio_urlpatterns\n",
    "    return AsyncFileASGIHandler()\n",
    "\n",
    "\n",
    "# application = get_asgi_application()\n",
    "application = get_fileresponse_asgi_application()"
   ]
  },
  {
   "cell_type": "markdown",
   "id": "73eddb7f",
   "metadata": {},
   "source": [
    "## Settings"
   ]
  },
  {
   "cell_type": "code",
   "execution_count": null,
   "id": "e433546b",
   "metadata": {},
   "outputs": [
    {
     "name": "stdout",
     "output_type": "stream",
     "text": [
      "Overwriting example/example/settings.py\n"
     ]
    }
   ],
   "source": [
    "%%writefile example/example/settings.py\n",
    "# dont_test\n",
    "\n",
    "\n",
    "from pathlib import Path\n",
    "\n",
    "# Build paths inside the project like this: BASE_DIR / 'subdir'.\n",
    "BASE_DIR = Path(__file__).resolve().parent.parent\n",
    "\n",
    "\n",
    "# Quick-start development settings - unsuitable for production\n",
    "# See https://docs.djangoproject.com/en/3.2/howto/deployment/checklist/\n",
    "\n",
    "# SECURITY WARNING: keep the secret key used in production secret!\n",
    "SECRET_KEY = 'django-insecure-eyj(*+5=#xb1(5$50p*k0%5evl)80dcoh(i6(tx9a7dq9i5#9f'\n",
    "\n",
    "# SECURITY WARNING: don't run with debug turned on in production!\n",
    "DEBUG = True\n",
    "\n",
    "ALLOWED_HOSTS = []\n",
    "\n",
    "\n",
    "# Application definition\n",
    "\n",
    "INSTALLED_APPS = [\n",
    "    'django.contrib.admin',\n",
    "    'django.contrib.auth',\n",
    "    'django.contrib.contenttypes',\n",
    "    'django.contrib.sessions',\n",
    "    'django.contrib.messages',\n",
    "    'django.contrib.staticfiles',\n",
    "]\n",
    "\n",
    "MIDDLEWARE = [\n",
    "    'django.middleware.security.SecurityMiddleware',\n",
    "    'django.contrib.sessions.middleware.SessionMiddleware',\n",
    "    'django.middleware.common.CommonMiddleware',\n",
    "    'django.middleware.csrf.CsrfViewMiddleware',\n",
    "    'django.contrib.auth.middleware.AuthenticationMiddleware',\n",
    "    'django.contrib.messages.middleware.MessageMiddleware',\n",
    "    'django.middleware.clickjacking.XFrameOptionsMiddleware',\n",
    "]\n",
    "\n",
    "ROOT_URLCONF = 'example.urls'\n",
    "\n",
    "TEMPLATES = [\n",
    "    {\n",
    "        'BACKEND': 'django.template.backends.django.DjangoTemplates',\n",
    "        'DIRS': [],\n",
    "        'APP_DIRS': True,\n",
    "        'OPTIONS': {\n",
    "            'context_processors': [\n",
    "                'django.template.context_processors.debug',\n",
    "                'django.template.context_processors.request',\n",
    "                'django.contrib.auth.context_processors.auth',\n",
    "                'django.contrib.messages.context_processors.messages',\n",
    "            ],\n",
    "        },\n",
    "    },\n",
    "]\n",
    "\n",
    "WSGI_APPLICATION = 'example.wsgi.application'\n",
    "\n",
    "\n",
    "# Database\n",
    "# https://docs.djangoproject.com/en/3.2/ref/settings/#databases\n",
    "\n",
    "DATABASES = {\n",
    "    'default': {\n",
    "        'ENGINE': 'django.db.backends.sqlite3',\n",
    "        'NAME': BASE_DIR / 'db.sqlite3',\n",
    "    }\n",
    "}\n",
    "\n",
    "\n",
    "# Password validation\n",
    "# https://docs.djangoproject.com/en/3.2/ref/settings/#auth-password-validators\n",
    "\n",
    "AUTH_PASSWORD_VALIDATORS = [\n",
    "    {\n",
    "        'NAME': 'django.contrib.auth.password_validation.UserAttributeSimilarityValidator',\n",
    "    },\n",
    "    {\n",
    "        'NAME': 'django.contrib.auth.password_validation.MinimumLengthValidator',\n",
    "    },\n",
    "    {\n",
    "        'NAME': 'django.contrib.auth.password_validation.CommonPasswordValidator',\n",
    "    },\n",
    "    {\n",
    "        'NAME': 'django.contrib.auth.password_validation.NumericPasswordValidator',\n",
    "    },\n",
    "]\n",
    "\n",
    "\n",
    "# Internationalization\n",
    "# https://docs.djangoproject.com/en/3.2/topics/i18n/\n",
    "\n",
    "LANGUAGE_CODE = 'en-us'\n",
    "\n",
    "TIME_ZONE = 'UTC'\n",
    "\n",
    "USE_I18N = True\n",
    "\n",
    "USE_L10N = True\n",
    "\n",
    "USE_TZ = True\n",
    "\n",
    "\n",
    "# Static files (CSS, JavaScript, Images)\n",
    "# https://docs.djangoproject.com/en/3.2/howto/static-files/\n",
    "\n",
    "STATIC_URL = '/static/'\n",
    "\n",
    "# Default primary key field type\n",
    "# https://docs.djangoproject.com/en/3.2/ref/settings/#default-auto-field\n",
    "\n",
    "DEFAULT_AUTO_FIELD = 'django.db.models.BigAutoField'\n",
    "\n",
    "# AWS S3 / MinIO settings\n",
    "DJANGO_AWS_ACCESS_KEY_ID=\"minioadmin\"\n",
    "DJANGO_AWS_SECRET_ACCESS_KEY=\"minioadmin\"\n",
    "DJANGO_AWS_REGION=\"us-west-2\"\n",
    "DJANGO_AWS_STORAGE_BUCKET_NAME=\"fileresponse\"\n",
    "MINIO_ENDPOINT_URL=\"http://localhost:9000\""
   ]
  },
  {
   "cell_type": "markdown",
   "id": "b9163152",
   "metadata": {},
   "source": [
    "## Apply Migrations"
   ]
  },
  {
   "cell_type": "code",
   "execution_count": null,
   "id": "ba92eb60",
   "metadata": {},
   "outputs": [
    {
     "name": "stdout",
     "output_type": "stream",
     "text": [
      "/Users/jochen/projects/django_fileresponse/example\n",
      "WARNING: `pyenv init -` no longer sets PATH.\n",
      "Run `pyenv init` to see the necessary changes to make to your configuration.\n",
      "\u001b[36;1mOperations to perform:\u001b[0m\n",
      "\u001b[1m  Apply all migrations: \u001b[0madmin, auth, contenttypes, sessions\n",
      "\u001b[36;1mRunning migrations:\u001b[0m\n",
      "  Applying contenttypes.0001_initial...\u001b[32;1m OK\u001b[0m\n",
      "  Applying auth.0001_initial...\u001b[32;1m OK\u001b[0m\n",
      "  Applying admin.0001_initial...\u001b[32;1m OK\u001b[0m\n",
      "  Applying admin.0002_logentry_remove_auto_add...\u001b[32;1m OK\u001b[0m\n",
      "  Applying admin.0003_logentry_add_action_flag_choices...\u001b[32;1m OK\u001b[0m\n",
      "  Applying contenttypes.0002_remove_content_type_name...\u001b[32;1m OK\u001b[0m\n",
      "  Applying auth.0002_alter_permission_name_max_length...\u001b[32;1m OK\u001b[0m\n",
      "  Applying auth.0003_alter_user_email_max_length...\u001b[32;1m OK\u001b[0m\n",
      "  Applying auth.0004_alter_user_username_opts...\u001b[32;1m OK\u001b[0m\n",
      "  Applying auth.0005_alter_user_last_login_null...\u001b[32;1m OK\u001b[0m\n",
      "  Applying auth.0006_require_contenttypes_0002...\u001b[32;1m OK\u001b[0m\n",
      "  Applying auth.0007_alter_validators_add_error_messages...\u001b[32;1m OK\u001b[0m\n",
      "  Applying auth.0008_alter_user_username_max_length...\u001b[32;1m OK\u001b[0m\n",
      "  Applying auth.0009_alter_user_last_name_max_length...\u001b[32;1m OK\u001b[0m\n",
      "  Applying auth.0010_alter_group_name_max_length...\u001b[32;1m OK\u001b[0m\n",
      "  Applying auth.0011_update_proxy_permissions...\u001b[32;1m OK\u001b[0m\n",
      "  Applying auth.0012_alter_user_first_name_max_length...\u001b[32;1m OK\u001b[0m\n",
      "  Applying sessions.0001_initial...\u001b[32;1m OK\u001b[0m\n"
     ]
    }
   ],
   "source": [
    "# dont_test\n",
    "\n",
    "%cd example\n",
    "!python manage.py migrate"
   ]
  },
  {
   "cell_type": "markdown",
   "id": "8fcb301a",
   "metadata": {},
   "source": [
    "## Link example to Notebooks Directory"
   ]
  },
  {
   "cell_type": "code",
   "execution_count": null,
   "id": "7d0d361e",
   "metadata": {},
   "outputs": [
    {
     "name": "stdout",
     "output_type": "stream",
     "text": [
      "/Users/jochen/projects/django_fileresponse/nbs\n",
      "WARNING: `pyenv init -` no longer sets PATH.\n",
      "Run `pyenv init` to see the necessary changes to make to your configuration.\n",
      "ln: ./example: File exists\n",
      "/Users/jochen/projects/django_fileresponse/example\n"
     ]
    }
   ],
   "source": [
    "# dont_test\n",
    "\n",
    "%cd ../nbs\n",
    "!ln -s ../example/example .\n",
    "%cd -"
   ]
  },
  {
   "cell_type": "markdown",
   "id": "1387cae4",
   "metadata": {},
   "source": [
    "## Start Server\n",
    "\n",
    "Just run:\n",
    "```shell\n",
    "python manage.py runserver 0.0.0.0:8000\n",
    "```"
   ]
  },
  {
   "cell_type": "code",
   "execution_count": null,
   "id": "fd46ebc7",
   "metadata": {},
   "outputs": [
    {
     "name": "stdout",
     "output_type": "stream",
     "text": [
      "WARNING: `pyenv init -` no longer sets PATH.\n",
      "Run `pyenv init` to see the necessary changes to make to your configuration.\n",
      "Watching for file changes with StatReloader\n",
      "Performing system checks...\n",
      "\n",
      "System check identified no issues (0 silenced).\n",
      "June 18, 2021 - 12:27:45\n",
      "Django version 3.2.4, using settings 'example.settings'\n",
      "Starting development server at http://0.0.0.0:8000/\n",
      "Quit the server with CONTROL-C.\n",
      "^C\n"
     ]
    }
   ],
   "source": [
    "# dont_test\n",
    "\n",
    "!python manage.py runserver 0.0.0.0:8000"
   ]
  }
 ],
 "metadata": {
  "kernelspec": {
   "display_name": "Python 3",
   "language": "python",
   "name": "python3"
  }
 },
 "nbformat": 4,
 "nbformat_minor": 5
}
