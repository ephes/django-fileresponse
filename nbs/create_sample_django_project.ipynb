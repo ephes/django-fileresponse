{
 "cells": [
  {
   "cell_type": "markdown",
   "id": "ef19512c",
   "metadata": {},
   "source": [
    "# Create an Example Django Project"
   ]
  },
  {
   "cell_type": "markdown",
   "id": "24d27dde",
   "metadata": {},
   "source": [
    "## Use django-admin to bootstrap the project"
   ]
  },
  {
   "cell_type": "code",
   "execution_count": null,
   "id": "9f70c2d2",
   "metadata": {},
   "outputs": [
    {
     "name": "stdout",
     "output_type": "stream",
     "text": [
      "/Users/jochen/projects/django_fileresponse\n"
     ]
    }
   ],
   "source": [
    "# dont_test\n",
    "\n",
    "%cd .."
   ]
  },
  {
   "cell_type": "code",
   "execution_count": null,
   "id": "2cffa636",
   "metadata": {},
   "outputs": [
    {
     "name": "stdout",
     "output_type": "stream",
     "text": [
      "/Users/jochen/projects/django_fileresponse\n",
      "\u001b[0m"
     ]
    }
   ],
   "source": [
    "# dont_test\n",
    "\n",
    "!django-admin startproject example"
   ]
  },
  {
   "cell_type": "markdown",
   "id": "c326215e",
   "metadata": {},
   "source": [
    "## Views"
   ]
  },
  {
   "cell_type": "code",
   "execution_count": null,
   "id": "52e40e98",
   "metadata": {},
   "outputs": [
    {
     "name": "stdout",
     "output_type": "stream",
     "text": [
      "Overwriting example/example/views.py\n"
     ]
    }
   ],
   "source": [
    "%%writefile example/example/views.py\n",
    "# dont_test\n",
    "\n",
    "import aiofiles\n",
    "\n",
    "from pathlib import Path\n",
    "\n",
    "from django.http import HttpResponse\n",
    "from django.http import FileResponse\n",
    "\n",
    "from fileresponse.http import AiofileFileResponse\n",
    "from fileresponse.http import AiobotocoreFileResponse\n",
    "\n",
    "\n",
    "def get_file(request, num=None):\n",
    "    file_path = Path(__file__).parent.parent / \"data\" / str(num)\n",
    "    print(str(file_path))\n",
    "    return FileResponse(file_path.open(\"rb\"))\n",
    "\n",
    "\n",
    "async def aget_file(request, num=None):\n",
    "    file_path = Path(__file__).parent.parent / \"data\" / str(num)\n",
    "    return AsyncFileResponse(file_path, chunk_size=1024)\n",
    "\n",
    "\n",
    "async def aminio_get_file(request, num=None):\n",
    "    bucket = \"fileresponse-test\"\n",
    "    key = str(num)\n",
    "    return AiobotocoreFileResponse(bucket, key, chunk_size=4096)"
   ]
  },
  {
   "cell_type": "markdown",
   "id": "ba327de3",
   "metadata": {},
   "source": [
    "## Urls"
   ]
  },
  {
   "cell_type": "code",
   "execution_count": null,
   "id": "b7cc9aaa",
   "metadata": {},
   "outputs": [
    {
     "name": "stdout",
     "output_type": "stream",
     "text": [
      "Overwriting example/example/urls.py\n"
     ]
    }
   ],
   "source": [
    "%%writefile example/example/urls.py\n",
    "# dont_test\n",
    "\n",
    "from django.urls import path\n",
    "\n",
    "from . import views\n",
    "\n",
    "urlpatterns = [\n",
    "    path('<int:num>', views.get_file),\n",
    "]\n",
    "\n",
    "async_urlpatterns = [\n",
    "    path('<int:num>', views.aget_file),\n",
    "]\n",
    "\n",
    "minio_urlpatterns = [\n",
    "    path('<int:num>', views.aminio_get_file),\n",
    "]"
   ]
  },
  {
   "cell_type": "markdown",
   "id": "375659ba",
   "metadata": {},
   "source": [
    "## ASGI"
   ]
  },
  {
   "cell_type": "code",
   "execution_count": null,
   "id": "792c3693",
   "metadata": {},
   "outputs": [
    {
     "name": "stdout",
     "output_type": "stream",
     "text": [
      "Overwriting example/example/asgi.py\n"
     ]
    }
   ],
   "source": [
    "%%writefile example/example/asgi.py\n",
    "# dont_test\n",
    "import os\n",
    "\n",
    "import django\n",
    "from django.core.asgi import get_asgi_application\n",
    "\n",
    "from fileresponse.handlers import AsyncFileASGIHandler\n",
    "\n",
    "from . import urls\n",
    "\n",
    "os.environ.setdefault('DJANGO_SETTINGS_MODULE', 'example.settings')\n",
    "\n",
    "\n",
    "def get_fileresponse_asgi_application():\n",
    "    \"\"\"\n",
    "    The public interface to Django's ASGI support. Return an ASGI 3 callable.\n",
    "\n",
    "    Avoids making django.core.handlers.ASGIHandler a public API, in case the\n",
    "    internal implementation changes or moves in the future.\n",
    "    \"\"\"\n",
    "    django.setup(set_prefix=False)\n",
    "    urls.urlpatterns = urls.async_urlpatterns\n",
    "    return AsyncFileASGIHandler()\n",
    "\n",
    "\n",
    "def get_minio_application():\n",
    "    django.setup(set_prefix=False)\n",
    "    urls.urlpatterns = urls.minio_urlpatterns\n",
    "    return AsyncFileASGIHandler()\n",
    "\n",
    "\n",
    "# application = get_asgi_application()\n",
    "application = get_fileresponse_asgi_application()"
   ]
  },
  {
   "cell_type": "markdown",
   "id": "bf2c1ec2",
   "metadata": {},
   "source": [
    "## Apply Migrations"
   ]
  },
  {
   "cell_type": "code",
   "execution_count": null,
   "id": "351c30b6",
   "metadata": {},
   "outputs": [
    {
     "name": "stdout",
     "output_type": "stream",
     "text": [
      "/Users/jochen/projects/django_fileresponse/example\n",
      "\u001b[36;1mOperations to perform:\u001b[0m\n",
      "\u001b[1m  Apply all migrations: \u001b[0madmin, auth, contenttypes, sessions\n",
      "\u001b[36;1mRunning migrations:\u001b[0m\n",
      "  Applying contenttypes.0001_initial...\u001b[32;1m OK\u001b[0m\n",
      "  Applying auth.0001_initial...\u001b[32;1m OK\u001b[0m\n",
      "  Applying admin.0001_initial...\u001b[32;1m OK\u001b[0m\n",
      "  Applying admin.0002_logentry_remove_auto_add...\u001b[32;1m OK\u001b[0m\n",
      "  Applying admin.0003_logentry_add_action_flag_choices...\u001b[32;1m OK\u001b[0m\n",
      "  Applying contenttypes.0002_remove_content_type_name...\u001b[32;1m OK\u001b[0m\n",
      "  Applying auth.0002_alter_permission_name_max_length...\u001b[32;1m OK\u001b[0m\n",
      "  Applying auth.0003_alter_user_email_max_length...\u001b[32;1m OK\u001b[0m\n",
      "  Applying auth.0004_alter_user_username_opts...\u001b[32;1m OK\u001b[0m\n",
      "  Applying auth.0005_alter_user_last_login_null...\u001b[32;1m OK\u001b[0m\n",
      "  Applying auth.0006_require_contenttypes_0002...\u001b[32;1m OK\u001b[0m\n",
      "  Applying auth.0007_alter_validators_add_error_messages...\u001b[32;1m OK\u001b[0m\n",
      "  Applying auth.0008_alter_user_username_max_length...\u001b[32;1m OK\u001b[0m\n",
      "  Applying auth.0009_alter_user_last_name_max_length...\u001b[32;1m OK\u001b[0m\n",
      "  Applying auth.0010_alter_group_name_max_length...\u001b[32;1m OK\u001b[0m\n",
      "  Applying auth.0011_update_proxy_permissions...\u001b[32;1m OK\u001b[0m\n",
      "  Applying auth.0012_alter_user_first_name_max_length...\u001b[32;1m OK\u001b[0m\n",
      "  Applying sessions.0001_initial...\u001b[32;1m OK\u001b[0m\n",
      "\u001b[0m"
     ]
    }
   ],
   "source": [
    "# dont_test\n",
    "\n",
    "%cd example\n",
    "!python manage.py migrate"
   ]
  },
  {
   "cell_type": "markdown",
   "id": "0dcd6bff",
   "metadata": {},
   "source": [
    "## Link example to Notebooks Directory"
   ]
  },
  {
   "cell_type": "code",
   "execution_count": null,
   "id": "45c5fd71",
   "metadata": {},
   "outputs": [
    {
     "name": "stdout",
     "output_type": "stream",
     "text": [
      "/Users/jochen/projects/django_fileresponse/nbs\n",
      "ln: ./example: File exists\n",
      "/Users/jochen/projects/django_fileresponse/example\n"
     ]
    }
   ],
   "source": [
    "# dont_test\n",
    "\n",
    "%cd ../nbs\n",
    "!ln -s ../example/example .\n",
    "%cd -"
   ]
  },
  {
   "cell_type": "markdown",
   "id": "2af68601",
   "metadata": {},
   "source": [
    "## Start Server\n",
    "\n",
    "Just run:\n",
    "```shell\n",
    "python manage.py runserver 0.0.0.0:8000\n",
    "```"
   ]
  }
 ],
 "metadata": {
  "kernelspec": {
   "display_name": "Python 3",
   "language": "python",
   "name": "python3"
  }
 },
 "nbformat": 4,
 "nbformat_minor": 5
}
