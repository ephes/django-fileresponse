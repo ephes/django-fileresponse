{
 "cells": [
  {
   "cell_type": "code",
   "execution_count": null,
   "id": "5800024f",
   "metadata": {},
   "outputs": [
    {
     "data": {
      "application/javascript": [
       "\n",
       "            setTimeout(function() {\n",
       "                var nbb_cell_id = 10;\n",
       "                var nbb_unformatted_code = \"# hide\\n# dont_test\\n%load_ext nb_black\";\n",
       "                var nbb_formatted_code = \"# hide\\n# dont_test\\n%load_ext nb_black\";\n",
       "                var nbb_cells = Jupyter.notebook.get_cells();\n",
       "                for (var i = 0; i < nbb_cells.length; ++i) {\n",
       "                    if (nbb_cells[i].input_prompt_number == nbb_cell_id) {\n",
       "                        if (nbb_cells[i].get_text() == nbb_unformatted_code) {\n",
       "                             nbb_cells[i].set_text(nbb_formatted_code);\n",
       "                        }\n",
       "                        break;\n",
       "                    }\n",
       "                }\n",
       "            }, 500);\n",
       "            "
      ],
      "text/plain": [
       "<IPython.core.display.Javascript object>"
      ]
     },
     "metadata": {},
     "output_type": "display_data"
    }
   ],
   "source": [
    "# hide\n",
    "# dont_test\n",
    "%load_ext nb_black"
   ]
  },
  {
   "cell_type": "markdown",
   "id": "5c6ace2d",
   "metadata": {},
   "source": [
    "# Create an Example Django Project"
   ]
  },
  {
   "cell_type": "markdown",
   "id": "faf15e9b",
   "metadata": {},
   "source": [
    "## Use django-admin to bootstrap the project"
   ]
  },
  {
   "cell_type": "code",
   "execution_count": null,
   "id": "186e40ad",
   "metadata": {},
   "outputs": [
    {
     "name": "stdout",
     "output_type": "stream",
     "text": [
      "/Users/jochen/projects/django_fileresponse\n"
     ]
    },
    {
     "data": {
      "application/javascript": [
       "\n",
       "            setTimeout(function() {\n",
       "                var nbb_cell_id = 11;\n",
       "                var nbb_unformatted_code = \"# dont_test\\n\\n%cd ..\";\n",
       "                var nbb_formatted_code = \"# dont_test\\n\\n%cd ..\";\n",
       "                var nbb_cells = Jupyter.notebook.get_cells();\n",
       "                for (var i = 0; i < nbb_cells.length; ++i) {\n",
       "                    if (nbb_cells[i].input_prompt_number == nbb_cell_id) {\n",
       "                        if (nbb_cells[i].get_text() == nbb_unformatted_code) {\n",
       "                             nbb_cells[i].set_text(nbb_formatted_code);\n",
       "                        }\n",
       "                        break;\n",
       "                    }\n",
       "                }\n",
       "            }, 500);\n",
       "            "
      ],
      "text/plain": [
       "<IPython.core.display.Javascript object>"
      ]
     },
     "metadata": {},
     "output_type": "display_data"
    }
   ],
   "source": [
    "# dont_test\n",
    "\n",
    "%cd .."
   ]
  },
  {
   "cell_type": "code",
   "execution_count": null,
   "id": "c6f99d60",
   "metadata": {},
   "outputs": [
    {
     "name": "stdout",
     "output_type": "stream",
     "text": [
      "\u001b[0m"
     ]
    }
   ],
   "source": [
    "# dont_test\n",
    "\n",
    "!django-admin startproject example"
   ]
  },
  {
   "cell_type": "markdown",
   "id": "2ab18e1d",
   "metadata": {},
   "source": [
    "## Views"
   ]
  },
  {
   "cell_type": "code",
   "execution_count": null,
   "id": "0f2a8b88",
   "metadata": {},
   "outputs": [
    {
     "name": "stdout",
     "output_type": "stream",
     "text": [
      "Overwriting example/example/views.py\n"
     ]
    },
    {
     "data": {
      "application/javascript": [
       "\n",
       "            setTimeout(function() {\n",
       "                var nbb_cell_id = 12;\n",
       "                var nbb_unformatted_code = \"%%writefile example/example/views.py\\n# dont_test\\n\\nimport aiofiles\\n\\nfrom pathlib import Path\\n\\nfrom django.conf import settings\\nfrom django.http import HttpResponse\\nfrom django.http import FileResponse\\n\\nfrom fileresponse.http import AiofileFileResponse\\nfrom fileresponse.http import AiobotocoreFileResponse\\n\\n\\ndef get_file(request, num=None):\\n    file_path = Path(__file__).parent.parent / \\\"data\\\" / str(num)\\n    print(str(file_path))\\n    return FileResponse(file_path.open(\\\"rb\\\"))\\n\\n\\nasync def aget_file(request, num=None):\\n    file_path = Path(__file__).parent.parent / \\\"data\\\" / str(num)\\n    return AiofileFileResponse(file_path, chunk_size=4096)\\n\\n\\nasync def aminio_get_file(request, num=None):\\n    bucket = settings.DJANGO_AWS_STORAGE_BUCKET_NAME\\n    key = str(num)\\n    return AiobotocoreFileResponse(bucket, key, chunk_size=4096)\";\n",
       "                var nbb_formatted_code = \"%%writefile example/example/views.py\\n# dont_test\\n\\nimport aiofiles\\n\\nfrom pathlib import Path\\n\\nfrom django.conf import settings\\nfrom django.http import HttpResponse\\nfrom django.http import FileResponse\\n\\nfrom fileresponse.http import AiofileFileResponse\\nfrom fileresponse.http import AiobotocoreFileResponse\\n\\n\\ndef get_file(request, num=None):\\n    file_path = Path(__file__).parent.parent / \\\"data\\\" / str(num)\\n    print(str(file_path))\\n    return FileResponse(file_path.open(\\\"rb\\\"))\\n\\n\\nasync def aget_file(request, num=None):\\n    file_path = Path(__file__).parent.parent / \\\"data\\\" / str(num)\\n    return AiofileFileResponse(file_path, chunk_size=4096)\\n\\n\\nasync def aminio_get_file(request, num=None):\\n    bucket = settings.DJANGO_AWS_STORAGE_BUCKET_NAME\\n    key = str(num)\\n    return AiobotocoreFileResponse(bucket, key, chunk_size=4096)\";\n",
       "                var nbb_cells = Jupyter.notebook.get_cells();\n",
       "                for (var i = 0; i < nbb_cells.length; ++i) {\n",
       "                    if (nbb_cells[i].input_prompt_number == nbb_cell_id) {\n",
       "                        if (nbb_cells[i].get_text() == nbb_unformatted_code) {\n",
       "                             nbb_cells[i].set_text(nbb_formatted_code);\n",
       "                        }\n",
       "                        break;\n",
       "                    }\n",
       "                }\n",
       "            }, 500);\n",
       "            "
      ],
      "text/plain": [
       "<IPython.core.display.Javascript object>"
      ]
     },
     "metadata": {},
     "output_type": "display_data"
    }
   ],
   "source": [
    "%%writefile example/example/views.py\n",
    "# dont_test\n",
    "\n",
    "import aiofiles\n",
    "\n",
    "from pathlib import Path\n",
    "\n",
    "from django.conf import settings\n",
    "from django.http import HttpResponse\n",
    "from django.http import FileResponse\n",
    "\n",
    "from fileresponse.http import AiofileFileResponse\n",
    "from fileresponse.http import AiobotocoreFileResponse\n",
    "\n",
    "\n",
    "def get_file(request, num=None):\n",
    "    file_path = Path(__file__).parent.parent / \"data\" / str(num)\n",
    "    print(str(file_path))\n",
    "    return FileResponse(file_path.open(\"rb\"))\n",
    "\n",
    "\n",
    "async def aget_file(request, num=None):\n",
    "    file_path = Path(__file__).parent.parent / \"data\" / str(num)\n",
    "    return AiofileFileResponse(file_path, chunk_size=4096)\n",
    "\n",
    "\n",
    "async def aminio_get_file(request, num=None):\n",
    "    bucket = settings.DJANGO_AWS_STORAGE_BUCKET_NAME\n",
    "    key = str(num)\n",
    "    return AiobotocoreFileResponse(bucket, key, chunk_size=4096)"
   ]
  },
  {
   "cell_type": "markdown",
   "id": "b568254d",
   "metadata": {},
   "source": [
    "## Urls"
   ]
  },
  {
   "cell_type": "code",
   "execution_count": null,
   "id": "1e2d068e",
   "metadata": {},
   "outputs": [
    {
     "name": "stdout",
     "output_type": "stream",
     "text": [
      "Overwriting example/example/urls.py\n"
     ]
    },
    {
     "data": {
      "application/javascript": [
       "\n",
       "            setTimeout(function() {\n",
       "                var nbb_cell_id = 20;\n",
       "                var nbb_unformatted_code = \"%%writefile example/example/urls.py\\n# dont_test\\n\\nfrom django.urls import path\\n\\nfrom . import views\\n\\nurlpatterns = [\\n    path(\\\"sync/<int:num>\\\", views.get_file),\\n    path(\\\"async_filesystem/<int:num>\\\", views.aget_file),\\n    path(\\\"async_minio/<int:num>\\\", views.aminio_get_file),\\n]\";\n",
       "                var nbb_formatted_code = \"%%writefile example/example/urls.py\\n# dont_test\\n\\nfrom django.urls import path\\n\\nfrom . import views\\n\\nurlpatterns = [\\n    path(\\\"sync/<int:num>\\\", views.get_file),\\n    path(\\\"async_filesystem/<int:num>\\\", views.aget_file),\\n    path(\\\"async_minio/<int:num>\\\", views.aminio_get_file),\\n]\";\n",
       "                var nbb_cells = Jupyter.notebook.get_cells();\n",
       "                for (var i = 0; i < nbb_cells.length; ++i) {\n",
       "                    if (nbb_cells[i].input_prompt_number == nbb_cell_id) {\n",
       "                        if (nbb_cells[i].get_text() == nbb_unformatted_code) {\n",
       "                             nbb_cells[i].set_text(nbb_formatted_code);\n",
       "                        }\n",
       "                        break;\n",
       "                    }\n",
       "                }\n",
       "            }, 500);\n",
       "            "
      ],
      "text/plain": [
       "<IPython.core.display.Javascript object>"
      ]
     },
     "metadata": {},
     "output_type": "display_data"
    }
   ],
   "source": [
    "%%writefile example/example/urls.py\n",
    "# dont_test\n",
    "\n",
    "from django.urls import path\n",
    "\n",
    "from . import views\n",
    "\n",
    "urlpatterns = [\n",
    "    path(\"sync/<int:num>\", views.get_file),\n",
    "    path(\"async_filesystem/<int:num>\", views.aget_file),\n",
    "    path(\"async_minio/<int:num>\", views.aminio_get_file),\n",
    "]"
   ]
  },
  {
   "cell_type": "markdown",
   "id": "fe9419bb",
   "metadata": {},
   "source": [
    "## ASGI"
   ]
  },
  {
   "cell_type": "code",
   "execution_count": null,
   "id": "6b6d5900",
   "metadata": {},
   "outputs": [
    {
     "name": "stdout",
     "output_type": "stream",
     "text": [
      "Overwriting example/example/asgi.py\n"
     ]
    },
    {
     "data": {
      "application/javascript": [
       "\n",
       "            setTimeout(function() {\n",
       "                var nbb_cell_id = 18;\n",
       "                var nbb_unformatted_code = \"%%writefile example/example/asgi.py\\n# dont_test\\nimport os\\nimport django\\n\\nfrom fileresponse.asgi import get_asgi_application\\n\\nfrom . import urls\\n\\nos.environ.setdefault('DJANGO_SETTINGS_MODULE', 'example.settings')\\napplication = get_asgi_application()\";\n",
       "                var nbb_formatted_code = \"%%writefile example/example/asgi.py\\n# dont_test\\nimport os\\nimport django\\n\\nfrom fileresponse.asgi import get_asgi_application\\n\\nfrom . import urls\\n\\nos.environ.setdefault('DJANGO_SETTINGS_MODULE', 'example.settings')\\napplication = get_asgi_application()\";\n",
       "                var nbb_cells = Jupyter.notebook.get_cells();\n",
       "                for (var i = 0; i < nbb_cells.length; ++i) {\n",
       "                    if (nbb_cells[i].input_prompt_number == nbb_cell_id) {\n",
       "                        if (nbb_cells[i].get_text() == nbb_unformatted_code) {\n",
       "                             nbb_cells[i].set_text(nbb_formatted_code);\n",
       "                        }\n",
       "                        break;\n",
       "                    }\n",
       "                }\n",
       "            }, 500);\n",
       "            "
      ],
      "text/plain": [
       "<IPython.core.display.Javascript object>"
      ]
     },
     "metadata": {},
     "output_type": "display_data"
    }
   ],
   "source": [
    "%%writefile example/example/asgi.py\n",
    "# dont_test\n",
    "import os\n",
    "import django\n",
    "\n",
    "from fileresponse.asgi import get_asgi_application\n",
    "\n",
    "from . import urls\n",
    "\n",
    "os.environ.setdefault('DJANGO_SETTINGS_MODULE', 'example.settings')\n",
    "application = get_asgi_application()"
   ]
  },
  {
   "cell_type": "markdown",
   "id": "73eddb7f",
   "metadata": {},
   "source": [
    "## Settings"
   ]
  },
  {
   "cell_type": "code",
   "execution_count": null,
   "id": "e433546b",
   "metadata": {},
   "outputs": [
    {
     "name": "stdout",
     "output_type": "stream",
     "text": [
      "Overwriting example/example/settings.py\n"
     ]
    },
    {
     "data": {
      "application/javascript": [
       "\n",
       "            setTimeout(function() {\n",
       "                var nbb_cell_id = 21;\n",
       "                var nbb_unformatted_code = \"%%writefile example/example/settings.py\\n# dont_test\\n\\n\\nfrom pathlib import Path\\n\\n# Build paths inside the project like this: BASE_DIR / \\\"subdir\\\".\\nBASE_DIR = Path(__file__).resolve().parent.parent\\n\\n\\n# Quick-start development settings - unsuitable for production\\n# See https://docs.djangoproject.com/en/3.2/howto/deployment/checklist/\\n\\n# SECURITY WARNING: keep the secret key used in production secret!\\nSECRET_KEY = \\\"django-insecure-eyj(*+5=#xb1(5$50p*k0%5evl)80dcoh(i6(tx9a7dq9i5#9f\\\"\\n\\n# SECURITY WARNING: don\\\"t run with debug turned on in production!\\nDEBUG = True\\n\\nALLOWED_HOSTS = []\\n\\n\\n# Application definition\\n\\nINSTALLED_APPS = [\\n    \\\"django.contrib.admin\\\",\\n    \\\"django.contrib.auth\\\",\\n    \\\"django.contrib.contenttypes\\\",\\n    \\\"django.contrib.sessions\\\",\\n    \\\"django.contrib.messages\\\",\\n    \\\"django.contrib.staticfiles\\\",\\n]\\n\\nMIDDLEWARE = [\\n    \\\"django.middleware.security.SecurityMiddleware\\\",\\n    \\\"django.contrib.sessions.middleware.SessionMiddleware\\\",\\n    \\\"django.middleware.common.CommonMiddleware\\\",\\n    \\\"django.middleware.csrf.CsrfViewMiddleware\\\",\\n    \\\"django.contrib.auth.middleware.AuthenticationMiddleware\\\",\\n    \\\"django.contrib.messages.middleware.MessageMiddleware\\\",\\n    \\\"django.middleware.clickjacking.XFrameOptionsMiddleware\\\",\\n]\\n\\nROOT_URLCONF = \\\"example.urls\\\"\\n\\nTEMPLATES = [\\n    {\\n        \\\"BACKEND\\\": \\\"django.template.backends.django.DjangoTemplates\\\",\\n        \\\"DIRS\\\": [],\\n        \\\"APP_DIRS\\\": True,\\n        \\\"OPTIONS\\\": {\\n            \\\"context_processors\\\": [\\n                \\\"django.template.context_processors.debug\\\",\\n                \\\"django.template.context_processors.request\\\",\\n                \\\"django.contrib.auth.context_processors.auth\\\",\\n                \\\"django.contrib.messages.context_processors.messages\\\",\\n            ],\\n        },\\n    },\\n]\\n\\nWSGI_APPLICATION = \\\"example.wsgi.application\\\"\\n\\n\\n# Database\\n# https://docs.djangoproject.com/en/3.2/ref/settings/#databases\\n\\nDATABASES = {\\n    \\\"default\\\": {\\n        \\\"ENGINE\\\": \\\"django.db.backends.sqlite3\\\",\\n        \\\"NAME\\\": BASE_DIR / \\\"db.sqlite3\\\",\\n    }\\n}\\n\\n\\n# Password validation\\n# https://docs.djangoproject.com/en/3.2/ref/settings/#auth-password-validators\\n\\nAUTH_PASSWORD_VALIDATORS = [\\n    {\\n        \\\"NAME\\\": \\\"django.contrib.auth.password_validation.UserAttributeSimilarityValidator\\\",\\n    },\\n    {\\n        \\\"NAME\\\": \\\"django.contrib.auth.password_validation.MinimumLengthValidator\\\",\\n    },\\n    {\\n        \\\"NAME\\\": \\\"django.contrib.auth.password_validation.CommonPasswordValidator\\\",\\n    },\\n    {\\n        \\\"NAME\\\": \\\"django.contrib.auth.password_validation.NumericPasswordValidator\\\",\\n    },\\n]\\n\\n\\n# Internationalization\\n# https://docs.djangoproject.com/en/3.2/topics/i18n/\\n\\nLANGUAGE_CODE = \\\"en-us\\\"\\n\\nTIME_ZONE = \\\"UTC\\\"\\n\\nUSE_I18N = True\\n\\nUSE_L10N = True\\n\\nUSE_TZ = True\\n\\n\\n# Static files (CSS, JavaScript, Images)\\n# https://docs.djangoproject.com/en/3.2/howto/static-files/\\n\\nSTATIC_URL = \\\"/static/\\\"\\n\\n# Default primary key field type\\n# https://docs.djangoproject.com/en/3.2/ref/settings/#default-auto-field\\n\\nDEFAULT_AUTO_FIELD = \\\"django.db.models.BigAutoField\\\"\\n\\n# AWS S3 / MinIO settings\\nFILERESPONSE_S3_ACCESS_KEY_ID=\\\"minioadmin\\\"\\nFILERESPONSE_S3_SECRET_ACCESS_KEY=\\\"minioadmin\\\"\\nFILERESPONSE_S3_REGION=\\\"us-west-2\\\"\\nFILERESPONSE_S3_STORAGE_BUCKET_NAME=\\\"fileresponse\\\"\\nFILERESPONSE_S3_ENDPOINT_URL=\\\"http://localhost:9000\\\"\";\n",
       "                var nbb_formatted_code = \"%%writefile example/example/settings.py\\n# dont_test\\n\\n\\nfrom pathlib import Path\\n\\n# Build paths inside the project like this: BASE_DIR / \\\"subdir\\\".\\nBASE_DIR = Path(__file__).resolve().parent.parent\\n\\n\\n# Quick-start development settings - unsuitable for production\\n# See https://docs.djangoproject.com/en/3.2/howto/deployment/checklist/\\n\\n# SECURITY WARNING: keep the secret key used in production secret!\\nSECRET_KEY = \\\"django-insecure-eyj(*+5=#xb1(5$50p*k0%5evl)80dcoh(i6(tx9a7dq9i5#9f\\\"\\n\\n# SECURITY WARNING: don\\\"t run with debug turned on in production!\\nDEBUG = True\\n\\nALLOWED_HOSTS = []\\n\\n\\n# Application definition\\n\\nINSTALLED_APPS = [\\n    \\\"django.contrib.admin\\\",\\n    \\\"django.contrib.auth\\\",\\n    \\\"django.contrib.contenttypes\\\",\\n    \\\"django.contrib.sessions\\\",\\n    \\\"django.contrib.messages\\\",\\n    \\\"django.contrib.staticfiles\\\",\\n]\\n\\nMIDDLEWARE = [\\n    \\\"django.middleware.security.SecurityMiddleware\\\",\\n    \\\"django.contrib.sessions.middleware.SessionMiddleware\\\",\\n    \\\"django.middleware.common.CommonMiddleware\\\",\\n    \\\"django.middleware.csrf.CsrfViewMiddleware\\\",\\n    \\\"django.contrib.auth.middleware.AuthenticationMiddleware\\\",\\n    \\\"django.contrib.messages.middleware.MessageMiddleware\\\",\\n    \\\"django.middleware.clickjacking.XFrameOptionsMiddleware\\\",\\n]\\n\\nROOT_URLCONF = \\\"example.urls\\\"\\n\\nTEMPLATES = [\\n    {\\n        \\\"BACKEND\\\": \\\"django.template.backends.django.DjangoTemplates\\\",\\n        \\\"DIRS\\\": [],\\n        \\\"APP_DIRS\\\": True,\\n        \\\"OPTIONS\\\": {\\n            \\\"context_processors\\\": [\\n                \\\"django.template.context_processors.debug\\\",\\n                \\\"django.template.context_processors.request\\\",\\n                \\\"django.contrib.auth.context_processors.auth\\\",\\n                \\\"django.contrib.messages.context_processors.messages\\\",\\n            ],\\n        },\\n    },\\n]\\n\\nWSGI_APPLICATION = \\\"example.wsgi.application\\\"\\n\\n\\n# Database\\n# https://docs.djangoproject.com/en/3.2/ref/settings/#databases\\n\\nDATABASES = {\\n    \\\"default\\\": {\\n        \\\"ENGINE\\\": \\\"django.db.backends.sqlite3\\\",\\n        \\\"NAME\\\": BASE_DIR / \\\"db.sqlite3\\\",\\n    }\\n}\\n\\n\\n# Password validation\\n# https://docs.djangoproject.com/en/3.2/ref/settings/#auth-password-validators\\n\\nAUTH_PASSWORD_VALIDATORS = [\\n    {\\n        \\\"NAME\\\": \\\"django.contrib.auth.password_validation.UserAttributeSimilarityValidator\\\",\\n    },\\n    {\\n        \\\"NAME\\\": \\\"django.contrib.auth.password_validation.MinimumLengthValidator\\\",\\n    },\\n    {\\n        \\\"NAME\\\": \\\"django.contrib.auth.password_validation.CommonPasswordValidator\\\",\\n    },\\n    {\\n        \\\"NAME\\\": \\\"django.contrib.auth.password_validation.NumericPasswordValidator\\\",\\n    },\\n]\\n\\n\\n# Internationalization\\n# https://docs.djangoproject.com/en/3.2/topics/i18n/\\n\\nLANGUAGE_CODE = \\\"en-us\\\"\\n\\nTIME_ZONE = \\\"UTC\\\"\\n\\nUSE_I18N = True\\n\\nUSE_L10N = True\\n\\nUSE_TZ = True\\n\\n\\n# Static files (CSS, JavaScript, Images)\\n# https://docs.djangoproject.com/en/3.2/howto/static-files/\\n\\nSTATIC_URL = \\\"/static/\\\"\\n\\n# Default primary key field type\\n# https://docs.djangoproject.com/en/3.2/ref/settings/#default-auto-field\\n\\nDEFAULT_AUTO_FIELD = \\\"django.db.models.BigAutoField\\\"\\n\\n# AWS S3 / MinIO settings\\nFILERESPONSE_S3_ACCESS_KEY_ID=\\\"minioadmin\\\"\\nFILERESPONSE_S3_SECRET_ACCESS_KEY=\\\"minioadmin\\\"\\nFILERESPONSE_S3_REGION=\\\"us-west-2\\\"\\nFILERESPONSE_S3_STORAGE_BUCKET_NAME=\\\"fileresponse\\\"\\nFILERESPONSE_S3_ENDPOINT_URL=\\\"http://localhost:9000\\\"\";\n",
       "                var nbb_cells = Jupyter.notebook.get_cells();\n",
       "                for (var i = 0; i < nbb_cells.length; ++i) {\n",
       "                    if (nbb_cells[i].input_prompt_number == nbb_cell_id) {\n",
       "                        if (nbb_cells[i].get_text() == nbb_unformatted_code) {\n",
       "                             nbb_cells[i].set_text(nbb_formatted_code);\n",
       "                        }\n",
       "                        break;\n",
       "                    }\n",
       "                }\n",
       "            }, 500);\n",
       "            "
      ],
      "text/plain": [
       "<IPython.core.display.Javascript object>"
      ]
     },
     "metadata": {},
     "output_type": "display_data"
    }
   ],
   "source": [
    "%%writefile example/example/settings.py\n",
    "# dont_test\n",
    "\n",
    "\n",
    "from pathlib import Path\n",
    "\n",
    "# Build paths inside the project like this: BASE_DIR / \"subdir\".\n",
    "BASE_DIR = Path(__file__).resolve().parent.parent\n",
    "\n",
    "\n",
    "# Quick-start development settings - unsuitable for production\n",
    "# See https://docs.djangoproject.com/en/3.2/howto/deployment/checklist/\n",
    "\n",
    "# SECURITY WARNING: keep the secret key used in production secret!\n",
    "SECRET_KEY = \"django-insecure-eyj(*+5=#xb1(5$50p*k0%5evl)80dcoh(i6(tx9a7dq9i5#9f\"\n",
    "\n",
    "# SECURITY WARNING: don\"t run with debug turned on in production!\n",
    "DEBUG = True\n",
    "\n",
    "ALLOWED_HOSTS = []\n",
    "\n",
    "\n",
    "# Application definition\n",
    "\n",
    "INSTALLED_APPS = [\n",
    "    \"django.contrib.admin\",\n",
    "    \"django.contrib.auth\",\n",
    "    \"django.contrib.contenttypes\",\n",
    "    \"django.contrib.sessions\",\n",
    "    \"django.contrib.messages\",\n",
    "    \"django.contrib.staticfiles\",\n",
    "]\n",
    "\n",
    "MIDDLEWARE = [\n",
    "    \"django.middleware.security.SecurityMiddleware\",\n",
    "    \"django.contrib.sessions.middleware.SessionMiddleware\",\n",
    "    \"django.middleware.common.CommonMiddleware\",\n",
    "    \"django.middleware.csrf.CsrfViewMiddleware\",\n",
    "    \"django.contrib.auth.middleware.AuthenticationMiddleware\",\n",
    "    \"django.contrib.messages.middleware.MessageMiddleware\",\n",
    "    \"django.middleware.clickjacking.XFrameOptionsMiddleware\",\n",
    "]\n",
    "\n",
    "ROOT_URLCONF = \"example.urls\"\n",
    "\n",
    "TEMPLATES = [\n",
    "    {\n",
    "        \"BACKEND\": \"django.template.backends.django.DjangoTemplates\",\n",
    "        \"DIRS\": [],\n",
    "        \"APP_DIRS\": True,\n",
    "        \"OPTIONS\": {\n",
    "            \"context_processors\": [\n",
    "                \"django.template.context_processors.debug\",\n",
    "                \"django.template.context_processors.request\",\n",
    "                \"django.contrib.auth.context_processors.auth\",\n",
    "                \"django.contrib.messages.context_processors.messages\",\n",
    "            ],\n",
    "        },\n",
    "    },\n",
    "]\n",
    "\n",
    "WSGI_APPLICATION = \"example.wsgi.application\"\n",
    "\n",
    "\n",
    "# Database\n",
    "# https://docs.djangoproject.com/en/3.2/ref/settings/#databases\n",
    "\n",
    "DATABASES = {\n",
    "    \"default\": {\n",
    "        \"ENGINE\": \"django.db.backends.sqlite3\",\n",
    "        \"NAME\": BASE_DIR / \"db.sqlite3\",\n",
    "    }\n",
    "}\n",
    "\n",
    "\n",
    "# Password validation\n",
    "# https://docs.djangoproject.com/en/3.2/ref/settings/#auth-password-validators\n",
    "\n",
    "AUTH_PASSWORD_VALIDATORS = [\n",
    "    {\n",
    "        \"NAME\": \"django.contrib.auth.password_validation.UserAttributeSimilarityValidator\",\n",
    "    },\n",
    "    {\n",
    "        \"NAME\": \"django.contrib.auth.password_validation.MinimumLengthValidator\",\n",
    "    },\n",
    "    {\n",
    "        \"NAME\": \"django.contrib.auth.password_validation.CommonPasswordValidator\",\n",
    "    },\n",
    "    {\n",
    "        \"NAME\": \"django.contrib.auth.password_validation.NumericPasswordValidator\",\n",
    "    },\n",
    "]\n",
    "\n",
    "\n",
    "# Internationalization\n",
    "# https://docs.djangoproject.com/en/3.2/topics/i18n/\n",
    "\n",
    "LANGUAGE_CODE = \"en-us\"\n",
    "\n",
    "TIME_ZONE = \"UTC\"\n",
    "\n",
    "USE_I18N = True\n",
    "\n",
    "USE_L10N = True\n",
    "\n",
    "USE_TZ = True\n",
    "\n",
    "\n",
    "# Static files (CSS, JavaScript, Images)\n",
    "# https://docs.djangoproject.com/en/3.2/howto/static-files/\n",
    "\n",
    "STATIC_URL = \"/static/\"\n",
    "\n",
    "# Default primary key field type\n",
    "# https://docs.djangoproject.com/en/3.2/ref/settings/#default-auto-field\n",
    "\n",
    "DEFAULT_AUTO_FIELD = \"django.db.models.BigAutoField\"\n",
    "\n",
    "# AWS S3 / MinIO settings\n",
    "FILERESPONSE_S3_ACCESS_KEY_ID=\"minioadmin\"\n",
    "FILERESPONSE_S3_SECRET_ACCESS_KEY=\"minioadmin\"\n",
    "FILERESPONSE_S3_REGION=\"us-west-2\"\n",
    "FILERESPONSE_S3_STORAGE_BUCKET_NAME=\"fileresponse\"\n",
    "FILERESPONSE_S3_ENDPOINT_URL=\"http://localhost:9000\""
   ]
  },
  {
   "cell_type": "markdown",
   "id": "b9163152",
   "metadata": {},
   "source": [
    "## Apply Migrations"
   ]
  },
  {
   "cell_type": "code",
   "execution_count": null,
   "id": "ba92eb60",
   "metadata": {},
   "outputs": [
    {
     "name": "stdout",
     "output_type": "stream",
     "text": [
      "/Users/jochen/projects/django_fileresponse/example\n",
      "\u001b[36;1mOperations to perform:\u001b[0m\n",
      "\u001b[1m  Apply all migrations: \u001b[0madmin, auth, contenttypes, sessions\n",
      "\u001b[36;1mRunning migrations:\u001b[0m\n",
      "  Applying contenttypes.0001_initial...\u001b[32;1m OK\u001b[0m\n",
      "  Applying auth.0001_initial...\u001b[32;1m OK\u001b[0m\n",
      "  Applying admin.0001_initial...\u001b[32;1m OK\u001b[0m\n",
      "  Applying admin.0002_logentry_remove_auto_add...\u001b[32;1m OK\u001b[0m\n",
      "  Applying admin.0003_logentry_add_action_flag_choices...\u001b[32;1m OK\u001b[0m\n",
      "  Applying contenttypes.0002_remove_content_type_name...\u001b[32;1m OK\u001b[0m\n",
      "  Applying auth.0002_alter_permission_name_max_length...\u001b[32;1m OK\u001b[0m\n",
      "  Applying auth.0003_alter_user_email_max_length...\u001b[32;1m OK\u001b[0m\n",
      "  Applying auth.0004_alter_user_username_opts...\u001b[32;1m OK\u001b[0m\n",
      "  Applying auth.0005_alter_user_last_login_null...\u001b[32;1m OK\u001b[0m\n",
      "  Applying auth.0006_require_contenttypes_0002...\u001b[32;1m OK\u001b[0m\n",
      "  Applying auth.0007_alter_validators_add_error_messages...\u001b[32;1m OK\u001b[0m\n",
      "  Applying auth.0008_alter_user_username_max_length...\u001b[32;1m OK\u001b[0m\n",
      "  Applying auth.0009_alter_user_last_name_max_length...\u001b[32;1m OK\u001b[0m\n",
      "  Applying auth.0010_alter_group_name_max_length...\u001b[32;1m OK\u001b[0m\n",
      "  Applying auth.0011_update_proxy_permissions...\u001b[32;1m OK\u001b[0m\n",
      "  Applying auth.0012_alter_user_first_name_max_length...\u001b[32;1m OK\u001b[0m\n",
      "  Applying sessions.0001_initial...\u001b[32;1m OK\u001b[0m\n",
      "\u001b[0m"
     ]
    }
   ],
   "source": [
    "# dont_test\n",
    "\n",
    "%cd example\n",
    "!python manage.py migrate"
   ]
  },
  {
   "cell_type": "markdown",
   "id": "8fcb301a",
   "metadata": {},
   "source": [
    "## Link example to Notebooks Directory"
   ]
  },
  {
   "cell_type": "code",
   "execution_count": null,
   "id": "7d0d361e",
   "metadata": {},
   "outputs": [
    {
     "name": "stdout",
     "output_type": "stream",
     "text": [
      "/Users/jochen/projects/django_fileresponse/nbs\n",
      "ln: ./example: File exists\n",
      "/Users/jochen/projects/django_fileresponse/example\n"
     ]
    }
   ],
   "source": [
    "# dont_test\n",
    "\n",
    "%cd ../nbs\n",
    "!ln -s ../example/example .\n",
    "%cd -"
   ]
  },
  {
   "cell_type": "markdown",
   "id": "1387cae4",
   "metadata": {},
   "source": [
    "## Start Server\n",
    "\n",
    "Just run:\n",
    "```shell\n",
    "python manage.py runserver 0.0.0.0:8000\n",
    "```"
   ]
  },
  {
   "cell_type": "code",
   "execution_count": null,
   "id": "fd46ebc7",
   "metadata": {},
   "outputs": [
    {
     "name": "stdout",
     "output_type": "stream",
     "text": [
      "Watching for file changes with StatReloader\n",
      "Performing system checks...\n",
      "\n",
      "System check identified no issues (0 silenced).\n",
      "June 21, 2021 - 08:13:00\n",
      "Django version 3.2.3, using settings 'example.settings'\n",
      "Starting development server at http://0.0.0.0:8000/\n",
      "Quit the server with CONTROL-C.\n",
      "/Users/jochen/projects/django_fileresponse/example/data/0\n",
      "[21/Jun/2021 08:13:25] \u001b[m\"GET /0 HTTP/1.1\" 200 10485760\u001b[0m\n",
      "/Users/jochen/projects/django_fileresponse/example/data/1\n",
      "[21/Jun/2021 08:13:25] \u001b[m\"GET /1 HTTP/1.1\" 200 10485760\u001b[0m\n",
      "/Users/jochen/projects/django_fileresponse/example/data/2\n",
      "[21/Jun/2021 08:13:25] \u001b[m\"GET /2 HTTP/1.1\" 200 10485760\u001b[0m\n",
      "/Users/jochen/projects/django_fileresponse/example/data/3\n",
      "[21/Jun/2021 08:13:25] \u001b[m\"GET /3 HTTP/1.1\" 200 10485760\u001b[0m\n",
      "/Users/jochen/projects/django_fileresponse/example/data/4\n",
      "[21/Jun/2021 08:13:25] \u001b[m\"GET /4 HTTP/1.1\" 200 10485760\u001b[0m\n",
      "/Users/jochen/projects/django_fileresponse/example/data/5\n",
      "[21/Jun/2021 08:13:25] \u001b[m\"GET /5 HTTP/1.1\" 200 10485760\u001b[0m\n",
      "/Users/jochen/projects/django_fileresponse/example/data/6\n",
      "[21/Jun/2021 08:13:25] \u001b[m\"GET /6 HTTP/1.1\" 200 10485760\u001b[0m\n",
      "/Users/jochen/projects/django_fileresponse/example/data/7\n",
      "[21/Jun/2021 08:13:25] \u001b[m\"GET /7 HTTP/1.1\" 200 10485760\u001b[0m\n",
      "/Users/jochen/projects/django_fileresponse/example/data/8\n",
      "[21/Jun/2021 08:13:25] \u001b[m\"GET /8 HTTP/1.1\" 200 10485760\u001b[0m\n",
      "/Users/jochen/projects/django_fileresponse/example/data/9\n",
      "[21/Jun/2021 08:13:25] \u001b[m\"GET /9 HTTP/1.1\" 200 10485760\u001b[0m\n",
      "/Users/jochen/projects/django_fileresponse/example/data/10\n",
      "[21/Jun/2021 08:13:25] \u001b[m\"GET /10 HTTP/1.1\" 200 10485760\u001b[0m\n",
      "/Users/jochen/projects/django_fileresponse/example/data/11\n",
      "[21/Jun/2021 08:13:26] \u001b[m\"GET /11 HTTP/1.1\" 200 10485760\u001b[0m\n",
      "/Users/jochen/projects/django_fileresponse/example/data/12\n",
      "[21/Jun/2021 08:13:26] \u001b[m\"GET /12 HTTP/1.1\" 200 10485760\u001b[0m\n",
      "/Users/jochen/projects/django_fileresponse/example/data/13\n",
      "[21/Jun/2021 08:13:26] \u001b[m\"GET /13 HTTP/1.1\" 200 10485760\u001b[0m\n",
      "/Users/jochen/projects/django_fileresponse/example/data/14\n",
      "[21/Jun/2021 08:13:26] \u001b[m\"GET /14 HTTP/1.1\" 200 10485760\u001b[0m\n",
      "/Users/jochen/projects/django_fileresponse/example/data/15\n",
      "[21/Jun/2021 08:13:26] \u001b[m\"GET /15 HTTP/1.1\" 200 10485760\u001b[0m\n",
      "/Users/jochen/projects/django_fileresponse/example/data/16\n",
      "[21/Jun/2021 08:13:26] \u001b[m\"GET /16 HTTP/1.1\" 200 10485760\u001b[0m\n",
      "/Users/jochen/projects/django_fileresponse/example/data/17\n",
      "[21/Jun/2021 08:13:26] \u001b[m\"GET /17 HTTP/1.1\" 200 10485760\u001b[0m\n",
      "/Users/jochen/projects/django_fileresponse/example/data/18\n",
      "[21/Jun/2021 08:13:26] \u001b[m\"GET /18 HTTP/1.1\" 200 10485760\u001b[0m\n",
      "/Users/jochen/projects/django_fileresponse/example/data/19\n",
      "[21/Jun/2021 08:13:26] \u001b[m\"GET /19 HTTP/1.1\" 200 10485760\u001b[0m\n",
      "/Users/jochen/projects/django_fileresponse/example/data/20\n",
      "[21/Jun/2021 08:13:26] \u001b[m\"GET /20 HTTP/1.1\" 200 10485760\u001b[0m\n",
      "/Users/jochen/projects/django_fileresponse/example/data/21\n",
      "[21/Jun/2021 08:13:26] \u001b[m\"GET /21 HTTP/1.1\" 200 10485760\u001b[0m\n",
      "/Users/jochen/projects/django_fileresponse/example/data/22\n",
      "[21/Jun/2021 08:13:26] \u001b[m\"GET /22 HTTP/1.1\" 200 10485760\u001b[0m\n",
      "/Users/jochen/projects/django_fileresponse/example/data/23\n",
      "[21/Jun/2021 08:13:26] \u001b[m\"GET /23 HTTP/1.1\" 200 10485760\u001b[0m\n",
      "/Users/jochen/projects/django_fileresponse/example/data/24\n",
      "[21/Jun/2021 08:13:26] \u001b[m\"GET /24 HTTP/1.1\" 200 10485760\u001b[0m\n",
      "/Users/jochen/projects/django_fileresponse/example/data/25\n",
      "[21/Jun/2021 08:13:26] \u001b[m\"GET /25 HTTP/1.1\" 200 10485760\u001b[0m\n",
      "/Users/jochen/projects/django_fileresponse/example/data/26\n",
      "[21/Jun/2021 08:13:26] \u001b[m\"GET /26 HTTP/1.1\" 200 10485760\u001b[0m\n",
      "/Users/jochen/projects/django_fileresponse/example/data/27\n",
      "[21/Jun/2021 08:13:26] \u001b[m\"GET /27 HTTP/1.1\" 200 10485760\u001b[0m\n",
      "/Users/jochen/projects/django_fileresponse/example/data/28\n",
      "[21/Jun/2021 08:13:26] \u001b[m\"GET /28 HTTP/1.1\" 200 10485760\u001b[0m\n",
      "/Users/jochen/projects/django_fileresponse/example/data/29\n",
      "[21/Jun/2021 08:13:26] \u001b[m\"GET /29 HTTP/1.1\" 200 10485760\u001b[0m\n",
      "/Users/jochen/projects/django_fileresponse/example/data/30\n",
      "[21/Jun/2021 08:13:26] \u001b[m\"GET /30 HTTP/1.1\" 200 10485760\u001b[0m\n",
      "/Users/jochen/projects/django_fileresponse/example/data/31\n",
      "[21/Jun/2021 08:13:26] \u001b[m\"GET /31 HTTP/1.1\" 200 10485760\u001b[0m\n",
      "/Users/jochen/projects/django_fileresponse/example/data/32\n",
      "[21/Jun/2021 08:13:27] \u001b[m\"GET /32 HTTP/1.1\" 200 10485760\u001b[0m\n",
      "/Users/jochen/projects/django_fileresponse/example/data/33\n",
      "[21/Jun/2021 08:13:27] \u001b[m\"GET /33 HTTP/1.1\" 200 10485760\u001b[0m\n",
      "/Users/jochen/projects/django_fileresponse/example/data/34\n",
      "[21/Jun/2021 08:13:27] \u001b[m\"GET /34 HTTP/1.1\" 200 10485760\u001b[0m\n",
      "/Users/jochen/projects/django_fileresponse/example/data/35\n",
      "[21/Jun/2021 08:13:27] \u001b[m\"GET /35 HTTP/1.1\" 200 10485760\u001b[0m\n",
      "/Users/jochen/projects/django_fileresponse/example/data/36\n",
      "[21/Jun/2021 08:13:27] \u001b[m\"GET /36 HTTP/1.1\" 200 10485760\u001b[0m\n",
      "/Users/jochen/projects/django_fileresponse/example/data/37\n",
      "[21/Jun/2021 08:13:27] \u001b[m\"GET /37 HTTP/1.1\" 200 10485760\u001b[0m\n",
      "/Users/jochen/projects/django_fileresponse/example/data/38\n",
      "[21/Jun/2021 08:13:27] \u001b[m\"GET /38 HTTP/1.1\" 200 10485760\u001b[0m\n",
      "/Users/jochen/projects/django_fileresponse/example/data/39\n",
      "[21/Jun/2021 08:13:27] \u001b[m\"GET /39 HTTP/1.1\" 200 10485760\u001b[0m\n",
      "/Users/jochen/projects/django_fileresponse/example/data/40\n",
      "[21/Jun/2021 08:13:27] \u001b[m\"GET /40 HTTP/1.1\" 200 10485760\u001b[0m\n",
      "/Users/jochen/projects/django_fileresponse/example/data/41\n",
      "[21/Jun/2021 08:13:27] \u001b[m\"GET /41 HTTP/1.1\" 200 10485760\u001b[0m\n",
      "/Users/jochen/projects/django_fileresponse/example/data/42\n",
      "[21/Jun/2021 08:13:27] \u001b[m\"GET /42 HTTP/1.1\" 200 10485760\u001b[0m\n",
      "/Users/jochen/projects/django_fileresponse/example/data/43\n",
      "[21/Jun/2021 08:13:27] \u001b[m\"GET /43 HTTP/1.1\" 200 10485760\u001b[0m\n",
      "/Users/jochen/projects/django_fileresponse/example/data/44\n",
      "[21/Jun/2021 08:13:27] \u001b[m\"GET /44 HTTP/1.1\" 200 10485760\u001b[0m\n",
      "/Users/jochen/projects/django_fileresponse/example/data/45\n",
      "[21/Jun/2021 08:13:27] \u001b[m\"GET /45 HTTP/1.1\" 200 10485760\u001b[0m\n",
      "/Users/jochen/projects/django_fileresponse/example/data/46\n",
      "[21/Jun/2021 08:13:27] \u001b[m\"GET /46 HTTP/1.1\" 200 10485760\u001b[0m\n",
      "/Users/jochen/projects/django_fileresponse/example/data/47\n",
      "[21/Jun/2021 08:13:27] \u001b[m\"GET /47 HTTP/1.1\" 200 10485760\u001b[0m\n",
      "/Users/jochen/projects/django_fileresponse/example/data/48\n",
      "[21/Jun/2021 08:13:27] \u001b[m\"GET /48 HTTP/1.1\" 200 10485760\u001b[0m\n",
      "/Users/jochen/projects/django_fileresponse/example/data/49\n",
      "[21/Jun/2021 08:13:27] \u001b[m\"GET /49 HTTP/1.1\" 200 10485760\u001b[0m\n",
      "/Users/jochen/projects/django_fileresponse/example/data/50\n",
      "[21/Jun/2021 08:13:27] \u001b[m\"GET /50 HTTP/1.1\" 200 10485760\u001b[0m\n",
      "/Users/jochen/projects/django_fileresponse/example/data/51\n",
      "[21/Jun/2021 08:13:27] \u001b[m\"GET /51 HTTP/1.1\" 200 10485760\u001b[0m\n",
      "/Users/jochen/projects/django_fileresponse/example/data/52\n",
      "[21/Jun/2021 08:13:27] \u001b[m\"GET /52 HTTP/1.1\" 200 10485760\u001b[0m\n",
      "/Users/jochen/projects/django_fileresponse/example/data/53\n",
      "[21/Jun/2021 08:13:27] \u001b[m\"GET /53 HTTP/1.1\" 200 10485760\u001b[0m\n",
      "/Users/jochen/projects/django_fileresponse/example/data/54\n",
      "[21/Jun/2021 08:13:27] \u001b[m\"GET /54 HTTP/1.1\" 200 10485760\u001b[0m\n",
      "/Users/jochen/projects/django_fileresponse/example/data/55\n",
      "[21/Jun/2021 08:13:27] \u001b[m\"GET /55 HTTP/1.1\" 200 10485760\u001b[0m\n",
      "/Users/jochen/projects/django_fileresponse/example/data/56\n",
      "[21/Jun/2021 08:13:28] \u001b[m\"GET /56 HTTP/1.1\" 200 10485760\u001b[0m\n",
      "/Users/jochen/projects/django_fileresponse/example/data/57\n",
      "[21/Jun/2021 08:13:28] \u001b[m\"GET /57 HTTP/1.1\" 200 10485760\u001b[0m\n",
      "/Users/jochen/projects/django_fileresponse/example/data/58\n",
      "[21/Jun/2021 08:13:28] \u001b[m\"GET /58 HTTP/1.1\" 200 10485760\u001b[0m\n",
      "/Users/jochen/projects/django_fileresponse/example/data/59\n",
      "[21/Jun/2021 08:13:28] \u001b[m\"GET /59 HTTP/1.1\" 200 10485760\u001b[0m\n",
      "/Users/jochen/projects/django_fileresponse/example/data/60\n",
      "[21/Jun/2021 08:13:28] \u001b[m\"GET /60 HTTP/1.1\" 200 10485760\u001b[0m\n",
      "/Users/jochen/projects/django_fileresponse/example/data/61\n",
      "[21/Jun/2021 08:13:28] \u001b[m\"GET /61 HTTP/1.1\" 200 10485760\u001b[0m\n",
      "/Users/jochen/projects/django_fileresponse/example/data/62\n",
      "[21/Jun/2021 08:13:28] \u001b[m\"GET /62 HTTP/1.1\" 200 10485760\u001b[0m\n",
      "/Users/jochen/projects/django_fileresponse/example/data/63\n",
      "[21/Jun/2021 08:13:28] \u001b[m\"GET /63 HTTP/1.1\" 200 10485760\u001b[0m\n",
      "/Users/jochen/projects/django_fileresponse/example/data/64\n",
      "[21/Jun/2021 08:13:28] \u001b[m\"GET /64 HTTP/1.1\" 200 10485760\u001b[0m\n",
      "/Users/jochen/projects/django_fileresponse/example/data/65\n",
      "[21/Jun/2021 08:13:28] \u001b[m\"GET /65 HTTP/1.1\" 200 10485760\u001b[0m\n",
      "/Users/jochen/projects/django_fileresponse/example/data/66\n",
      "[21/Jun/2021 08:13:28] \u001b[m\"GET /66 HTTP/1.1\" 200 10485760\u001b[0m\n"
     ]
    },
    {
     "name": "stdout",
     "output_type": "stream",
     "text": [
      "/Users/jochen/projects/django_fileresponse/example/data/67\n",
      "[21/Jun/2021 08:13:28] \u001b[m\"GET /67 HTTP/1.1\" 200 10485760\u001b[0m\n",
      "/Users/jochen/projects/django_fileresponse/example/data/68\n",
      "[21/Jun/2021 08:13:28] \u001b[m\"GET /68 HTTP/1.1\" 200 10485760\u001b[0m\n",
      "/Users/jochen/projects/django_fileresponse/example/data/69\n",
      "[21/Jun/2021 08:13:28] \u001b[m\"GET /69 HTTP/1.1\" 200 10485760\u001b[0m\n",
      "/Users/jochen/projects/django_fileresponse/example/data/70\n",
      "[21/Jun/2021 08:13:28] \u001b[m\"GET /70 HTTP/1.1\" 200 10485760\u001b[0m\n",
      "/Users/jochen/projects/django_fileresponse/example/data/71\n",
      "[21/Jun/2021 08:13:28] \u001b[m\"GET /71 HTTP/1.1\" 200 10485760\u001b[0m\n",
      "/Users/jochen/projects/django_fileresponse/example/data/72\n",
      "[21/Jun/2021 08:13:28] \u001b[m\"GET /72 HTTP/1.1\" 200 10485760\u001b[0m\n",
      "/Users/jochen/projects/django_fileresponse/example/data/73\n",
      "[21/Jun/2021 08:13:28] \u001b[m\"GET /73 HTTP/1.1\" 200 10485760\u001b[0m\n",
      "/Users/jochen/projects/django_fileresponse/example/data/74\n",
      "[21/Jun/2021 08:13:28] \u001b[m\"GET /74 HTTP/1.1\" 200 10485760\u001b[0m\n",
      "/Users/jochen/projects/django_fileresponse/example/data/75\n",
      "[21/Jun/2021 08:13:28] \u001b[m\"GET /75 HTTP/1.1\" 200 10485760\u001b[0m\n",
      "/Users/jochen/projects/django_fileresponse/example/data/76\n",
      "[21/Jun/2021 08:13:28] \u001b[m\"GET /76 HTTP/1.1\" 200 10485760\u001b[0m\n",
      "/Users/jochen/projects/django_fileresponse/example/data/77\n",
      "[21/Jun/2021 08:13:28] \u001b[m\"GET /77 HTTP/1.1\" 200 10485760\u001b[0m\n",
      "/Users/jochen/projects/django_fileresponse/example/data/78\n",
      "[21/Jun/2021 08:13:28] \u001b[m\"GET /78 HTTP/1.1\" 200 10485760\u001b[0m\n",
      "/Users/jochen/projects/django_fileresponse/example/data/79\n",
      "[21/Jun/2021 08:13:28] \u001b[m\"GET /79 HTTP/1.1\" 200 10485760\u001b[0m\n",
      "/Users/jochen/projects/django_fileresponse/example/data/80\n",
      "[21/Jun/2021 08:13:29] \u001b[m\"GET /80 HTTP/1.1\" 200 10485760\u001b[0m\n",
      "/Users/jochen/projects/django_fileresponse/example/data/81\n",
      "[21/Jun/2021 08:13:29] \u001b[m\"GET /81 HTTP/1.1\" 200 10485760\u001b[0m\n",
      "/Users/jochen/projects/django_fileresponse/example/data/82\n",
      "[21/Jun/2021 08:13:29] \u001b[m\"GET /82 HTTP/1.1\" 200 10485760\u001b[0m\n",
      "/Users/jochen/projects/django_fileresponse/example/data/83\n",
      "[21/Jun/2021 08:13:29] \u001b[m\"GET /83 HTTP/1.1\" 200 10485760\u001b[0m\n",
      "/Users/jochen/projects/django_fileresponse/example/data/84\n",
      "[21/Jun/2021 08:13:29] \u001b[m\"GET /84 HTTP/1.1\" 200 10485760\u001b[0m\n",
      "/Users/jochen/projects/django_fileresponse/example/data/85\n",
      "[21/Jun/2021 08:13:29] \u001b[m\"GET /85 HTTP/1.1\" 200 10485760\u001b[0m\n",
      "/Users/jochen/projects/django_fileresponse/example/data/86\n",
      "[21/Jun/2021 08:13:29] \u001b[m\"GET /86 HTTP/1.1\" 200 10485760\u001b[0m\n",
      "/Users/jochen/projects/django_fileresponse/example/data/87\n",
      "[21/Jun/2021 08:13:29] \u001b[m\"GET /87 HTTP/1.1\" 200 10485760\u001b[0m\n",
      "/Users/jochen/projects/django_fileresponse/example/data/88\n",
      "[21/Jun/2021 08:13:29] \u001b[m\"GET /88 HTTP/1.1\" 200 10485760\u001b[0m\n",
      "/Users/jochen/projects/django_fileresponse/example/data/89\n",
      "[21/Jun/2021 08:13:29] \u001b[m\"GET /89 HTTP/1.1\" 200 10485760\u001b[0m\n",
      "/Users/jochen/projects/django_fileresponse/example/data/90\n",
      "[21/Jun/2021 08:13:29] \u001b[m\"GET /90 HTTP/1.1\" 200 10485760\u001b[0m\n",
      "/Users/jochen/projects/django_fileresponse/example/data/91\n",
      "[21/Jun/2021 08:13:29] \u001b[m\"GET /91 HTTP/1.1\" 200 10485760\u001b[0m\n",
      "/Users/jochen/projects/django_fileresponse/example/data/92\n",
      "[21/Jun/2021 08:13:29] \u001b[m\"GET /92 HTTP/1.1\" 200 10485760\u001b[0m\n",
      "/Users/jochen/projects/django_fileresponse/example/data/93\n",
      "[21/Jun/2021 08:13:29] \u001b[m\"GET /93 HTTP/1.1\" 200 10485760\u001b[0m\n",
      "/Users/jochen/projects/django_fileresponse/example/data/94\n",
      "[21/Jun/2021 08:13:29] \u001b[m\"GET /94 HTTP/1.1\" 200 10485760\u001b[0m\n",
      "/Users/jochen/projects/django_fileresponse/example/data/95\n",
      "[21/Jun/2021 08:13:29] \u001b[m\"GET /95 HTTP/1.1\" 200 10485760\u001b[0m\n",
      "/Users/jochen/projects/django_fileresponse/example/data/96\n",
      "[21/Jun/2021 08:13:29] \u001b[m\"GET /96 HTTP/1.1\" 200 10485760\u001b[0m\n",
      "/Users/jochen/projects/django_fileresponse/example/data/97\n",
      "[21/Jun/2021 08:13:29] \u001b[m\"GET /97 HTTP/1.1\" 200 10485760\u001b[0m\n",
      "/Users/jochen/projects/django_fileresponse/example/data/98\n",
      "[21/Jun/2021 08:13:29] \u001b[m\"GET /98 HTTP/1.1\" 200 10485760\u001b[0m\n",
      "/Users/jochen/projects/django_fileresponse/example/data/99\n",
      "[21/Jun/2021 08:13:29] \u001b[m\"GET /99 HTTP/1.1\" 200 10485760\u001b[0m\n",
      "^C\n",
      "\u001b[0m\u001b[0m"
     ]
    }
   ],
   "source": [
    "# dont_test\n",
    "\n",
    "!python manage.py runserver 0.0.0.0:8000"
   ]
  }
 ],
 "metadata": {
  "kernelspec": {
   "display_name": "Python 3",
   "language": "python",
   "name": "python3"
  }
 },
 "nbformat": 4,
 "nbformat_minor": 5
}
