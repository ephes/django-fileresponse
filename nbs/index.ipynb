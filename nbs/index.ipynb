{
 "cells": [
  {
   "cell_type": "code",
   "execution_count": null,
   "metadata": {},
   "outputs": [
    {
     "data": {
      "application/javascript": [
       "\n",
       "            setTimeout(function() {\n",
       "                var nbb_cell_id = 1;\n",
       "                var nbb_unformatted_code = \"#hide\\n%load_ext nb_black\";\n",
       "                var nbb_formatted_code = \"# hide\\n%load_ext nb_black\";\n",
       "                var nbb_cells = Jupyter.notebook.get_cells();\n",
       "                for (var i = 0; i < nbb_cells.length; ++i) {\n",
       "                    if (nbb_cells[i].input_prompt_number == nbb_cell_id) {\n",
       "                        if (nbb_cells[i].get_text() == nbb_unformatted_code) {\n",
       "                             nbb_cells[i].set_text(nbb_formatted_code);\n",
       "                        }\n",
       "                        break;\n",
       "                    }\n",
       "                }\n",
       "            }, 500);\n",
       "            "
      ],
      "text/plain": [
       "<IPython.core.display.Javascript object>"
      ]
     },
     "metadata": {},
     "output_type": "display_data"
    }
   ],
   "source": [
    "# hide\n",
    "%load_ext nb_black"
   ]
  },
  {
   "cell_type": "markdown",
   "metadata": {},
   "source": [
    "# Welcome to django_fileresponse\n",
    "\n",
    "> Serve files directly from Django."
   ]
  },
  {
   "cell_type": "markdown",
   "metadata": {},
   "source": [
    "`django_fileresponse` is a library that allows you to serve files directly from Django."
   ]
  },
  {
   "cell_type": "markdown",
   "metadata": {},
   "source": [
    "## Features of django_fileresponse\n",
    "\n",
    "`django_fileresponse` provides the following features for developers:\n",
    "\n",
    "- **Use asyncio to serve files with high concurrency** directly from Django.\n",
    "- Uses [aiofiles](https://github.com/Tinche/aiofiles) to **asynchronously read from filesystem** and [aiobotocore](https://github.com/aio-libs/aiobotocore) to **asynchronously read from s3 compatible object stores**"
   ]
  },
  {
   "cell_type": "markdown",
   "metadata": {},
   "source": [
    "## Installing"
   ]
  },
  {
   "cell_type": "markdown",
   "metadata": {},
   "source": [
    "`django_fileresponse` is on PyPI so you can just run `pip install django_fileresponse`."
   ]
  },
  {
   "cell_type": "markdown",
   "metadata": {},
   "source": [
    "## Replace Default ASGIHandler\n",
    "\n",
    "You have to replace Djangos `ASGIHandler`, because it synchronously calls `__next__` in [for part in response](https://github.com/django/django/blob/66af94d56ea08ccf8d906708a6cc002dd3ab24d3/django/core/handlers/asgi.py#L242) which makes it impossible to await reading from a filesystem/object-store.\n",
    "\n",
    "\n",
    "So instead of building your application like this:\n",
    "```python\n",
    "from django.core.asgi import get_asgi_application\n",
    "\n",
    "application = get_asgi_application()\n",
    "```\n",
    "\n",
    "You have to import a modified ASGIHandler from fileresponse:\n",
    "```python\n",
    "from fileresponse.asgi import get_asgi_application\n",
    "\n",
    "application = get_asgi_application()\n",
    "```"
   ]
  },
  {
   "cell_type": "markdown",
   "metadata": {},
   "source": [
    "## How to use Async Fileresponses in your Views\n",
    "\n",
    "Add functions below to your `views.py`"
   ]
  },
  {
   "cell_type": "markdown",
   "metadata": {},
   "source": [
    "### Serving from Filesystem"
   ]
  },
  {
   "cell_type": "code",
   "execution_count": null,
   "metadata": {},
   "outputs": [
    {
     "data": {
      "application/javascript": [
       "\n",
       "            setTimeout(function() {\n",
       "                var nbb_cell_id = 2;\n",
       "                var nbb_unformatted_code = \"from fileresponse.http import AiofileFileResponse as AiofileFileResponse\\n\\n\\nasync def get_file(request, path):\\n    file_path = Path(path)\\n    return AiofileFileResponse(file_path)\";\n",
       "                var nbb_formatted_code = \"from fileresponse.http import AiofileFileResponse as AiofileFileResponse\\n\\n\\nasync def get_file(request, path):\\n    file_path = Path(path)\\n    return AiofileFileResponse(file_path)\";\n",
       "                var nbb_cells = Jupyter.notebook.get_cells();\n",
       "                for (var i = 0; i < nbb_cells.length; ++i) {\n",
       "                    if (nbb_cells[i].input_prompt_number == nbb_cell_id) {\n",
       "                        if (nbb_cells[i].get_text() == nbb_unformatted_code) {\n",
       "                             nbb_cells[i].set_text(nbb_formatted_code);\n",
       "                        }\n",
       "                        break;\n",
       "                    }\n",
       "                }\n",
       "            }, 500);\n",
       "            "
      ],
      "text/plain": [
       "<IPython.core.display.Javascript object>"
      ]
     },
     "metadata": {},
     "output_type": "display_data"
    }
   ],
   "source": [
    "from fileresponse.http import AiofileFileResponse as AiofileFileResponse\n",
    "\n",
    "\n",
    "async def get_file(request, path):\n",
    "    file_path = Path(path)\n",
    "    return AiofileFileResponse(file_path)"
   ]
  },
  {
   "cell_type": "markdown",
   "metadata": {},
   "source": [
    "### Serve Files from an S3 Compatible Object Store"
   ]
  },
  {
   "cell_type": "code",
   "execution_count": null,
   "metadata": {},
   "outputs": [
    {
     "data": {
      "application/javascript": [
       "\n",
       "            setTimeout(function() {\n",
       "                var nbb_cell_id = 3;\n",
       "                var nbb_unformatted_code = \"from fileresponse.http import AiobotocoreFileResponse\\n\\n\\nasync def get_file(request, key):\\n    bucket = settings.FILERESPONSE_S3_ACCESS_KEY_ID\\n    return AiobotocoreFileResponse(bucket, key, chunk_size=4096)\";\n",
       "                var nbb_formatted_code = \"from fileresponse.http import AiobotocoreFileResponse\\n\\n\\nasync def get_file(request, key):\\n    bucket = settings.FILERESPONSE_S3_ACCESS_KEY_ID\\n    return AiobotocoreFileResponse(bucket, key, chunk_size=4096)\";\n",
       "                var nbb_cells = Jupyter.notebook.get_cells();\n",
       "                for (var i = 0; i < nbb_cells.length; ++i) {\n",
       "                    if (nbb_cells[i].input_prompt_number == nbb_cell_id) {\n",
       "                        if (nbb_cells[i].get_text() == nbb_unformatted_code) {\n",
       "                             nbb_cells[i].set_text(nbb_formatted_code);\n",
       "                        }\n",
       "                        break;\n",
       "                    }\n",
       "                }\n",
       "            }, 500);\n",
       "            "
      ],
      "text/plain": [
       "<IPython.core.display.Javascript object>"
      ]
     },
     "metadata": {},
     "output_type": "display_data"
    }
   ],
   "source": [
    "from fileresponse.http import AiobotocoreFileResponse\n",
    "\n",
    "\n",
    "async def get_file(request, key):\n",
    "    bucket = settings.FILERESPONSE_S3_ACCESS_KEY_ID\n",
    "    return AiobotocoreFileResponse(bucket, key, chunk_size=4096)"
   ]
  }
 ],
 "metadata": {
  "kernelspec": {
   "display_name": "Python 3",
   "language": "python",
   "name": "python3"
  }
 },
 "nbformat": 4,
 "nbformat_minor": 2
}
