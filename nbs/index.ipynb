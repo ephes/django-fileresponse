{
 "cells": [
  {
   "cell_type": "code",
   "execution_count": null,
   "metadata": {},
   "outputs": [
    {
     "name": "stdout",
     "output_type": "stream",
     "text": [
      "The nb_black extension is already loaded. To reload it, use:\n",
      "  %reload_ext nb_black\n"
     ]
    },
    {
     "data": {
      "application/javascript": [
       "\n",
       "            setTimeout(function() {\n",
       "                var nbb_cell_id = 5;\n",
       "                var nbb_unformatted_code = \"# hide\\n# dont_test\\n%load_ext nb_black\";\n",
       "                var nbb_formatted_code = \"# hide\\n# dont_test\\n%load_ext nb_black\";\n",
       "                var nbb_cells = Jupyter.notebook.get_cells();\n",
       "                for (var i = 0; i < nbb_cells.length; ++i) {\n",
       "                    if (nbb_cells[i].input_prompt_number == nbb_cell_id) {\n",
       "                        if (nbb_cells[i].get_text() == nbb_unformatted_code) {\n",
       "                             nbb_cells[i].set_text(nbb_formatted_code);\n",
       "                        }\n",
       "                        break;\n",
       "                    }\n",
       "                }\n",
       "            }, 500);\n",
       "            "
      ],
      "text/plain": [
       "<IPython.core.display.Javascript object>"
      ]
     },
     "metadata": {},
     "output_type": "display_data"
    }
   ],
   "source": [
    "# hide\n",
    "# dont_test\n",
    "%load_ext nb_black"
   ]
  },
  {
   "cell_type": "markdown",
   "metadata": {},
   "source": [
    "# Welcome to django_fileresponse\n",
    "\n",
    "> Serve files directly from Django."
   ]
  },
  {
   "cell_type": "markdown",
   "metadata": {},
   "source": [
    "`django_fileresponse` is a library that allows you to serve files directly from Django."
   ]
  },
  {
   "cell_type": "markdown",
   "metadata": {},
   "source": [
    "## Features of django_fileresponse\n",
    "\n",
    "`django_fileresponse` provides the following features for developers:\n",
    "\n",
    "- **Use asyncio to serve files with high concurrency** directly from Django.\n",
    "- Uses [aiofiles](https://github.com/Tinche/aiofiles) to **asynchronously read from filesystem** and [aiobotocore](https://github.com/aio-libs/aiobotocore) to **asynchronously read from s3 compatible object stores**"
   ]
  },
  {
   "cell_type": "markdown",
   "metadata": {},
   "source": [
    "## Installing"
   ]
  },
  {
   "cell_type": "markdown",
   "metadata": {},
   "source": [
    "`django_fileresponse` is on PyPI so you can just run `pip install django_fileresponse`."
   ]
  },
  {
   "cell_type": "markdown",
   "metadata": {},
   "source": [
    "## Replace Default ASGIHandler\n",
    "\n",
    "You have to replace Djangos `ASGIHandler`, because it synchronously calls `__next__` in [for part in response](https://github.com/django/django/blob/66af94d56ea08ccf8d906708a6cc002dd3ab24d3/django/core/handlers/asgi.py#L242) which makes it impossible to await reading from a filesystem/object-store."
   ]
  },
  {
   "cell_type": "code",
   "execution_count": null,
   "metadata": {},
   "outputs": [
    {
     "data": {
      "application/javascript": [
       "\n",
       "            setTimeout(function() {\n",
       "                var nbb_cell_id = 12;\n",
       "                var nbb_unformatted_code = \"# hide\\n\\n# make django importable\\nimport django\\n\\nfrom django.conf import settings\\n\\n\\ntry:\\n    settings.configure()\\nexcept RuntimeError:\\n    pass\";\n",
       "                var nbb_formatted_code = \"# hide\\n\\n# make django importable\\nimport django\\n\\nfrom django.conf import settings\\n\\n\\ntry:\\n    settings.configure()\\nexcept RuntimeError:\\n    pass\";\n",
       "                var nbb_cells = Jupyter.notebook.get_cells();\n",
       "                for (var i = 0; i < nbb_cells.length; ++i) {\n",
       "                    if (nbb_cells[i].input_prompt_number == nbb_cell_id) {\n",
       "                        if (nbb_cells[i].get_text() == nbb_unformatted_code) {\n",
       "                             nbb_cells[i].set_text(nbb_formatted_code);\n",
       "                        }\n",
       "                        break;\n",
       "                    }\n",
       "                }\n",
       "            }, 500);\n",
       "            "
      ],
      "text/plain": [
       "<IPython.core.display.Javascript object>"
      ]
     },
     "metadata": {},
     "output_type": "display_data"
    }
   ],
   "source": [
    "# hide\n",
    "\n",
    "# make django importable\n",
    "import django\n",
    "\n",
    "from django.conf import settings\n",
    "\n",
    "\n",
    "try:\n",
    "    settings.configure()\n",
    "except RuntimeError:\n",
    "    pass"
   ]
  },
  {
   "cell_type": "markdown",
   "metadata": {},
   "source": [
    "So instead of building your application like this:"
   ]
  },
  {
   "cell_type": "code",
   "execution_count": null,
   "metadata": {},
   "outputs": [
    {
     "data": {
      "application/javascript": [
       "\n",
       "            setTimeout(function() {\n",
       "                var nbb_cell_id = 11;\n",
       "                var nbb_unformatted_code = \"from django.core.asgi import get_asgi_application\\n\\napplication = get_asgi_application()\";\n",
       "                var nbb_formatted_code = \"from django.core.asgi import get_asgi_application\\n\\napplication = get_asgi_application()\";\n",
       "                var nbb_cells = Jupyter.notebook.get_cells();\n",
       "                for (var i = 0; i < nbb_cells.length; ++i) {\n",
       "                    if (nbb_cells[i].input_prompt_number == nbb_cell_id) {\n",
       "                        if (nbb_cells[i].get_text() == nbb_unformatted_code) {\n",
       "                             nbb_cells[i].set_text(nbb_formatted_code);\n",
       "                        }\n",
       "                        break;\n",
       "                    }\n",
       "                }\n",
       "            }, 500);\n",
       "            "
      ],
      "text/plain": [
       "<IPython.core.display.Javascript object>"
      ]
     },
     "metadata": {},
     "output_type": "display_data"
    }
   ],
   "source": [
    "from django.core.asgi import get_asgi_application\n",
    "\n",
    "application = get_asgi_application()"
   ]
  },
  {
   "cell_type": "markdown",
   "metadata": {},
   "source": [
    "You have to import a modified ASGIHandler from fileresponse:"
   ]
  },
  {
   "cell_type": "code",
   "execution_count": null,
   "metadata": {},
   "outputs": [
    {
     "data": {
      "application/javascript": [
       "\n",
       "            setTimeout(function() {\n",
       "                var nbb_cell_id = 10;\n",
       "                var nbb_unformatted_code = \"from fileresponse.asgi import get_asgi_application\\n\\napplication = get_asgi_application()\";\n",
       "                var nbb_formatted_code = \"from fileresponse.asgi import get_asgi_application\\n\\napplication = get_asgi_application()\";\n",
       "                var nbb_cells = Jupyter.notebook.get_cells();\n",
       "                for (var i = 0; i < nbb_cells.length; ++i) {\n",
       "                    if (nbb_cells[i].input_prompt_number == nbb_cell_id) {\n",
       "                        if (nbb_cells[i].get_text() == nbb_unformatted_code) {\n",
       "                             nbb_cells[i].set_text(nbb_formatted_code);\n",
       "                        }\n",
       "                        break;\n",
       "                    }\n",
       "                }\n",
       "            }, 500);\n",
       "            "
      ],
      "text/plain": [
       "<IPython.core.display.Javascript object>"
      ]
     },
     "metadata": {},
     "output_type": "display_data"
    }
   ],
   "source": [
    "from fileresponse.asgi import get_asgi_application\n",
    "\n",
    "application = get_asgi_application()"
   ]
  },
  {
   "cell_type": "markdown",
   "metadata": {},
   "source": [
    "## How to use Async Fileresponses in your Views\n",
    "\n",
    "Add functions below to your `views.py`"
   ]
  },
  {
   "cell_type": "markdown",
   "metadata": {},
   "source": [
    "### Serving from Filesystem"
   ]
  },
  {
   "cell_type": "code",
   "execution_count": null,
   "metadata": {},
   "outputs": [
    {
     "data": {
      "application/javascript": [
       "\n",
       "            setTimeout(function() {\n",
       "                var nbb_cell_id = 2;\n",
       "                var nbb_unformatted_code = \"from fileresponse.http import AiofileFileResponse as AiofileFileResponse\\n\\n\\nasync def get_file(request, path):\\n    file_path = Path(path)\\n    return AiofileFileResponse(file_path)\";\n",
       "                var nbb_formatted_code = \"from fileresponse.http import AiofileFileResponse as AiofileFileResponse\\n\\n\\nasync def get_file(request, path):\\n    file_path = Path(path)\\n    return AiofileFileResponse(file_path)\";\n",
       "                var nbb_cells = Jupyter.notebook.get_cells();\n",
       "                for (var i = 0; i < nbb_cells.length; ++i) {\n",
       "                    if (nbb_cells[i].input_prompt_number == nbb_cell_id) {\n",
       "                        if (nbb_cells[i].get_text() == nbb_unformatted_code) {\n",
       "                             nbb_cells[i].set_text(nbb_formatted_code);\n",
       "                        }\n",
       "                        break;\n",
       "                    }\n",
       "                }\n",
       "            }, 500);\n",
       "            "
      ],
      "text/plain": [
       "<IPython.core.display.Javascript object>"
      ]
     },
     "metadata": {},
     "output_type": "display_data"
    }
   ],
   "source": [
    "from fileresponse.http import AiofileFileResponse as AiofileFileResponse\n",
    "\n",
    "\n",
    "async def get_file(request, path):\n",
    "    file_path = Path(path)\n",
    "    return AiofileFileResponse(file_path)"
   ]
  },
  {
   "cell_type": "markdown",
   "metadata": {},
   "source": [
    "### Serve Files from an S3 Compatible Object Store"
   ]
  },
  {
   "cell_type": "code",
   "execution_count": null,
   "metadata": {},
   "outputs": [
    {
     "data": {
      "application/javascript": [
       "\n",
       "            setTimeout(function() {\n",
       "                var nbb_cell_id = 3;\n",
       "                var nbb_unformatted_code = \"from fileresponse.http import AiobotocoreFileResponse\\n\\n\\nasync def get_file(request, key):\\n    bucket = settings.FILERESPONSE_S3_ACCESS_KEY_ID\\n    return AiobotocoreFileResponse(bucket, key, chunk_size=4096)\";\n",
       "                var nbb_formatted_code = \"from fileresponse.http import AiobotocoreFileResponse\\n\\n\\nasync def get_file(request, key):\\n    bucket = settings.FILERESPONSE_S3_ACCESS_KEY_ID\\n    return AiobotocoreFileResponse(bucket, key, chunk_size=4096)\";\n",
       "                var nbb_cells = Jupyter.notebook.get_cells();\n",
       "                for (var i = 0; i < nbb_cells.length; ++i) {\n",
       "                    if (nbb_cells[i].input_prompt_number == nbb_cell_id) {\n",
       "                        if (nbb_cells[i].get_text() == nbb_unformatted_code) {\n",
       "                             nbb_cells[i].set_text(nbb_formatted_code);\n",
       "                        }\n",
       "                        break;\n",
       "                    }\n",
       "                }\n",
       "            }, 500);\n",
       "            "
      ],
      "text/plain": [
       "<IPython.core.display.Javascript object>"
      ]
     },
     "metadata": {},
     "output_type": "display_data"
    }
   ],
   "source": [
    "from fileresponse.http import AiobotocoreFileResponse\n",
    "\n",
    "\n",
    "async def get_file(request, key):\n",
    "    bucket = settings.FILERESPONSE_S3_ACCESS_KEY_ID\n",
    "    return AiobotocoreFileResponse(bucket, key, chunk_size=4096)"
   ]
  },
  {
   "cell_type": "markdown",
   "metadata": {},
   "source": [
    "## Settings\n",
    "\n",
    "### Example Settings for an S3 Compatible Object Store\n",
    "\n",
    "```\n",
    "FILERESPONSE_S3_ACCESS_KEY_ID=\"minioadmin\"\n",
    "FILERESPONSE_S3_SECRET_ACCESS_KEY=\"minioadmin\"\n",
    "FILERESPONSE_S3_REGION=\"us-west-2\"\n",
    "FILERESPONSE_S3_STORAGE_BUCKET_NAME=\"fileresponse\"\n",
    "FILERESPONSE_S3_ENDPOINT_URL=\"http://localhost:9000\"\n",
    "```"
   ]
  }
 ],
 "metadata": {
  "kernelspec": {
   "display_name": "Python 3",
   "language": "python",
   "name": "python3"
  }
 },
 "nbformat": 4,
 "nbformat_minor": 2
}
