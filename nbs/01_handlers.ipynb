{
 "cells": [
  {
   "cell_type": "code",
   "execution_count": null,
   "id": "0471e61c",
   "metadata": {},
   "outputs": [
    {
     "data": {
      "application/javascript": [
       "\n",
       "            setTimeout(function() {\n",
       "                var nbb_cell_id = 1;\n",
       "                var nbb_unformatted_code = \"# hide\\n# dont_test\\n# default_exp handlers\\n%load_ext nb_black\";\n",
       "                var nbb_formatted_code = \"# hide\\n# dont_test\\n# default_exp handlers\\n%load_ext nb_black\";\n",
       "                var nbb_cells = Jupyter.notebook.get_cells();\n",
       "                for (var i = 0; i < nbb_cells.length; ++i) {\n",
       "                    if (nbb_cells[i].input_prompt_number == nbb_cell_id) {\n",
       "                        if (nbb_cells[i].get_text() == nbb_unformatted_code) {\n",
       "                             nbb_cells[i].set_text(nbb_formatted_code);\n",
       "                        }\n",
       "                        break;\n",
       "                    }\n",
       "                }\n",
       "            }, 500);\n",
       "            "
      ],
      "text/plain": [
       "<IPython.core.display.Javascript object>"
      ]
     },
     "metadata": {},
     "output_type": "display_data"
    }
   ],
   "source": [
    "# hide\n",
    "# dont_test\n",
    "# default_exp handlers\n",
    "%load_ext nb_black"
   ]
  },
  {
   "cell_type": "markdown",
   "id": "346f2358",
   "metadata": {},
   "source": [
    "# ASGIHandlers"
   ]
  },
  {
   "cell_type": "code",
   "execution_count": null,
   "id": "30289d01",
   "metadata": {},
   "outputs": [
    {
     "data": {
      "application/javascript": [
       "\n",
       "            setTimeout(function() {\n",
       "                var nbb_cell_id = 2;\n",
       "                var nbb_unformatted_code = \"# export\\n\\nfrom asgiref.sync import sync_to_async\\nfrom django.core.handlers.asgi import ASGIHandler\\n\\n\\nclass AsyncFileASGIHandler(ASGIHandler):\\n    async def send_response(self, response, send):\\n        if response.is_async:\\n            return await response.stream(send)\\n        else:\\n            return super().send_response(response, send)\";\n",
       "                var nbb_formatted_code = \"# export\\n\\nfrom asgiref.sync import sync_to_async\\nfrom django.core.handlers.asgi import ASGIHandler\\n\\n\\nclass AsyncFileASGIHandler(ASGIHandler):\\n    async def send_response(self, response, send):\\n        if response.is_async:\\n            return await response.stream(send)\\n        else:\\n            return super().send_response(response, send)\";\n",
       "                var nbb_cells = Jupyter.notebook.get_cells();\n",
       "                for (var i = 0; i < nbb_cells.length; ++i) {\n",
       "                    if (nbb_cells[i].input_prompt_number == nbb_cell_id) {\n",
       "                        if (nbb_cells[i].get_text() == nbb_unformatted_code) {\n",
       "                             nbb_cells[i].set_text(nbb_formatted_code);\n",
       "                        }\n",
       "                        break;\n",
       "                    }\n",
       "                }\n",
       "            }, 500);\n",
       "            "
      ],
      "text/plain": [
       "<IPython.core.display.Javascript object>"
      ]
     },
     "metadata": {},
     "output_type": "display_data"
    }
   ],
   "source": [
    "# export\n",
    "\n",
    "from asgiref.sync import sync_to_async\n",
    "from django.core.handlers.asgi import ASGIHandler\n",
    "\n",
    "\n",
    "class AsyncFileASGIHandler(ASGIHandler):\n",
    "    async def send_response(self, response, send):\n",
    "        if response.is_async:\n",
    "            return await response.stream(send)\n",
    "        else:\n",
    "            return super().send_response(response, send)"
   ]
  },
  {
   "cell_type": "markdown",
   "id": "91352f7e",
   "metadata": {},
   "source": [
    "## Tests"
   ]
  },
  {
   "cell_type": "code",
   "execution_count": null,
   "id": "fc9b3229",
   "metadata": {},
   "outputs": [
    {
     "data": {
      "application/javascript": [
       "\n",
       "            setTimeout(function() {\n",
       "                var nbb_cell_id = 3;\n",
       "                var nbb_unformatted_code = \"class Response:\\n    is_async = True\\n    stream_called = False\\n\\n    def __init__(self, content):\\n        self.content = content\\n\\n    async def stream(self, send):\\n        self.stream_called = True\\n        return await send(self.content)\\n\\n\\nasync def send(data):\\n    return data\";\n",
       "                var nbb_formatted_code = \"class Response:\\n    is_async = True\\n    stream_called = False\\n\\n    def __init__(self, content):\\n        self.content = content\\n\\n    async def stream(self, send):\\n        self.stream_called = True\\n        return await send(self.content)\\n\\n\\nasync def send(data):\\n    return data\";\n",
       "                var nbb_cells = Jupyter.notebook.get_cells();\n",
       "                for (var i = 0; i < nbb_cells.length; ++i) {\n",
       "                    if (nbb_cells[i].input_prompt_number == nbb_cell_id) {\n",
       "                        if (nbb_cells[i].get_text() == nbb_unformatted_code) {\n",
       "                             nbb_cells[i].set_text(nbb_formatted_code);\n",
       "                        }\n",
       "                        break;\n",
       "                    }\n",
       "                }\n",
       "            }, 500);\n",
       "            "
      ],
      "text/plain": [
       "<IPython.core.display.Javascript object>"
      ]
     },
     "metadata": {},
     "output_type": "display_data"
    }
   ],
   "source": [
    "class Response:\n",
    "    is_async = True\n",
    "    stream_called = False\n",
    "\n",
    "    def __init__(self, content):\n",
    "        self.content = content\n",
    "\n",
    "    async def stream(self, send):\n",
    "        self.stream_called = True\n",
    "        return await send(self.content)\n",
    "\n",
    "\n",
    "async def send(data):\n",
    "    return data"
   ]
  },
  {
   "cell_type": "code",
   "execution_count": null,
   "id": "59f585c4",
   "metadata": {},
   "outputs": [
    {
     "data": {
      "text/plain": [
       "{'PWD': '/Users/jochen/projects/django_fileresponse/nbs',\n",
       " 'FZF_DEFAULT_COMMAND': 'fd --type f',\n",
       " 'PYENV_ROOT': '/Users/jochen/.pyenv',\n",
       " 'VIRTUAL_ENV': '/Users/jochen/.virtualenvs/django-fileresponse',\n",
       " 'PYENV_SHELL': 'fish',\n",
       " 'OMF_PATH': '/Users/jochen/.local/share/omf',\n",
       " 'LDFLAGS': '-L/usr/local/opt/openssl@1.1/lib',\n",
       " 'HOME': '/Users/jochen',\n",
       " 'PKG_CONFIG_PATH': '/usr/local/opt/openssl@1.1/lib/pkgconfig',\n",
       " 'CPATH': '/Applications/Xcode.app/Contents/Developer/Platforms/MacOSX.platform/Developer/SDKs/MacOSX.sdk/usr/include:/Applications/Xcode.app/Contents/Developer/Platforms/MacOSX.platform/Developer/SDKs/MacOSX.sdk/usr/include',\n",
       " '__CF_USER_TEXT_ENCODING': '0x1F5:0x0:0x3',\n",
       " 'XPC_SERVICE_NAME': '0',\n",
       " 'LC_TERMINAL_VERSION': '3.4.8',\n",
       " 'SHELL': '/usr/local/bin/fish',\n",
       " '__CFBundleIdentifier': 'com.googlecode.iterm2',\n",
       " 'TERM_SESSION_ID': 'w0t1p1:C06A30C0-D3A6-4160-8E3D-26F4CE6DE5A4',\n",
       " 'TERM_PROGRAM_VERSION': '3.4.8',\n",
       " 'TERM_PROGRAM': 'iTerm.app',\n",
       " 'COMPOSE_DOCKER_CLI_BUILD': '1',\n",
       " 'ITERM_PROFILE': 'Default',\n",
       " 'FZF_DEFAULT_OPTS': '--layout=reverse --inline-info',\n",
       " 'COLORFGBG': '7;0',\n",
       " 'PYTHON_CONFIGURE_OPTS': '--enable-framework',\n",
       " 'XPC_FLAGS': '0x0',\n",
       " 'LANG': 'de_DE.UTF-8',\n",
       " 'LOGNAME': 'jochen',\n",
       " 'COLORTERM': 'truecolor',\n",
       " 'LC_TERMINAL': 'iTerm2',\n",
       " 'PROJECT_HOME': '/Users/jochen/projects',\n",
       " 'DOCKER_BUILDKIT': '1',\n",
       " 'USER': 'jochen',\n",
       " 'PATH': '/usr/local/opt/icu4c/sbin:/usr/local/opt/icu4c/bin:/Users/jochen/.pyenv/bin:/Users/jochen/.poetry/bin:/usr/local/opt/fzf/bin:/Users/jochen/.cargo/bin:/usr/local/opt/gettext/bin:/Users/jochen/.virtualenvs/django-fileresponse/bin:/Users/jochen/.cargo/bin:/usr/local/opt/gettext/bin:/Users/jochen/.pyenv/shims:/usr/local/bin:/usr/bin:/bin:/usr/sbin:/sbin:/usr/local/MacGPG2/bin:/Users/jochen/.local/bin:/Users/jochen/.local/bin',\n",
       " 'ITERM_SESSION_ID': 'w0t1p1:C06A30C0-D3A6-4160-8E3D-26F4CE6DE5A4',\n",
       " 'OMF_CONFIG': '/Users/jochen/.config/omf',\n",
       " 'TMPDIR': '/var/folders/dg/20nm141d3hj2hv67hjl6zmkc0000gn/T/',\n",
       " 'TERM': 'xterm-color',\n",
       " 'SSH_AUTH_SOCK': '/private/tmp/com.apple.launchd.RRmSJERJ8m/Listeners',\n",
       " 'CPPFLAGS': '-I/usr/local/opt/openssl@1.1/include',\n",
       " 'SHLVL': '2',\n",
       " 'COMMAND_MODE': 'unix2003',\n",
       " 'JPY_PARENT_PID': '34419',\n",
       " 'CLICOLOR': '1',\n",
       " 'PAGER': 'cat',\n",
       " 'GIT_PAGER': 'cat',\n",
       " 'MPLBACKEND': 'module://ipykernel.pylab.backend_inline',\n",
       " 'DJANGO_SETTINGS_MODULE': 'example.settings',\n",
       " 'TZ': 'UTC'}"
      ]
     },
     "execution_count": null,
     "metadata": {},
     "output_type": "execute_result"
    },
    {
     "data": {
      "application/javascript": [
       "\n",
       "            setTimeout(function() {\n",
       "                var nbb_cell_id = 5;\n",
       "                var nbb_unformatted_code = \"%env\";\n",
       "                var nbb_formatted_code = \"%env\";\n",
       "                var nbb_cells = Jupyter.notebook.get_cells();\n",
       "                for (var i = 0; i < nbb_cells.length; ++i) {\n",
       "                    if (nbb_cells[i].input_prompt_number == nbb_cell_id) {\n",
       "                        if (nbb_cells[i].get_text() == nbb_unformatted_code) {\n",
       "                             nbb_cells[i].set_text(nbb_formatted_code);\n",
       "                        }\n",
       "                        break;\n",
       "                    }\n",
       "                }\n",
       "            }, 500);\n",
       "            "
      ],
      "text/plain": [
       "<IPython.core.display.Javascript object>"
      ]
     },
     "metadata": {},
     "output_type": "display_data"
    }
   ],
   "source": [
    "%env"
   ]
  },
  {
   "cell_type": "code",
   "execution_count": null,
   "id": "439e173e",
   "metadata": {},
   "outputs": [
    {
     "name": "stdout",
     "output_type": "stream",
     "text": [
      "env: DJANGO_SETTINGS_MODULE=example.settings\n"
     ]
    },
    {
     "data": {
      "application/javascript": [
       "\n",
       "            setTimeout(function() {\n",
       "                var nbb_cell_id = 4;\n",
       "                var nbb_unformatted_code = \"%env DJANGO_SETTINGS_MODULE example.settings\\nimport django\\n\\ndjango.setup()\\napp = AsyncFileASGIHandler()\\ncontent = \\\"<h1>Content!</h1>\\\"\\nresponse = Response(content)\\nreturned_content = await app.send_response(response, send)\\nassert response.stream_called\\nassert content == returned_content\";\n",
       "                var nbb_formatted_code = \"%env DJANGO_SETTINGS_MODULE example.settings\\nimport django\\n\\ndjango.setup()\\napp = AsyncFileASGIHandler()\\ncontent = \\\"<h1>Content!</h1>\\\"\\nresponse = Response(content)\\nreturned_content = await app.send_response(response, send)\\nassert response.stream_called\\nassert content == returned_content\";\n",
       "                var nbb_cells = Jupyter.notebook.get_cells();\n",
       "                for (var i = 0; i < nbb_cells.length; ++i) {\n",
       "                    if (nbb_cells[i].input_prompt_number == nbb_cell_id) {\n",
       "                        if (nbb_cells[i].get_text() == nbb_unformatted_code) {\n",
       "                             nbb_cells[i].set_text(nbb_formatted_code);\n",
       "                        }\n",
       "                        break;\n",
       "                    }\n",
       "                }\n",
       "            }, 500);\n",
       "            "
      ],
      "text/plain": [
       "<IPython.core.display.Javascript object>"
      ]
     },
     "metadata": {},
     "output_type": "display_data"
    }
   ],
   "source": [
    "%env DJANGO_SETTINGS_MODULE example.settings\n",
    "import django\n",
    "\n",
    "django.setup()\n",
    "app = AsyncFileASGIHandler()\n",
    "content = \"<h1>Content!</h1>\"\n",
    "response = Response(content)\n",
    "returned_content = await app.send_response(response, send)\n",
    "assert response.stream_called\n",
    "assert content == returned_content"
   ]
  }
 ],
 "metadata": {
  "kernelspec": {
   "display_name": "Python 3",
   "language": "python",
   "name": "python3"
  }
 },
 "nbformat": 4,
 "nbformat_minor": 5
}
