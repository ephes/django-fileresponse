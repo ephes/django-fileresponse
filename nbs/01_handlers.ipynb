{
 "cells": [
  {
   "cell_type": "code",
   "execution_count": null,
   "id": "e122c605",
   "metadata": {},
   "outputs": [
    {
     "data": {
      "application/javascript": [
       "\n",
       "            setTimeout(function() {\n",
       "                var nbb_cell_id = 1;\n",
       "                var nbb_unformatted_code = \"# hide\\n# dont_test\\n# default_exp handlers\\n%load_ext nb_black\";\n",
       "                var nbb_formatted_code = \"# hide\\n# dont_test\\n# default_exp handlers\\n%load_ext nb_black\";\n",
       "                var nbb_cells = Jupyter.notebook.get_cells();\n",
       "                for (var i = 0; i < nbb_cells.length; ++i) {\n",
       "                    if (nbb_cells[i].input_prompt_number == nbb_cell_id) {\n",
       "                        if (nbb_cells[i].get_text() == nbb_unformatted_code) {\n",
       "                             nbb_cells[i].set_text(nbb_formatted_code);\n",
       "                        }\n",
       "                        break;\n",
       "                    }\n",
       "                }\n",
       "            }, 500);\n",
       "            "
      ],
      "text/plain": [
       "<IPython.core.display.Javascript object>"
      ]
     },
     "metadata": {},
     "output_type": "display_data"
    }
   ],
   "source": [
    "# hide\n",
    "# dont_test\n",
    "# default_exp handlers\n",
    "%load_ext nb_black"
   ]
  },
  {
   "cell_type": "markdown",
   "id": "4c8ee701",
   "metadata": {},
   "source": [
    "# ASGIHandlers"
   ]
  },
  {
   "cell_type": "code",
   "execution_count": null,
   "id": "9fc7bc99",
   "metadata": {},
   "outputs": [
    {
     "data": {
      "application/javascript": [
       "\n",
       "            setTimeout(function() {\n",
       "                var nbb_cell_id = 35;\n",
       "                var nbb_unformatted_code = \"# export\\n\\nfrom asgiref.sync import sync_to_async\\nfrom django.core.handlers.asgi import ASGIHandler\\n\\n\\nclass AsyncFileASGIHandler(ASGIHandler):\\n    async def send_response(self, response, send):\\n        is_async_fileresponse = getattr(response, \\\"is_async_fileresponse\\\", False)\\n        if is_async_fileresponse:\\n            return await response.stream(send)\\n        else:\\n            return await super().send_response(response, send)\";\n",
       "                var nbb_formatted_code = \"# export\\n\\nfrom asgiref.sync import sync_to_async\\nfrom django.core.handlers.asgi import ASGIHandler\\n\\n\\nclass AsyncFileASGIHandler(ASGIHandler):\\n    async def send_response(self, response, send):\\n        is_async_fileresponse = getattr(response, \\\"is_async_fileresponse\\\", False)\\n        if is_async_fileresponse:\\n            return await response.stream(send)\\n        else:\\n            return await super().send_response(response, send)\";\n",
       "                var nbb_cells = Jupyter.notebook.get_cells();\n",
       "                for (var i = 0; i < nbb_cells.length; ++i) {\n",
       "                    if (nbb_cells[i].input_prompt_number == nbb_cell_id) {\n",
       "                        if (nbb_cells[i].get_text() == nbb_unformatted_code) {\n",
       "                             nbb_cells[i].set_text(nbb_formatted_code);\n",
       "                        }\n",
       "                        break;\n",
       "                    }\n",
       "                }\n",
       "            }, 500);\n",
       "            "
      ],
      "text/plain": [
       "<IPython.core.display.Javascript object>"
      ]
     },
     "metadata": {},
     "output_type": "display_data"
    }
   ],
   "source": [
    "# export\n",
    "\n",
    "from asgiref.sync import sync_to_async\n",
    "from django.core.handlers.asgi import ASGIHandler\n",
    "\n",
    "\n",
    "class AsyncFileASGIHandler(ASGIHandler):\n",
    "    async def send_response(self, response, send):\n",
    "        is_async_fileresponse = getattr(response, \"is_async_fileresponse\", False)\n",
    "        if is_async_fileresponse:\n",
    "            return await response.stream(send)\n",
    "        else:\n",
    "            return await super().send_response(response, send)"
   ]
  },
  {
   "cell_type": "markdown",
   "id": "18f1eb15",
   "metadata": {},
   "source": [
    "## Tests"
   ]
  },
  {
   "cell_type": "code",
   "execution_count": null,
   "id": "1b21d75e",
   "metadata": {},
   "outputs": [
    {
     "data": {
      "application/javascript": [
       "\n",
       "            setTimeout(function() {\n",
       "                var nbb_cell_id = 36;\n",
       "                var nbb_unformatted_code = \"# hide\\nimport django\\n\\nfrom django.conf import settings\\n\\ntry:\\n    settings.configure()\\nexcept RuntimeError:\\n    pass\";\n",
       "                var nbb_formatted_code = \"# hide\\nimport django\\n\\nfrom django.conf import settings\\n\\ntry:\\n    settings.configure()\\nexcept RuntimeError:\\n    pass\";\n",
       "                var nbb_cells = Jupyter.notebook.get_cells();\n",
       "                for (var i = 0; i < nbb_cells.length; ++i) {\n",
       "                    if (nbb_cells[i].input_prompt_number == nbb_cell_id) {\n",
       "                        if (nbb_cells[i].get_text() == nbb_unformatted_code) {\n",
       "                             nbb_cells[i].set_text(nbb_formatted_code);\n",
       "                        }\n",
       "                        break;\n",
       "                    }\n",
       "                }\n",
       "            }, 500);\n",
       "            "
      ],
      "text/plain": [
       "<IPython.core.display.Javascript object>"
      ]
     },
     "metadata": {},
     "output_type": "display_data"
    }
   ],
   "source": [
    "# hide\n",
    "import django\n",
    "\n",
    "from django.conf import settings\n",
    "\n",
    "try:\n",
    "    settings.configure()\n",
    "except RuntimeError:\n",
    "    pass"
   ]
  },
  {
   "cell_type": "code",
   "execution_count": null,
   "id": "17595b08",
   "metadata": {},
   "outputs": [
    {
     "data": {
      "application/javascript": [
       "\n",
       "            setTimeout(function() {\n",
       "                var nbb_cell_id = 57;\n",
       "                var nbb_unformatted_code = \"class Response:\\n    cookies = {}\\n    streaming = True\\n    status_code = 200\\n    stream_called = False\\n\\n    def __init__(self, content, is_async_fileresponse=None):\\n        self.index = -1\\n        self.contents = [content]\\n        if is_async_fileresponse is not None:\\n            self.is_async_fileresponse = is_async_fileresponse\\n\\n    async def stream(self, send):\\n        self.stream_called = True\\n        for content in self.contents:\\n            await send(content)\\n\\n    def __iter__(self):\\n        return self\\n\\n    def __next__(self):\\n        self.index += 1\\n        try:\\n            return self.contents[self.index]\\n        except IndexError:\\n            raise StopIteration\\n\\n    def items(self):\\n        return []\\n\\n    def close(self):\\n        pass\\n\\n\\nreceived_send = []\\n\\n\\nasync def send(data):\\n    received_send.append(data)\";\n",
       "                var nbb_formatted_code = \"class Response:\\n    cookies = {}\\n    streaming = True\\n    status_code = 200\\n    stream_called = False\\n\\n    def __init__(self, content, is_async_fileresponse=None):\\n        self.index = -1\\n        self.contents = [content]\\n        if is_async_fileresponse is not None:\\n            self.is_async_fileresponse = is_async_fileresponse\\n\\n    async def stream(self, send):\\n        self.stream_called = True\\n        for content in self.contents:\\n            await send(content)\\n\\n    def __iter__(self):\\n        return self\\n\\n    def __next__(self):\\n        self.index += 1\\n        try:\\n            return self.contents[self.index]\\n        except IndexError:\\n            raise StopIteration\\n\\n    def items(self):\\n        return []\\n\\n    def close(self):\\n        pass\\n\\n\\nreceived_send = []\\n\\n\\nasync def send(data):\\n    received_send.append(data)\";\n",
       "                var nbb_cells = Jupyter.notebook.get_cells();\n",
       "                for (var i = 0; i < nbb_cells.length; ++i) {\n",
       "                    if (nbb_cells[i].input_prompt_number == nbb_cell_id) {\n",
       "                        if (nbb_cells[i].get_text() == nbb_unformatted_code) {\n",
       "                             nbb_cells[i].set_text(nbb_formatted_code);\n",
       "                        }\n",
       "                        break;\n",
       "                    }\n",
       "                }\n",
       "            }, 500);\n",
       "            "
      ],
      "text/plain": [
       "<IPython.core.display.Javascript object>"
      ]
     },
     "metadata": {},
     "output_type": "display_data"
    }
   ],
   "source": [
    "class Response:\n",
    "    cookies = {}\n",
    "    streaming = True\n",
    "    status_code = 200\n",
    "    stream_called = False\n",
    "\n",
    "    def __init__(self, content, is_async_fileresponse=None):\n",
    "        self.index = -1\n",
    "        self.contents = [content]\n",
    "        if is_async_fileresponse is not None:\n",
    "            self.is_async_fileresponse = is_async_fileresponse\n",
    "\n",
    "    async def stream(self, send):\n",
    "        self.stream_called = True\n",
    "        for content in self.contents:\n",
    "            await send(content)\n",
    "\n",
    "    def __iter__(self):\n",
    "        return self\n",
    "\n",
    "    def __next__(self):\n",
    "        self.index += 1\n",
    "        try:\n",
    "            return self.contents[self.index]\n",
    "        except IndexError:\n",
    "            raise StopIteration\n",
    "\n",
    "    def items(self):\n",
    "        return []\n",
    "\n",
    "    def close(self):\n",
    "        pass\n",
    "\n",
    "\n",
    "received_send = []\n",
    "\n",
    "\n",
    "async def send(data):\n",
    "    received_send.append(data)"
   ]
  },
  {
   "cell_type": "markdown",
   "id": "d3da1fb6",
   "metadata": {},
   "source": [
    "### Happy Path"
   ]
  },
  {
   "cell_type": "code",
   "execution_count": null,
   "id": "4a877684",
   "metadata": {},
   "outputs": [
    {
     "data": {
      "application/javascript": [
       "\n",
       "            setTimeout(function() {\n",
       "                var nbb_cell_id = 58;\n",
       "                var nbb_unformatted_code = \"app = AsyncFileASGIHandler()\\ncontent = \\\"<h1>Content!</h1>\\\"\\nresponse = Response(content, is_async_fileresponse=True)\\nreceived_send = []\\nawait app.send_response(response, send)\\nreturned_content = received_send[0]\\nassert response.stream_called\\nassert content == returned_content\";\n",
       "                var nbb_formatted_code = \"app = AsyncFileASGIHandler()\\ncontent = \\\"<h1>Content!</h1>\\\"\\nresponse = Response(content, is_async_fileresponse=True)\\nreceived_send = []\\nawait app.send_response(response, send)\\nreturned_content = received_send[0]\\nassert response.stream_called\\nassert content == returned_content\";\n",
       "                var nbb_cells = Jupyter.notebook.get_cells();\n",
       "                for (var i = 0; i < nbb_cells.length; ++i) {\n",
       "                    if (nbb_cells[i].input_prompt_number == nbb_cell_id) {\n",
       "                        if (nbb_cells[i].get_text() == nbb_unformatted_code) {\n",
       "                             nbb_cells[i].set_text(nbb_formatted_code);\n",
       "                        }\n",
       "                        break;\n",
       "                    }\n",
       "                }\n",
       "            }, 500);\n",
       "            "
      ],
      "text/plain": [
       "<IPython.core.display.Javascript object>"
      ]
     },
     "metadata": {},
     "output_type": "display_data"
    }
   ],
   "source": [
    "app = AsyncFileASGIHandler()\n",
    "content = \"<h1>Content!</h1>\"\n",
    "response = Response(content, is_async_fileresponse=True)\n",
    "received_send = []\n",
    "await app.send_response(response, send)\n",
    "returned_content = received_send[0]\n",
    "assert response.stream_called\n",
    "assert content == returned_content"
   ]
  },
  {
   "cell_type": "markdown",
   "id": "2d544810",
   "metadata": {},
   "source": [
    "### Response Without is_async_fileresponse attribute"
   ]
  },
  {
   "cell_type": "code",
   "execution_count": null,
   "id": "510678bf",
   "metadata": {},
   "outputs": [
    {
     "data": {
      "application/javascript": [
       "\n",
       "            setTimeout(function() {\n",
       "                var nbb_cell_id = 60;\n",
       "                var nbb_unformatted_code = \"app = AsyncFileASGIHandler()\\ncontent = \\\"<h1>Content!</h1>\\\"\\nresponse = Response(content)\\nreceived_send = []\\nawait app.send_response(response, send)\\nreturned_content = received_send[1][\\\"body\\\"]\\nassert not response.stream_called\\nassert content == returned_content\";\n",
       "                var nbb_formatted_code = \"app = AsyncFileASGIHandler()\\ncontent = \\\"<h1>Content!</h1>\\\"\\nresponse = Response(content)\\nreceived_send = []\\nawait app.send_response(response, send)\\nreturned_content = received_send[1][\\\"body\\\"]\\nassert not response.stream_called\\nassert content == returned_content\";\n",
       "                var nbb_cells = Jupyter.notebook.get_cells();\n",
       "                for (var i = 0; i < nbb_cells.length; ++i) {\n",
       "                    if (nbb_cells[i].input_prompt_number == nbb_cell_id) {\n",
       "                        if (nbb_cells[i].get_text() == nbb_unformatted_code) {\n",
       "                             nbb_cells[i].set_text(nbb_formatted_code);\n",
       "                        }\n",
       "                        break;\n",
       "                    }\n",
       "                }\n",
       "            }, 500);\n",
       "            "
      ],
      "text/plain": [
       "<IPython.core.display.Javascript object>"
      ]
     },
     "metadata": {},
     "output_type": "display_data"
    }
   ],
   "source": [
    "app = AsyncFileASGIHandler()\n",
    "content = \"<h1>Content!</h1>\"\n",
    "response = Response(content)\n",
    "received_send = []\n",
    "await app.send_response(response, send)\n",
    "returned_content = received_send[1][\"body\"]\n",
    "assert not response.stream_called\n",
    "assert content == returned_content"
   ]
  }
 ],
 "metadata": {
  "kernelspec": {
   "display_name": "Python 3",
   "language": "python",
   "name": "python3"
  }
 },
 "nbformat": 4,
 "nbformat_minor": 5
}
