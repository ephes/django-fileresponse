{
 "cells": [
  {
   "cell_type": "code",
   "execution_count": null,
   "id": "cb97631f",
   "metadata": {},
   "outputs": [
    {
     "data": {
      "application/javascript": [
       "\n",
       "            setTimeout(function() {\n",
       "                var nbb_cell_id = 1;\n",
       "                var nbb_unformatted_code = \"# hide\\n# dont_test\\n# default_exp handlers\\n%load_ext nb_black\";\n",
       "                var nbb_formatted_code = \"# hide\\n# dont_test\\n# default_exp handlers\\n%load_ext nb_black\";\n",
       "                var nbb_cells = Jupyter.notebook.get_cells();\n",
       "                for (var i = 0; i < nbb_cells.length; ++i) {\n",
       "                    if (nbb_cells[i].input_prompt_number == nbb_cell_id) {\n",
       "                        if (nbb_cells[i].get_text() == nbb_unformatted_code) {\n",
       "                             nbb_cells[i].set_text(nbb_formatted_code);\n",
       "                        }\n",
       "                        break;\n",
       "                    }\n",
       "                }\n",
       "            }, 500);\n",
       "            "
      ],
      "text/plain": [
       "<IPython.core.display.Javascript object>"
      ]
     },
     "metadata": {},
     "output_type": "display_data"
    }
   ],
   "source": [
    "# hide\n",
    "# dont_test\n",
    "# default_exp handlers\n",
    "%load_ext nb_black"
   ]
  },
  {
   "cell_type": "markdown",
   "id": "4885273d",
   "metadata": {},
   "source": [
    "# ASGIHandlers"
   ]
  },
  {
   "cell_type": "code",
   "execution_count": null,
   "id": "5007f663",
   "metadata": {},
   "outputs": [
    {
     "data": {
      "application/javascript": [
       "\n",
       "            setTimeout(function() {\n",
       "                var nbb_cell_id = 2;\n",
       "                var nbb_unformatted_code = \"# export\\n\\nfrom asgiref.sync import sync_to_async\\nfrom django.core.handlers.asgi import ASGIHandler\\n\\n\\nclass AsyncFileASGIHandler(ASGIHandler):\\n    async def send_response(self, response, send):\\n        if response.is_async:\\n            return await response.stream(send)\\n        else:\\n            return super().send_response(response, send)\";\n",
       "                var nbb_formatted_code = \"# export\\n\\nfrom asgiref.sync import sync_to_async\\nfrom django.core.handlers.asgi import ASGIHandler\\n\\n\\nclass AsyncFileASGIHandler(ASGIHandler):\\n    async def send_response(self, response, send):\\n        if response.is_async:\\n            return await response.stream(send)\\n        else:\\n            return super().send_response(response, send)\";\n",
       "                var nbb_cells = Jupyter.notebook.get_cells();\n",
       "                for (var i = 0; i < nbb_cells.length; ++i) {\n",
       "                    if (nbb_cells[i].input_prompt_number == nbb_cell_id) {\n",
       "                        if (nbb_cells[i].get_text() == nbb_unformatted_code) {\n",
       "                             nbb_cells[i].set_text(nbb_formatted_code);\n",
       "                        }\n",
       "                        break;\n",
       "                    }\n",
       "                }\n",
       "            }, 500);\n",
       "            "
      ],
      "text/plain": [
       "<IPython.core.display.Javascript object>"
      ]
     },
     "metadata": {},
     "output_type": "display_data"
    }
   ],
   "source": [
    "# export\n",
    "\n",
    "from asgiref.sync import sync_to_async\n",
    "from django.core.handlers.asgi import ASGIHandler\n",
    "\n",
    "\n",
    "class AsyncFileASGIHandler(ASGIHandler):\n",
    "    async def send_response(self, response, send):\n",
    "        if response.is_async:\n",
    "            return await response.stream(send)\n",
    "        else:\n",
    "            return super().send_response(response, send)"
   ]
  },
  {
   "cell_type": "markdown",
   "id": "e5e897bb",
   "metadata": {},
   "source": [
    "## Tests"
   ]
  },
  {
   "cell_type": "code",
   "execution_count": null,
   "id": "84cfbc78",
   "metadata": {},
   "outputs": [
    {
     "ename": "RuntimeError",
     "evalue": "Settings already configured.",
     "output_type": "error",
     "traceback": [
      "\u001b[0;31m---------------------------------------------------------------------------\u001b[0m",
      "\u001b[0;31mRuntimeError\u001b[0m                              Traceback (most recent call last)",
      "\u001b[0;32m<ipython-input-5-eb2ee1d5f2d2>\u001b[0m in \u001b[0;36m<module>\u001b[0;34m\u001b[0m\n\u001b[1;32m      3\u001b[0m \u001b[0;32mfrom\u001b[0m \u001b[0mdjango\u001b[0m\u001b[0;34m.\u001b[0m\u001b[0mconf\u001b[0m \u001b[0;32mimport\u001b[0m \u001b[0msettings\u001b[0m\u001b[0;34m\u001b[0m\u001b[0;34m\u001b[0m\u001b[0m\n\u001b[1;32m      4\u001b[0m \u001b[0;34m\u001b[0m\u001b[0m\n\u001b[0;32m----> 5\u001b[0;31m \u001b[0msettings\u001b[0m\u001b[0;34m.\u001b[0m\u001b[0mconfigure\u001b[0m\u001b[0;34m(\u001b[0m\u001b[0;34m)\u001b[0m\u001b[0;34m\u001b[0m\u001b[0;34m\u001b[0m\u001b[0m\n\u001b[0m",
      "\u001b[0;32m~/.virtualenvs/django-fileresponse/lib/python3.9/site-packages/django/conf/__init__.py\u001b[0m in \u001b[0;36mconfigure\u001b[0;34m(self, default_settings, **options)\u001b[0m\n\u001b[1;32m    116\u001b[0m         \"\"\"\n\u001b[1;32m    117\u001b[0m         \u001b[0;32mif\u001b[0m \u001b[0mself\u001b[0m\u001b[0;34m.\u001b[0m\u001b[0m_wrapped\u001b[0m \u001b[0;32mis\u001b[0m \u001b[0;32mnot\u001b[0m \u001b[0mempty\u001b[0m\u001b[0;34m:\u001b[0m\u001b[0;34m\u001b[0m\u001b[0;34m\u001b[0m\u001b[0m\n\u001b[0;32m--> 118\u001b[0;31m             \u001b[0;32mraise\u001b[0m \u001b[0mRuntimeError\u001b[0m\u001b[0;34m(\u001b[0m\u001b[0;34m'Settings already configured.'\u001b[0m\u001b[0;34m)\u001b[0m\u001b[0;34m\u001b[0m\u001b[0;34m\u001b[0m\u001b[0m\n\u001b[0m\u001b[1;32m    119\u001b[0m         \u001b[0mholder\u001b[0m \u001b[0;34m=\u001b[0m \u001b[0mUserSettingsHolder\u001b[0m\u001b[0;34m(\u001b[0m\u001b[0mdefault_settings\u001b[0m\u001b[0;34m)\u001b[0m\u001b[0;34m\u001b[0m\u001b[0;34m\u001b[0m\u001b[0m\n\u001b[1;32m    120\u001b[0m         \u001b[0;32mfor\u001b[0m \u001b[0mname\u001b[0m\u001b[0;34m,\u001b[0m \u001b[0mvalue\u001b[0m \u001b[0;32min\u001b[0m \u001b[0moptions\u001b[0m\u001b[0;34m.\u001b[0m\u001b[0mitems\u001b[0m\u001b[0;34m(\u001b[0m\u001b[0;34m)\u001b[0m\u001b[0;34m:\u001b[0m\u001b[0;34m\u001b[0m\u001b[0;34m\u001b[0m\u001b[0m\n",
      "\u001b[0;31mRuntimeError\u001b[0m: Settings already configured."
     ]
    },
    {
     "data": {
      "application/javascript": [
       "\n",
       "            setTimeout(function() {\n",
       "                var nbb_cell_id = 5;\n",
       "                var nbb_unformatted_code = \"import django\\n\\nfrom django.conf import settings\\n\\nsettings.configure()\";\n",
       "                var nbb_formatted_code = \"import django\\n\\nfrom django.conf import settings\\n\\nsettings.configure()\";\n",
       "                var nbb_cells = Jupyter.notebook.get_cells();\n",
       "                for (var i = 0; i < nbb_cells.length; ++i) {\n",
       "                    if (nbb_cells[i].input_prompt_number == nbb_cell_id) {\n",
       "                        if (nbb_cells[i].get_text() == nbb_unformatted_code) {\n",
       "                             nbb_cells[i].set_text(nbb_formatted_code);\n",
       "                        }\n",
       "                        break;\n",
       "                    }\n",
       "                }\n",
       "            }, 500);\n",
       "            "
      ],
      "text/plain": [
       "<IPython.core.display.Javascript object>"
      ]
     },
     "metadata": {},
     "output_type": "display_data"
    }
   ],
   "source": [
    "import django\n",
    "\n",
    "from django.conf import settings\n",
    "\n",
    "settings.configure()"
   ]
  },
  {
   "cell_type": "code",
   "execution_count": null,
   "id": "8baafc71",
   "metadata": {},
   "outputs": [
    {
     "data": {
      "application/javascript": [
       "\n",
       "            setTimeout(function() {\n",
       "                var nbb_cell_id = 3;\n",
       "                var nbb_unformatted_code = \"class Response:\\n    is_async = True\\n    stream_called = False\\n\\n    def __init__(self, content):\\n        self.content = content\\n\\n    async def stream(self, send):\\n        self.stream_called = True\\n        return await send(self.content)\\n\\n\\nasync def send(data):\\n    return data\";\n",
       "                var nbb_formatted_code = \"class Response:\\n    is_async = True\\n    stream_called = False\\n\\n    def __init__(self, content):\\n        self.content = content\\n\\n    async def stream(self, send):\\n        self.stream_called = True\\n        return await send(self.content)\\n\\n\\nasync def send(data):\\n    return data\";\n",
       "                var nbb_cells = Jupyter.notebook.get_cells();\n",
       "                for (var i = 0; i < nbb_cells.length; ++i) {\n",
       "                    if (nbb_cells[i].input_prompt_number == nbb_cell_id) {\n",
       "                        if (nbb_cells[i].get_text() == nbb_unformatted_code) {\n",
       "                             nbb_cells[i].set_text(nbb_formatted_code);\n",
       "                        }\n",
       "                        break;\n",
       "                    }\n",
       "                }\n",
       "            }, 500);\n",
       "            "
      ],
      "text/plain": [
       "<IPython.core.display.Javascript object>"
      ]
     },
     "metadata": {},
     "output_type": "display_data"
    }
   ],
   "source": [
    "class Response:\n",
    "    is_async = True\n",
    "    stream_called = False\n",
    "\n",
    "    def __init__(self, content):\n",
    "        self.content = content\n",
    "\n",
    "    async def stream(self, send):\n",
    "        self.stream_called = True\n",
    "        return await send(self.content)\n",
    "\n",
    "\n",
    "async def send(data):\n",
    "    return data"
   ]
  },
  {
   "cell_type": "code",
   "execution_count": null,
   "id": "790434e2",
   "metadata": {},
   "outputs": [
    {
     "data": {
      "application/javascript": [
       "\n",
       "            setTimeout(function() {\n",
       "                var nbb_cell_id = 6;\n",
       "                var nbb_unformatted_code = \"app = AsyncFileASGIHandler()\\ncontent = \\\"<h1>Content!</h1>\\\"\\nresponse = Response(content)\\nreturned_content = await app.send_response(response, send)\\nassert response.stream_called\\nassert content == returned_content\";\n",
       "                var nbb_formatted_code = \"app = AsyncFileASGIHandler()\\ncontent = \\\"<h1>Content!</h1>\\\"\\nresponse = Response(content)\\nreturned_content = await app.send_response(response, send)\\nassert response.stream_called\\nassert content == returned_content\";\n",
       "                var nbb_cells = Jupyter.notebook.get_cells();\n",
       "                for (var i = 0; i < nbb_cells.length; ++i) {\n",
       "                    if (nbb_cells[i].input_prompt_number == nbb_cell_id) {\n",
       "                        if (nbb_cells[i].get_text() == nbb_unformatted_code) {\n",
       "                             nbb_cells[i].set_text(nbb_formatted_code);\n",
       "                        }\n",
       "                        break;\n",
       "                    }\n",
       "                }\n",
       "            }, 500);\n",
       "            "
      ],
      "text/plain": [
       "<IPython.core.display.Javascript object>"
      ]
     },
     "metadata": {},
     "output_type": "display_data"
    }
   ],
   "source": [
    "app = AsyncFileASGIHandler()\n",
    "content = \"<h1>Content!</h1>\"\n",
    "response = Response(content)\n",
    "returned_content = await app.send_response(response, send)\n",
    "assert response.stream_called\n",
    "assert content == returned_content"
   ]
  }
 ],
 "metadata": {
  "kernelspec": {
   "display_name": "Python 3",
   "language": "python",
   "name": "python3"
  }
 },
 "nbformat": 4,
 "nbformat_minor": 5
}
