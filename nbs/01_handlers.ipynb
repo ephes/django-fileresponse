{
 "cells": [
  {
   "cell_type": "code",
   "execution_count": null,
   "id": "bc05f055",
   "metadata": {},
   "outputs": [
    {
     "data": {
      "application/javascript": [
       "\n",
       "            setTimeout(function() {\n",
       "                var nbb_cell_id = 1;\n",
       "                var nbb_unformatted_code = \"# hide\\n# dont_test\\n# default_exp handlers\\n%load_ext nb_black\";\n",
       "                var nbb_formatted_code = \"# hide\\n# dont_test\\n# default_exp handlers\\n%load_ext nb_black\";\n",
       "                var nbb_cells = Jupyter.notebook.get_cells();\n",
       "                for (var i = 0; i < nbb_cells.length; ++i) {\n",
       "                    if (nbb_cells[i].input_prompt_number == nbb_cell_id) {\n",
       "                        if (nbb_cells[i].get_text() == nbb_unformatted_code) {\n",
       "                             nbb_cells[i].set_text(nbb_formatted_code);\n",
       "                        }\n",
       "                        break;\n",
       "                    }\n",
       "                }\n",
       "            }, 500);\n",
       "            "
      ],
      "text/plain": [
       "<IPython.core.display.Javascript object>"
      ]
     },
     "metadata": {},
     "output_type": "display_data"
    }
   ],
   "source": [
    "# hide\n",
    "# dont_test\n",
    "# default_exp handlers\n",
    "%load_ext nb_black"
   ]
  },
  {
   "cell_type": "markdown",
   "id": "e7933e48",
   "metadata": {},
   "source": [
    "# ASGIHandlers"
   ]
  },
  {
   "cell_type": "code",
   "execution_count": null,
   "id": "678a8fd3",
   "metadata": {},
   "outputs": [
    {
     "data": {
      "application/javascript": [
       "\n",
       "            setTimeout(function() {\n",
       "                var nbb_cell_id = 2;\n",
       "                var nbb_unformatted_code = \"# export\\n\\nfrom asgiref.sync import sync_to_async\\nfrom django.core.handlers.asgi import ASGIHandler\\n\\n\\nclass AsyncFileASGIHandler(ASGIHandler):\\n    async def send_response(self, response, send):\\n        if response.is_async:\\n            return await response.stream(send)\\n        else:\\n            return super().send_response(response, send)\";\n",
       "                var nbb_formatted_code = \"# export\\n\\nfrom asgiref.sync import sync_to_async\\nfrom django.core.handlers.asgi import ASGIHandler\\n\\n\\nclass AsyncFileASGIHandler(ASGIHandler):\\n    async def send_response(self, response, send):\\n        if response.is_async:\\n            return await response.stream(send)\\n        else:\\n            return super().send_response(response, send)\";\n",
       "                var nbb_cells = Jupyter.notebook.get_cells();\n",
       "                for (var i = 0; i < nbb_cells.length; ++i) {\n",
       "                    if (nbb_cells[i].input_prompt_number == nbb_cell_id) {\n",
       "                        if (nbb_cells[i].get_text() == nbb_unformatted_code) {\n",
       "                             nbb_cells[i].set_text(nbb_formatted_code);\n",
       "                        }\n",
       "                        break;\n",
       "                    }\n",
       "                }\n",
       "            }, 500);\n",
       "            "
      ],
      "text/plain": [
       "<IPython.core.display.Javascript object>"
      ]
     },
     "metadata": {},
     "output_type": "display_data"
    }
   ],
   "source": [
    "# export\n",
    "\n",
    "from asgiref.sync import sync_to_async\n",
    "from django.core.handlers.asgi import ASGIHandler\n",
    "\n",
    "\n",
    "class AsyncFileASGIHandler(ASGIHandler):\n",
    "    async def send_response(self, response, send):\n",
    "        if response.is_async:\n",
    "            return await response.stream(send)\n",
    "        else:\n",
    "            return super().send_response(response, send)"
   ]
  },
  {
   "cell_type": "markdown",
   "id": "3e7d5515",
   "metadata": {},
   "source": [
    "## Tests"
   ]
  },
  {
   "cell_type": "code",
   "execution_count": null,
   "id": "936ab4b0",
   "metadata": {},
   "outputs": [
    {
     "data": {
      "application/javascript": [
       "\n",
       "            setTimeout(function() {\n",
       "                var nbb_cell_id = 7;\n",
       "                var nbb_unformatted_code = \"# hide\\nimport django\\n\\nfrom django.conf import settings\\n\\ntry:\\n    settings.configure()\\nexcept RuntimeError:\\n    pass\";\n",
       "                var nbb_formatted_code = \"# hide\\nimport django\\n\\nfrom django.conf import settings\\n\\ntry:\\n    settings.configure()\\nexcept RuntimeError:\\n    pass\";\n",
       "                var nbb_cells = Jupyter.notebook.get_cells();\n",
       "                for (var i = 0; i < nbb_cells.length; ++i) {\n",
       "                    if (nbb_cells[i].input_prompt_number == nbb_cell_id) {\n",
       "                        if (nbb_cells[i].get_text() == nbb_unformatted_code) {\n",
       "                             nbb_cells[i].set_text(nbb_formatted_code);\n",
       "                        }\n",
       "                        break;\n",
       "                    }\n",
       "                }\n",
       "            }, 500);\n",
       "            "
      ],
      "text/plain": [
       "<IPython.core.display.Javascript object>"
      ]
     },
     "metadata": {},
     "output_type": "display_data"
    }
   ],
   "source": [
    "# hide\n",
    "import django\n",
    "\n",
    "from django.conf import settings\n",
    "\n",
    "try:\n",
    "    settings.configure()\n",
    "except RuntimeError:\n",
    "    pass"
   ]
  },
  {
   "cell_type": "code",
   "execution_count": null,
   "id": "c92fe6c1",
   "metadata": {},
   "outputs": [
    {
     "data": {
      "application/javascript": [
       "\n",
       "            setTimeout(function() {\n",
       "                var nbb_cell_id = 4;\n",
       "                var nbb_unformatted_code = \"class Response:\\n    is_async = True\\n    stream_called = False\\n\\n    def __init__(self, content):\\n        self.content = content\\n\\n    async def stream(self, send):\\n        self.stream_called = True\\n        return await send(self.content)\\n\\n\\nasync def send(data):\\n    return data\";\n",
       "                var nbb_formatted_code = \"class Response:\\n    is_async = True\\n    stream_called = False\\n\\n    def __init__(self, content):\\n        self.content = content\\n\\n    async def stream(self, send):\\n        self.stream_called = True\\n        return await send(self.content)\\n\\n\\nasync def send(data):\\n    return data\";\n",
       "                var nbb_cells = Jupyter.notebook.get_cells();\n",
       "                for (var i = 0; i < nbb_cells.length; ++i) {\n",
       "                    if (nbb_cells[i].input_prompt_number == nbb_cell_id) {\n",
       "                        if (nbb_cells[i].get_text() == nbb_unformatted_code) {\n",
       "                             nbb_cells[i].set_text(nbb_formatted_code);\n",
       "                        }\n",
       "                        break;\n",
       "                    }\n",
       "                }\n",
       "            }, 500);\n",
       "            "
      ],
      "text/plain": [
       "<IPython.core.display.Javascript object>"
      ]
     },
     "metadata": {},
     "output_type": "display_data"
    }
   ],
   "source": [
    "class Response:\n",
    "    is_async = True\n",
    "    stream_called = False\n",
    "\n",
    "    def __init__(self, content):\n",
    "        self.content = content\n",
    "\n",
    "    async def stream(self, send):\n",
    "        self.stream_called = True\n",
    "        return await send(self.content)\n",
    "\n",
    "\n",
    "async def send(data):\n",
    "    return data"
   ]
  },
  {
   "cell_type": "code",
   "execution_count": null,
   "id": "1ebb735d",
   "metadata": {},
   "outputs": [
    {
     "data": {
      "application/javascript": [
       "\n",
       "            setTimeout(function() {\n",
       "                var nbb_cell_id = 5;\n",
       "                var nbb_unformatted_code = \"app = AsyncFileASGIHandler()\\ncontent = \\\"<h1>Content!</h1>\\\"\\nresponse = Response(content)\\nreturned_content = await app.send_response(response, send)\\nassert response.stream_called\\nassert content == returned_content\";\n",
       "                var nbb_formatted_code = \"app = AsyncFileASGIHandler()\\ncontent = \\\"<h1>Content!</h1>\\\"\\nresponse = Response(content)\\nreturned_content = await app.send_response(response, send)\\nassert response.stream_called\\nassert content == returned_content\";\n",
       "                var nbb_cells = Jupyter.notebook.get_cells();\n",
       "                for (var i = 0; i < nbb_cells.length; ++i) {\n",
       "                    if (nbb_cells[i].input_prompt_number == nbb_cell_id) {\n",
       "                        if (nbb_cells[i].get_text() == nbb_unformatted_code) {\n",
       "                             nbb_cells[i].set_text(nbb_formatted_code);\n",
       "                        }\n",
       "                        break;\n",
       "                    }\n",
       "                }\n",
       "            }, 500);\n",
       "            "
      ],
      "text/plain": [
       "<IPython.core.display.Javascript object>"
      ]
     },
     "metadata": {},
     "output_type": "display_data"
    }
   ],
   "source": [
    "app = AsyncFileASGIHandler()\n",
    "content = \"<h1>Content!</h1>\"\n",
    "response = Response(content)\n",
    "returned_content = await app.send_response(response, send)\n",
    "assert response.stream_called\n",
    "assert content == returned_content"
   ]
  }
 ],
 "metadata": {
  "kernelspec": {
   "display_name": "Python 3",
   "language": "python",
   "name": "python3"
  }
 },
 "nbformat": 4,
 "nbformat_minor": 5
}
