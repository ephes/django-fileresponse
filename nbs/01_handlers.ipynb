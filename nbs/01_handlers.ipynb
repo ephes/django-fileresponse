{
 "cells": [
  {
   "cell_type": "code",
   "execution_count": null,
   "id": "a60129ce",
   "metadata": {},
   "outputs": [
    {
     "data": {
      "application/javascript": [
       "\n",
       "            setTimeout(function() {\n",
       "                var nbb_cell_id = 1;\n",
       "                var nbb_unformatted_code = \"# hide\\n# dont_test\\n# default_exp handlers\\n%load_ext nb_black\";\n",
       "                var nbb_formatted_code = \"# hide\\n# dont_test\\n# default_exp handlers\\n%load_ext nb_black\";\n",
       "                var nbb_cells = Jupyter.notebook.get_cells();\n",
       "                for (var i = 0; i < nbb_cells.length; ++i) {\n",
       "                    if (nbb_cells[i].input_prompt_number == nbb_cell_id) {\n",
       "                        if (nbb_cells[i].get_text() == nbb_unformatted_code) {\n",
       "                             nbb_cells[i].set_text(nbb_formatted_code);\n",
       "                        }\n",
       "                        break;\n",
       "                    }\n",
       "                }\n",
       "            }, 500);\n",
       "            "
      ],
      "text/plain": [
       "<IPython.core.display.Javascript object>"
      ]
     },
     "metadata": {},
     "output_type": "display_data"
    }
   ],
   "source": [
    "# hide\n",
    "# dont_test\n",
    "# default_exp handlers\n",
    "%load_ext nb_black"
   ]
  },
  {
   "cell_type": "markdown",
   "id": "a4adc7a5",
   "metadata": {},
   "source": [
    "# ASGIHandlers\n",
    "\n",
    "AsyncFileASGIHandler inherits from Djangos ASGIHandler and delegates serving the actual content to the http response itself if the response has the attribute `is_async_fileresponse`."
   ]
  },
  {
   "cell_type": "code",
   "execution_count": null,
   "id": "59571161",
   "metadata": {},
   "outputs": [],
   "source": [
    "# export\n",
    "\n",
    "from asgiref.sync import sync_to_async\n",
    "from django.core.handlers.asgi import ASGIHandler\n",
    "\n",
    "\n",
    "class AsyncFileASGIHandler(ASGIHandler):\n",
    "    \"\"\"\n",
    "    Same as default ASGIHandler from Django if there's no `is_async_fileresponse`\n",
    "    attribute. If set to true, AsyncFileASGIHandler delegates the streaming of the\n",
    "    actual response to the response to allow for statements like:\n",
    "        async with aiofiles.open(path):\n",
    "            ...\n",
    "    \n",
    "    or\n",
    "        async with minio_response[\"Body\"] as stream:\n",
    "            ...\n",
    "    \"\"\"\n",
    "    async def send_response(self, response, send):\n",
    "        is_async_fileresponse = getattr(response, \"is_async_fileresponse\", False)\n",
    "        if is_async_fileresponse:\n",
    "            return await response.stream(send)\n",
    "        else:\n",
    "            return await super().send_response(response, send)"
   ]
  },
  {
   "cell_type": "markdown",
   "id": "18782df4",
   "metadata": {},
   "source": [
    "## Tests"
   ]
  },
  {
   "cell_type": "code",
   "execution_count": null,
   "id": "a1993986",
   "metadata": {},
   "outputs": [
    {
     "data": {
      "application/javascript": [
       "\n",
       "            setTimeout(function() {\n",
       "                var nbb_cell_id = 3;\n",
       "                var nbb_unformatted_code = \"# hide\\nimport django\\n\\nfrom django.conf import settings\\n\\ntry:\\n    settings.configure()\\nexcept RuntimeError:\\n    pass\";\n",
       "                var nbb_formatted_code = \"# hide\\nimport django\\n\\nfrom django.conf import settings\\n\\ntry:\\n    settings.configure()\\nexcept RuntimeError:\\n    pass\";\n",
       "                var nbb_cells = Jupyter.notebook.get_cells();\n",
       "                for (var i = 0; i < nbb_cells.length; ++i) {\n",
       "                    if (nbb_cells[i].input_prompt_number == nbb_cell_id) {\n",
       "                        if (nbb_cells[i].get_text() == nbb_unformatted_code) {\n",
       "                             nbb_cells[i].set_text(nbb_formatted_code);\n",
       "                        }\n",
       "                        break;\n",
       "                    }\n",
       "                }\n",
       "            }, 500);\n",
       "            "
      ],
      "text/plain": [
       "<IPython.core.display.Javascript object>"
      ]
     },
     "metadata": {},
     "output_type": "display_data"
    }
   ],
   "source": [
    "# hide\n",
    "import django\n",
    "\n",
    "from django.conf import settings\n",
    "\n",
    "try:\n",
    "    settings.configure()\n",
    "except RuntimeError:\n",
    "    pass"
   ]
  },
  {
   "cell_type": "code",
   "execution_count": null,
   "id": "98a09af1",
   "metadata": {},
   "outputs": [
    {
     "data": {
      "application/javascript": [
       "\n",
       "            setTimeout(function() {\n",
       "                var nbb_cell_id = 6;\n",
       "                var nbb_unformatted_code = \"class Response:\\n    cookies = {}\\n    streaming = True\\n    status_code = 200\\n    stream_called = False\\n\\n    def __init__(self, content, is_async_fileresponse=None):\\n        self.index = -1\\n        self.contents = [content]\\n        if is_async_fileresponse is not None:\\n            self.is_async_fileresponse = is_async_fileresponse\\n\\n    async def stream(self, send):\\n        self.stream_called = True\\n        for content in self.contents:\\n            await send(content)\\n\\n    def __iter__(self):\\n        return self\\n\\n    def __next__(self):\\n        self.index += 1\\n        try:\\n            return self.contents[self.index]\\n        except IndexError:\\n            raise StopIteration\\n\\n    def items(self):\\n        return []\\n\\n    def close(self):\\n        pass\\n\\n\\ndef get_send(received):\\n    async def send(data):\\n        received.append(data)\\n    \\n    return send\";\n",
       "                var nbb_formatted_code = \"class Response:\\n    cookies = {}\\n    streaming = True\\n    status_code = 200\\n    stream_called = False\\n\\n    def __init__(self, content, is_async_fileresponse=None):\\n        self.index = -1\\n        self.contents = [content]\\n        if is_async_fileresponse is not None:\\n            self.is_async_fileresponse = is_async_fileresponse\\n\\n    async def stream(self, send):\\n        self.stream_called = True\\n        for content in self.contents:\\n            await send(content)\\n\\n    def __iter__(self):\\n        return self\\n\\n    def __next__(self):\\n        self.index += 1\\n        try:\\n            return self.contents[self.index]\\n        except IndexError:\\n            raise StopIteration\\n\\n    def items(self):\\n        return []\\n\\n    def close(self):\\n        pass\\n\\n\\ndef get_send(received):\\n    async def send(data):\\n        received.append(data)\\n\\n    return send\";\n",
       "                var nbb_cells = Jupyter.notebook.get_cells();\n",
       "                for (var i = 0; i < nbb_cells.length; ++i) {\n",
       "                    if (nbb_cells[i].input_prompt_number == nbb_cell_id) {\n",
       "                        if (nbb_cells[i].get_text() == nbb_unformatted_code) {\n",
       "                             nbb_cells[i].set_text(nbb_formatted_code);\n",
       "                        }\n",
       "                        break;\n",
       "                    }\n",
       "                }\n",
       "            }, 500);\n",
       "            "
      ],
      "text/plain": [
       "<IPython.core.display.Javascript object>"
      ]
     },
     "metadata": {},
     "output_type": "display_data"
    }
   ],
   "source": [
    "class Response:\n",
    "    cookies = {}\n",
    "    streaming = True\n",
    "    status_code = 200\n",
    "    stream_called = False\n",
    "\n",
    "    def __init__(self, content, is_async_fileresponse=None):\n",
    "        self.index = -1\n",
    "        self.contents = [content]\n",
    "        if is_async_fileresponse is not None:\n",
    "            self.is_async_fileresponse = is_async_fileresponse\n",
    "\n",
    "    async def stream(self, send):\n",
    "        self.stream_called = True\n",
    "        for content in self.contents:\n",
    "            await send(content)\n",
    "\n",
    "    def __iter__(self):\n",
    "        return self\n",
    "\n",
    "    def __next__(self):\n",
    "        self.index += 1\n",
    "        try:\n",
    "            return self.contents[self.index]\n",
    "        except IndexError:\n",
    "            raise StopIteration\n",
    "\n",
    "    def items(self):\n",
    "        return []\n",
    "\n",
    "    def close(self):\n",
    "        pass\n",
    "\n",
    "\n",
    "def get_send(received):\n",
    "    async def send(data):\n",
    "        received.append(data)\n",
    "\n",
    "    return send"
   ]
  },
  {
   "cell_type": "markdown",
   "id": "5b9514e3",
   "metadata": {},
   "source": [
    "### Happy Path"
   ]
  },
  {
   "cell_type": "code",
   "execution_count": null,
   "id": "be702794",
   "metadata": {},
   "outputs": [
    {
     "data": {
      "application/javascript": [
       "\n",
       "            setTimeout(function() {\n",
       "                var nbb_cell_id = 7;\n",
       "                var nbb_unformatted_code = \"app = AsyncFileASGIHandler()\\ncontent = \\\"<h1>Content!</h1>\\\"\\nresponse = Response(content, is_async_fileresponse=True)\\nreceived = []\\nsend = get_send(received)\\nawait app.send_response(response, send)\\nreturned_content = received[0]\\nassert response.stream_called\\nassert content == returned_content\";\n",
       "                var nbb_formatted_code = \"app = AsyncFileASGIHandler()\\ncontent = \\\"<h1>Content!</h1>\\\"\\nresponse = Response(content, is_async_fileresponse=True)\\nreceived = []\\nsend = get_send(received)\\nawait app.send_response(response, send)\\nreturned_content = received[0]\\nassert response.stream_called\\nassert content == returned_content\";\n",
       "                var nbb_cells = Jupyter.notebook.get_cells();\n",
       "                for (var i = 0; i < nbb_cells.length; ++i) {\n",
       "                    if (nbb_cells[i].input_prompt_number == nbb_cell_id) {\n",
       "                        if (nbb_cells[i].get_text() == nbb_unformatted_code) {\n",
       "                             nbb_cells[i].set_text(nbb_formatted_code);\n",
       "                        }\n",
       "                        break;\n",
       "                    }\n",
       "                }\n",
       "            }, 500);\n",
       "            "
      ],
      "text/plain": [
       "<IPython.core.display.Javascript object>"
      ]
     },
     "metadata": {},
     "output_type": "display_data"
    }
   ],
   "source": [
    "app = AsyncFileASGIHandler()\n",
    "content = \"<h1>Content!</h1>\"\n",
    "response = Response(content, is_async_fileresponse=True)\n",
    "received = []\n",
    "send = get_send(received)\n",
    "await app.send_response(response, send)\n",
    "returned_content = received[0]\n",
    "assert response.stream_called\n",
    "assert content == returned_content"
   ]
  },
  {
   "cell_type": "markdown",
   "id": "ba0825cd",
   "metadata": {},
   "source": [
    "### Response Without is_async_fileresponse attribute"
   ]
  },
  {
   "cell_type": "code",
   "execution_count": null,
   "id": "69d73452",
   "metadata": {},
   "outputs": [
    {
     "data": {
      "application/javascript": [
       "\n",
       "            setTimeout(function() {\n",
       "                var nbb_cell_id = 8;\n",
       "                var nbb_unformatted_code = \"app = AsyncFileASGIHandler()\\ncontent = \\\"<h1>Content!</h1>\\\"\\nresponse = Response(content)\\nreceived = []\\nsend = get_send(received)\\nawait app.send_response(response, send)\\nreturned_content = received[1][\\\"body\\\"]\\nassert not response.stream_called\\nassert content == returned_content\";\n",
       "                var nbb_formatted_code = \"app = AsyncFileASGIHandler()\\ncontent = \\\"<h1>Content!</h1>\\\"\\nresponse = Response(content)\\nreceived = []\\nsend = get_send(received)\\nawait app.send_response(response, send)\\nreturned_content = received[1][\\\"body\\\"]\\nassert not response.stream_called\\nassert content == returned_content\";\n",
       "                var nbb_cells = Jupyter.notebook.get_cells();\n",
       "                for (var i = 0; i < nbb_cells.length; ++i) {\n",
       "                    if (nbb_cells[i].input_prompt_number == nbb_cell_id) {\n",
       "                        if (nbb_cells[i].get_text() == nbb_unformatted_code) {\n",
       "                             nbb_cells[i].set_text(nbb_formatted_code);\n",
       "                        }\n",
       "                        break;\n",
       "                    }\n",
       "                }\n",
       "            }, 500);\n",
       "            "
      ],
      "text/plain": [
       "<IPython.core.display.Javascript object>"
      ]
     },
     "metadata": {},
     "output_type": "display_data"
    }
   ],
   "source": [
    "app = AsyncFileASGIHandler()\n",
    "content = \"<h1>Content!</h1>\"\n",
    "response = Response(content)\n",
    "received = []\n",
    "send = get_send(received)\n",
    "await app.send_response(response, send)\n",
    "returned_content = received[1][\"body\"]\n",
    "assert not response.stream_called\n",
    "assert content == returned_content"
   ]
  }
 ],
 "metadata": {
  "kernelspec": {
   "display_name": "Python 3",
   "language": "python",
   "name": "python3"
  }
 },
 "nbformat": 4,
 "nbformat_minor": 5
}
