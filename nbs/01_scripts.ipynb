{
 "cells": [
  {
   "cell_type": "code",
   "execution_count": null,
   "id": "2875b9d5",
   "metadata": {},
   "outputs": [
    {
     "data": {
      "application/javascript": [
       "\n",
       "            setTimeout(function() {\n",
       "                var nbb_cell_id = 1;\n",
       "                var nbb_unformatted_code = \"# dont_test\\n# default_exp scripts\\n%load_ext nb_black\";\n",
       "                var nbb_formatted_code = \"# dont_test\\n# default_exp scripts\\n%load_ext nb_black\";\n",
       "                var nbb_cells = Jupyter.notebook.get_cells();\n",
       "                for (var i = 0; i < nbb_cells.length; ++i) {\n",
       "                    if (nbb_cells[i].input_prompt_number == nbb_cell_id) {\n",
       "                        if (nbb_cells[i].get_text() == nbb_unformatted_code) {\n",
       "                             nbb_cells[i].set_text(nbb_formatted_code);\n",
       "                        }\n",
       "                        break;\n",
       "                    }\n",
       "                }\n",
       "            }, 500);\n",
       "            "
      ],
      "text/plain": [
       "<IPython.core.display.Javascript object>"
      ]
     },
     "metadata": {},
     "output_type": "display_data"
    }
   ],
   "source": [
    "# dont_test\n",
    "# default_exp scripts\n",
    "%load_ext nb_black"
   ]
  },
  {
   "cell_type": "markdown",
   "id": "9751929c",
   "metadata": {},
   "source": [
    "# lib_name Workaround\n",
    "\n",
    "For nbdev lib_name and lib_path have to be identical, but here they are not. This module implements a little workaround."
   ]
  },
  {
   "cell_type": "code",
   "execution_count": null,
   "id": "d572173c",
   "metadata": {},
   "outputs": [
    {
     "data": {
      "application/javascript": [
       "\n",
       "            setTimeout(function() {\n",
       "                var nbb_cell_id = 40;\n",
       "                var nbb_unformatted_code = \"# export\\n\\nfrom pathlib import Path\\nfrom configparser import ConfigParser\\n\\n\\ndef patch_config(settings_path, lib_name):\\n    config = ConfigParser()\\n    config.read(settings_path)\\n    config[\\\"DEFAULT\\\"][\\\"lib_name\\\"] = lib_name\\n    with settings_path.open(\\\"w\\\") as settings_file:\\n        config.write(settings_file)\\n    return config\";\n",
       "                var nbb_formatted_code = \"# export\\n\\nfrom pathlib import Path\\nfrom configparser import ConfigParser\\n\\n\\ndef patch_config(settings_path, lib_name):\\n    config = ConfigParser()\\n    config.read(settings_path)\\n    config[\\\"DEFAULT\\\"][\\\"lib_name\\\"] = lib_name\\n    with settings_path.open(\\\"w\\\") as settings_file:\\n        config.write(settings_file)\\n    return config\";\n",
       "                var nbb_cells = Jupyter.notebook.get_cells();\n",
       "                for (var i = 0; i < nbb_cells.length; ++i) {\n",
       "                    if (nbb_cells[i].input_prompt_number == nbb_cell_id) {\n",
       "                        if (nbb_cells[i].get_text() == nbb_unformatted_code) {\n",
       "                             nbb_cells[i].set_text(nbb_formatted_code);\n",
       "                        }\n",
       "                        break;\n",
       "                    }\n",
       "                }\n",
       "            }, 500);\n",
       "            "
      ],
      "text/plain": [
       "<IPython.core.display.Javascript object>"
      ]
     },
     "metadata": {},
     "output_type": "display_data"
    }
   ],
   "source": [
    "# export\n",
    "\n",
    "from pathlib import Path\n",
    "from configparser import ConfigParser\n",
    "\n",
    "\n",
    "def patch_config(settings_path, lib_name):\n",
    "    config = ConfigParser()\n",
    "    config.read(settings_path)\n",
    "    config[\"DEFAULT\"][\"lib_name\"] = lib_name\n",
    "    with settings_path.open(\"w\") as settings_file:\n",
    "        config.write(settings_file)\n",
    "    return config"
   ]
  },
  {
   "cell_type": "markdown",
   "id": "71839bff",
   "metadata": {},
   "source": [
    "### Test Helper Functions"
   ]
  },
  {
   "cell_type": "code",
   "execution_count": null,
   "id": "b1184994",
   "metadata": {},
   "outputs": [
    {
     "data": {
      "application/javascript": [
       "\n",
       "            setTimeout(function() {\n",
       "                var nbb_cell_id = 50;\n",
       "                var nbb_unformatted_code = \"def setup_settings_file(settings_path):\\n    original_lib_name = \\\"django_fileresponse\\\"\\n    settings_content = f\\\"\\\"\\\"\\n    [DEFAULT]\\n    lib_name = {original_lib_name}\\n    \\\"\\\"\\\"\\n    with settings_path.open(\\\"w\\\") as f:\\n        f.write(settings_content)\\n    return settings_path, original_lib_name\\n\\n\\ndef get_actual_lib_name(settings_path):\\n    config = ConfigParser()\\n    config.read(settings_path)\\n    return config[\\\"DEFAULT\\\"][\\\"lib_name\\\"]\";\n",
       "                var nbb_formatted_code = \"def setup_settings_file(settings_path):\\n    original_lib_name = \\\"django_fileresponse\\\"\\n    settings_content = f\\\"\\\"\\\"\\n    [DEFAULT]\\n    lib_name = {original_lib_name}\\n    \\\"\\\"\\\"\\n    with settings_path.open(\\\"w\\\") as f:\\n        f.write(settings_content)\\n    return settings_path, original_lib_name\\n\\n\\ndef get_actual_lib_name(settings_path):\\n    config = ConfigParser()\\n    config.read(settings_path)\\n    return config[\\\"DEFAULT\\\"][\\\"lib_name\\\"]\";\n",
       "                var nbb_cells = Jupyter.notebook.get_cells();\n",
       "                for (var i = 0; i < nbb_cells.length; ++i) {\n",
       "                    if (nbb_cells[i].input_prompt_number == nbb_cell_id) {\n",
       "                        if (nbb_cells[i].get_text() == nbb_unformatted_code) {\n",
       "                             nbb_cells[i].set_text(nbb_formatted_code);\n",
       "                        }\n",
       "                        break;\n",
       "                    }\n",
       "                }\n",
       "            }, 500);\n",
       "            "
      ],
      "text/plain": [
       "<IPython.core.display.Javascript object>"
      ]
     },
     "metadata": {},
     "output_type": "display_data"
    }
   ],
   "source": [
    "def setup_settings_file(settings_path):\n",
    "    original_lib_name = \"django_fileresponse\"\n",
    "    settings_content = f\"\"\"\n",
    "    [DEFAULT]\n",
    "    lib_name = {original_lib_name}\n",
    "    \"\"\"\n",
    "    with settings_path.open(\"w\") as f:\n",
    "        f.write(settings_content)\n",
    "    return settings_path, original_lib_name\n",
    "\n",
    "\n",
    "def get_actual_lib_name(settings_path):\n",
    "    config = ConfigParser()\n",
    "    config.read(settings_path)\n",
    "    return config[\"DEFAULT\"][\"lib_name\"]"
   ]
  },
  {
   "cell_type": "markdown",
   "id": "761f9a3a",
   "metadata": {},
   "source": [
    "### Test for patch_config"
   ]
  },
  {
   "cell_type": "code",
   "execution_count": null,
   "id": "e6698abb",
   "metadata": {},
   "outputs": [
    {
     "data": {
      "application/javascript": [
       "\n",
       "            setTimeout(function() {\n",
       "                var nbb_cell_id = 51;\n",
       "                var nbb_unformatted_code = \"# arange\\nsettings_path, original_lib_name = setup_settings_file(Path.cwd() / \\\"test.ini\\\")\\n\\n# act\\npatched_lib_name = \\\"fileresponse\\\"\\npatch_config(settings_path, patched_lib_name)\\n\\n# assert\\nactual_lib_name = get_actual_lib_name(settings_path)\\n\\nassert patched_lib_name == actual_lib_name\";\n",
       "                var nbb_formatted_code = \"# arange\\nsettings_path, original_lib_name = setup_settings_file(Path.cwd() / \\\"test.ini\\\")\\n\\n# act\\npatched_lib_name = \\\"fileresponse\\\"\\npatch_config(settings_path, patched_lib_name)\\n\\n# assert\\nactual_lib_name = get_actual_lib_name(settings_path)\\n\\nassert patched_lib_name == actual_lib_name\";\n",
       "                var nbb_cells = Jupyter.notebook.get_cells();\n",
       "                for (var i = 0; i < nbb_cells.length; ++i) {\n",
       "                    if (nbb_cells[i].input_prompt_number == nbb_cell_id) {\n",
       "                        if (nbb_cells[i].get_text() == nbb_unformatted_code) {\n",
       "                             nbb_cells[i].set_text(nbb_formatted_code);\n",
       "                        }\n",
       "                        break;\n",
       "                    }\n",
       "                }\n",
       "            }, 500);\n",
       "            "
      ],
      "text/plain": [
       "<IPython.core.display.Javascript object>"
      ]
     },
     "metadata": {},
     "output_type": "display_data"
    }
   ],
   "source": [
    "# arange\n",
    "settings_path, original_lib_name = setup_settings_file(Path.cwd() / \"test.ini\")\n",
    "\n",
    "# act\n",
    "patched_lib_name = \"fileresponse\"\n",
    "patch_config(settings_path, patched_lib_name)\n",
    "\n",
    "# assert\n",
    "actual_lib_name = get_actual_lib_name(settings_path)\n",
    "\n",
    "assert patched_lib_name == actual_lib_name"
   ]
  },
  {
   "cell_type": "markdown",
   "id": "a2df6c60",
   "metadata": {},
   "source": [
    "## patch_lib_name contextmanager"
   ]
  },
  {
   "cell_type": "code",
   "execution_count": null,
   "id": "6f86e9a7",
   "metadata": {},
   "outputs": [
    {
     "data": {
      "application/javascript": [
       "\n",
       "            setTimeout(function() {\n",
       "                var nbb_cell_id = 47;\n",
       "                var nbb_unformatted_code = \"# export\\n\\nfrom contextlib import contextmanager\\n\\n\\n@contextmanager\\ndef patch_lib_name(settings_path, lib_name):\\n    config = ConfigParser()\\n    config.read(settings_path)\\n    original_lib_name = config[\\\"DEFAULT\\\"][\\\"lib_name\\\"]\\n    config = patch_config(settings_path, lib_name)\\n    try:\\n        yield config\\n    finally:\\n        patch_config(settings_path, original_lib_name)\";\n",
       "                var nbb_formatted_code = \"# export\\n\\nfrom contextlib import contextmanager\\n\\n\\n@contextmanager\\ndef patch_lib_name(settings_path, lib_name):\\n    config = ConfigParser()\\n    config.read(settings_path)\\n    original_lib_name = config[\\\"DEFAULT\\\"][\\\"lib_name\\\"]\\n    config = patch_config(settings_path, lib_name)\\n    try:\\n        yield config\\n    finally:\\n        patch_config(settings_path, original_lib_name)\";\n",
       "                var nbb_cells = Jupyter.notebook.get_cells();\n",
       "                for (var i = 0; i < nbb_cells.length; ++i) {\n",
       "                    if (nbb_cells[i].input_prompt_number == nbb_cell_id) {\n",
       "                        if (nbb_cells[i].get_text() == nbb_unformatted_code) {\n",
       "                             nbb_cells[i].set_text(nbb_formatted_code);\n",
       "                        }\n",
       "                        break;\n",
       "                    }\n",
       "                }\n",
       "            }, 500);\n",
       "            "
      ],
      "text/plain": [
       "<IPython.core.display.Javascript object>"
      ]
     },
     "metadata": {},
     "output_type": "display_data"
    }
   ],
   "source": [
    "# export\n",
    "\n",
    "from contextlib import contextmanager\n",
    "\n",
    "\n",
    "@contextmanager\n",
    "def patch_lib_name(settings_path, lib_name):\n",
    "    config = ConfigParser()\n",
    "    config.read(settings_path)\n",
    "    original_lib_name = config[\"DEFAULT\"][\"lib_name\"]\n",
    "    config = patch_config(settings_path, lib_name)\n",
    "    try:\n",
    "        yield config\n",
    "    finally:\n",
    "        patch_config(settings_path, original_lib_name)"
   ]
  },
  {
   "cell_type": "markdown",
   "id": "fbf2e419",
   "metadata": {},
   "source": [
    "### Test for patch_lib_name contextmanager"
   ]
  },
  {
   "cell_type": "code",
   "execution_count": null,
   "id": "e9f09471",
   "metadata": {},
   "outputs": [
    {
     "data": {
      "application/javascript": [
       "\n",
       "            setTimeout(function() {\n",
       "                var nbb_cell_id = 53;\n",
       "                var nbb_unformatted_code = \"# arange\\nsettings_path, original_lib_name = setup_settings_file(Path.cwd() / \\\"test.ini\\\")\\n\\n# act and assert\\npatched_lib_name = \\\"fileresponse\\\"\\nwith patch_lib_name(settings_path, patched_lib_name) as patched_config:\\n    actual_lib_name = get_actual_lib_name(settings_path)\\n    assert patched_lib_name == actual_lib_name\\n\\n# assert\\nactual_lib_name = get_actual_lib_name(settings_path)\\nassert original_lib_name == actual_lib_name\";\n",
       "                var nbb_formatted_code = \"# arange\\nsettings_path, original_lib_name = setup_settings_file(Path.cwd() / \\\"test.ini\\\")\\n\\n# act and assert\\npatched_lib_name = \\\"fileresponse\\\"\\nwith patch_lib_name(settings_path, patched_lib_name) as patched_config:\\n    actual_lib_name = get_actual_lib_name(settings_path)\\n    assert patched_lib_name == actual_lib_name\\n\\n# assert\\nactual_lib_name = get_actual_lib_name(settings_path)\\nassert original_lib_name == actual_lib_name\";\n",
       "                var nbb_cells = Jupyter.notebook.get_cells();\n",
       "                for (var i = 0; i < nbb_cells.length; ++i) {\n",
       "                    if (nbb_cells[i].input_prompt_number == nbb_cell_id) {\n",
       "                        if (nbb_cells[i].get_text() == nbb_unformatted_code) {\n",
       "                             nbb_cells[i].set_text(nbb_formatted_code);\n",
       "                        }\n",
       "                        break;\n",
       "                    }\n",
       "                }\n",
       "            }, 500);\n",
       "            "
      ],
      "text/plain": [
       "<IPython.core.display.Javascript object>"
      ]
     },
     "metadata": {},
     "output_type": "display_data"
    }
   ],
   "source": [
    "# arange\n",
    "settings_path, original_lib_name = setup_settings_file(Path.cwd() / \"test.ini\")\n",
    "\n",
    "# act and assert\n",
    "patched_lib_name = \"fileresponse\"\n",
    "with patch_lib_name(settings_path, patched_lib_name) as patched_config:\n",
    "    actual_lib_name = get_actual_lib_name(settings_path)\n",
    "    assert patched_lib_name == actual_lib_name\n",
    "\n",
    "# assert\n",
    "actual_lib_name = get_actual_lib_name(settings_path)\n",
    "assert original_lib_name == actual_lib_name"
   ]
  },
  {
   "cell_type": "code",
   "execution_count": null,
   "id": "eaa43788",
   "metadata": {},
   "outputs": [
    {
     "data": {
      "application/javascript": [
       "\n",
       "            setTimeout(function() {\n",
       "                var nbb_cell_id = 13;\n",
       "                var nbb_unformatted_code = \"# export\\n\\nimport re\\nimport sys\\n\\nfrom pathlib import Path\\nfrom configparser import ConfigParser\\nfrom contextlib import contextmanager\\n\\nfrom nbdev.export2html import nbdev_build_docs\\n\\n\\ndef patch_config(settings_path, lib_name):\\n    pass\\n\\n\\ndef undo_patch_config():\\n    pass\\n\\n\\n@contextmanager\\ndef patched_lib_name(settings_path, lib_name):\\n    config = configparser.ConfigParser()\\n    config.read(settings_path)\\n    resource = patch_config(settings_path, lib_name)\\n    try:\\n        yield resource\\n    finally:\\n        undo_patch_config()\\n\\n\\ndef nbdev_build_docs_patched():\\n    print(\\\"hello world\\\")\\n    cwd = Path.cwd()\\n    settings_path = cwd / \\\"settings.ini\\\"\\n    with patched_lib_name(settings_path, \\\"foobar\\\"):\\n        sys.argv[0] = re.sub(r\\\"(-script\\\\.pyw|\\\\.exe)?$\\\", \\\"\\\", sys.argv[0])\\n        sys.exit(nbdev_build_docs())\";\n",
       "                var nbb_formatted_code = \"# export\\n\\nimport re\\nimport sys\\n\\nfrom pathlib import Path\\nfrom configparser import ConfigParser\\nfrom contextlib import contextmanager\\n\\nfrom nbdev.export2html import nbdev_build_docs\\n\\n\\ndef patch_config(settings_path, lib_name):\\n    pass\\n\\n\\ndef undo_patch_config():\\n    pass\\n\\n\\n@contextmanager\\ndef patched_lib_name(settings_path, lib_name):\\n    config = configparser.ConfigParser()\\n    config.read(settings_path)\\n    resource = patch_config(settings_path, lib_name)\\n    try:\\n        yield resource\\n    finally:\\n        undo_patch_config()\\n\\n\\ndef nbdev_build_docs_patched():\\n    print(\\\"hello world\\\")\\n    cwd = Path.cwd()\\n    settings_path = cwd / \\\"settings.ini\\\"\\n    with patched_lib_name(settings_path, \\\"foobar\\\"):\\n        sys.argv[0] = re.sub(r\\\"(-script\\\\.pyw|\\\\.exe)?$\\\", \\\"\\\", sys.argv[0])\\n        sys.exit(nbdev_build_docs())\";\n",
       "                var nbb_cells = Jupyter.notebook.get_cells();\n",
       "                for (var i = 0; i < nbb_cells.length; ++i) {\n",
       "                    if (nbb_cells[i].input_prompt_number == nbb_cell_id) {\n",
       "                        if (nbb_cells[i].get_text() == nbb_unformatted_code) {\n",
       "                             nbb_cells[i].set_text(nbb_formatted_code);\n",
       "                        }\n",
       "                        break;\n",
       "                    }\n",
       "                }\n",
       "            }, 500);\n",
       "            "
      ],
      "text/plain": [
       "<IPython.core.display.Javascript object>"
      ]
     },
     "metadata": {},
     "output_type": "display_data"
    }
   ],
   "source": [
    "# export\n",
    "\n",
    "import re\n",
    "import sys\n",
    "\n",
    "from pathlib import Path\n",
    "from contextlib import contextmanager\n",
    "\n",
    "from nbdev.export2html import nbdev_build_docs\n",
    "\n",
    "\n",
    "def nbdev_build_docs_patched():\n",
    "    print(\"hello world\")\n",
    "    cwd = Path.cwd()\n",
    "    settings_path = cwd / \"settings.ini\"\n",
    "    with patch_lib_name(settings_path, \"fileresponse\"):\n",
    "        sys.argv[0] = re.sub(r\"(-script\\.pyw|\\.exe)?$\", \"\", sys.argv[0])\n",
    "        sys.exit(nbdev_build_docs())"
   ]
  }
 ],
 "metadata": {
  "kernelspec": {
   "display_name": "Python 3",
   "language": "python",
   "name": "python3"
  }
 },
 "nbformat": 4,
 "nbformat_minor": 5
}
