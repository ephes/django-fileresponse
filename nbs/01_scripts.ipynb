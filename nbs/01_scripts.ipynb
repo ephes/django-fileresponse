{
 "cells": [
  {
   "cell_type": "code",
   "execution_count": null,
   "id": "2875b9d5",
   "metadata": {},
   "outputs": [
    {
     "data": {
      "application/javascript": [
       "\n",
       "            setTimeout(function() {\n",
       "                var nbb_cell_id = 1;\n",
       "                var nbb_unformatted_code = \"# dont_test\\n# default_exp scripts\\n%load_ext nb_black\";\n",
       "                var nbb_formatted_code = \"# dont_test\\n# default_exp scripts\\n%load_ext nb_black\";\n",
       "                var nbb_cells = Jupyter.notebook.get_cells();\n",
       "                for (var i = 0; i < nbb_cells.length; ++i) {\n",
       "                    if (nbb_cells[i].input_prompt_number == nbb_cell_id) {\n",
       "                        if (nbb_cells[i].get_text() == nbb_unformatted_code) {\n",
       "                             nbb_cells[i].set_text(nbb_formatted_code);\n",
       "                        }\n",
       "                        break;\n",
       "                    }\n",
       "                }\n",
       "            }, 500);\n",
       "            "
      ],
      "text/plain": [
       "<IPython.core.display.Javascript object>"
      ]
     },
     "metadata": {},
     "output_type": "display_data"
    }
   ],
   "source": [
    "# dont_test\n",
    "# default_exp scripts\n",
    "%load_ext nb_black"
   ]
  },
  {
   "cell_type": "code",
   "execution_count": null,
   "id": "eaa43788",
   "metadata": {},
   "outputs": [
    {
     "data": {
      "application/javascript": [
       "\n",
       "            setTimeout(function() {\n",
       "                var nbb_cell_id = 2;\n",
       "                var nbb_unformatted_code = \"# export\\n\\nimport re\\nimport sys\\n\\nfrom nbdev.export2html import nbdev_build_docs\\n\\n\\ndef nbdev_build_docs_patched():\\n    print(\\\"hello world\\\")\\n    sys.argv[0] = re.sub(r'(-script\\\\.pyw|\\\\.exe)?$', '', sys.argv[0])\\n    sys.exit(nbdev_build_docs())\";\n",
       "                var nbb_formatted_code = \"# export\\n\\nimport re\\nimport sys\\n\\nfrom nbdev.export2html import nbdev_build_docs\\n\\n\\ndef nbdev_build_docs_patched():\\n    print(\\\"hello world\\\")\\n    sys.argv[0] = re.sub(r\\\"(-script\\\\.pyw|\\\\.exe)?$\\\", \\\"\\\", sys.argv[0])\\n    sys.exit(nbdev_build_docs())\";\n",
       "                var nbb_cells = Jupyter.notebook.get_cells();\n",
       "                for (var i = 0; i < nbb_cells.length; ++i) {\n",
       "                    if (nbb_cells[i].input_prompt_number == nbb_cell_id) {\n",
       "                        if (nbb_cells[i].get_text() == nbb_unformatted_code) {\n",
       "                             nbb_cells[i].set_text(nbb_formatted_code);\n",
       "                        }\n",
       "                        break;\n",
       "                    }\n",
       "                }\n",
       "            }, 500);\n",
       "            "
      ],
      "text/plain": [
       "<IPython.core.display.Javascript object>"
      ]
     },
     "metadata": {},
     "output_type": "display_data"
    }
   ],
   "source": [
    "# export\n",
    "\n",
    "import re\n",
    "import sys\n",
    "\n",
    "from nbdev.export2html import nbdev_build_docs\n",
    "\n",
    "\n",
    "def nbdev_build_docs_patched():\n",
    "    print(\"hello world\")\n",
    "    sys.argv[0] = re.sub(r\"(-script\\.pyw|\\.exe)?$\", \"\", sys.argv[0])\n",
    "    sys.exit(nbdev_build_docs())"
   ]
  }
 ],
 "metadata": {
  "kernelspec": {
   "display_name": "Python 3",
   "language": "python",
   "name": "python3"
  }
 },
 "nbformat": 4,
 "nbformat_minor": 5
}
