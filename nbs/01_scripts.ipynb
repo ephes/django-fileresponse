{
 "cells": [
  {
   "cell_type": "code",
   "execution_count": null,
   "id": "2875b9d5",
   "metadata": {},
   "outputs": [
    {
     "data": {
      "application/javascript": [
       "\n",
       "            setTimeout(function() {\n",
       "                var nbb_cell_id = 1;\n",
       "                var nbb_unformatted_code = \"# dont_test\\n# default_exp scripts\\n%load_ext nb_black\";\n",
       "                var nbb_formatted_code = \"# dont_test\\n# default_exp scripts\\n%load_ext nb_black\";\n",
       "                var nbb_cells = Jupyter.notebook.get_cells();\n",
       "                for (var i = 0; i < nbb_cells.length; ++i) {\n",
       "                    if (nbb_cells[i].input_prompt_number == nbb_cell_id) {\n",
       "                        if (nbb_cells[i].get_text() == nbb_unformatted_code) {\n",
       "                             nbb_cells[i].set_text(nbb_formatted_code);\n",
       "                        }\n",
       "                        break;\n",
       "                    }\n",
       "                }\n",
       "            }, 500);\n",
       "            "
      ],
      "text/plain": [
       "<IPython.core.display.Javascript object>"
      ]
     },
     "metadata": {},
     "output_type": "display_data"
    }
   ],
   "source": [
    "# dont_test\n",
    "# default_exp scripts\n",
    "%load_ext nb_black"
   ]
  },
  {
   "cell_type": "markdown",
   "id": "157dde6e",
   "metadata": {},
   "source": [
    "# Workaround for lib_name != lib_path\n",
    "\n",
    "The script nbdev_build_docs fails trying to import from lib_name which is django_fileresponse while the correct package to import from is lib_path==fileresponse. To make nbdev_build_docs work, we create a nbdev_build_docs_patched script which replaces lib_name in settings with `fileresponse`."
   ]
  },
  {
   "cell_type": "code",
   "execution_count": null,
   "id": "c48ff547",
   "metadata": {},
   "outputs": [
    {
     "data": {
      "application/javascript": [
       "\n",
       "            setTimeout(function() {\n",
       "                var nbb_cell_id = 67;\n",
       "                var nbb_unformatted_code = \"# hide\\n# export\\n\\nfrom pathlib import Path\\nfrom configparser import ConfigParser\\n\\n\\ndef get_config(settings_path):\\n    config = ConfigParser()\\n    config.read(settings_path)\\n    return config\\n\\n\\ndef patch_config(settings_path, lib_name):\\n    config = get_config(settings_path)\\n    config[\\\"DEFAULT\\\"][\\\"lib_name\\\"] = lib_name\\n    with settings_path.open(\\\"w\\\") as settings_file:\\n        config.write(settings_file)\\n    return config\";\n",
       "                var nbb_formatted_code = \"# hide\\n# export\\n\\nfrom pathlib import Path\\nfrom configparser import ConfigParser\\n\\n\\ndef get_config(settings_path):\\n    config = ConfigParser()\\n    config.read(settings_path)\\n    return config\\n\\n\\ndef patch_config(settings_path, lib_name):\\n    config = get_config(settings_path)\\n    config[\\\"DEFAULT\\\"][\\\"lib_name\\\"] = lib_name\\n    with settings_path.open(\\\"w\\\") as settings_file:\\n        config.write(settings_file)\\n    return config\";\n",
       "                var nbb_cells = Jupyter.notebook.get_cells();\n",
       "                for (var i = 0; i < nbb_cells.length; ++i) {\n",
       "                    if (nbb_cells[i].input_prompt_number == nbb_cell_id) {\n",
       "                        if (nbb_cells[i].get_text() == nbb_unformatted_code) {\n",
       "                             nbb_cells[i].set_text(nbb_formatted_code);\n",
       "                        }\n",
       "                        break;\n",
       "                    }\n",
       "                }\n",
       "            }, 500);\n",
       "            "
      ],
      "text/plain": [
       "<IPython.core.display.Javascript object>"
      ]
     },
     "metadata": {},
     "output_type": "display_data"
    }
   ],
   "source": [
    "# export\n",
    "\n",
    "from pathlib import Path\n",
    "from configparser import ConfigParser\n",
    "\n",
    "\n",
    "def get_config(settings_path):\n",
    "    config = ConfigParser()\n",
    "    config.read(settings_path)\n",
    "    return config\n",
    "\n",
    "\n",
    "def patch_config(settings_path, lib_name):\n",
    "    config = get_config(settings_path)\n",
    "    config[\"DEFAULT\"][\"lib_name\"] = lib_name\n",
    "    with settings_path.open(\"w\") as settings_file:\n",
    "        config.write(settings_file)\n",
    "    return config"
   ]
  },
  {
   "cell_type": "code",
   "execution_count": null,
   "id": "5177b1a4",
   "metadata": {},
   "outputs": [
    {
     "data": {
      "application/javascript": [
       "\n",
       "            setTimeout(function() {\n",
       "                var nbb_cell_id = 65;\n",
       "                var nbb_unformatted_code = \"# hide\\n# Test helper functions\\n\\ndef setup_settings_file(settings_path):\\n    original_lib_name = \\\"django_fileresponse\\\"\\n    settings_content = f\\\"\\\"\\\"\\n    [DEFAULT]\\n    lib_name = {original_lib_name}\\n    \\\"\\\"\\\"\\n    with settings_path.open(\\\"w\\\") as f:\\n        f.write(settings_content)\\n    return settings_path, original_lib_name\\n\\n\\ndef get_actual_lib_name(settings_path):\\n    config = get_config(settings_path)\\n    return config[\\\"DEFAULT\\\"][\\\"lib_name\\\"]\";\n",
       "                var nbb_formatted_code = \"# hide\\n# Test helper functions\\n\\n\\ndef setup_settings_file(settings_path):\\n    original_lib_name = \\\"django_fileresponse\\\"\\n    settings_content = f\\\"\\\"\\\"\\n    [DEFAULT]\\n    lib_name = {original_lib_name}\\n    \\\"\\\"\\\"\\n    with settings_path.open(\\\"w\\\") as f:\\n        f.write(settings_content)\\n    return settings_path, original_lib_name\\n\\n\\ndef get_actual_lib_name(settings_path):\\n    config = get_config(settings_path)\\n    return config[\\\"DEFAULT\\\"][\\\"lib_name\\\"]\";\n",
       "                var nbb_cells = Jupyter.notebook.get_cells();\n",
       "                for (var i = 0; i < nbb_cells.length; ++i) {\n",
       "                    if (nbb_cells[i].input_prompt_number == nbb_cell_id) {\n",
       "                        if (nbb_cells[i].get_text() == nbb_unformatted_code) {\n",
       "                             nbb_cells[i].set_text(nbb_formatted_code);\n",
       "                        }\n",
       "                        break;\n",
       "                    }\n",
       "                }\n",
       "            }, 500);\n",
       "            "
      ],
      "text/plain": [
       "<IPython.core.display.Javascript object>"
      ]
     },
     "metadata": {},
     "output_type": "display_data"
    }
   ],
   "source": [
    "# Test helper functions\n",
    "\n",
    "\n",
    "def setup_settings_file(settings_path):\n",
    "    original_lib_name = \"django_fileresponse\"\n",
    "    settings_content = f\"\"\"\n",
    "    [DEFAULT]\n",
    "    lib_name = {original_lib_name}\n",
    "    \"\"\"\n",
    "    with settings_path.open(\"w\") as f:\n",
    "        f.write(settings_content)\n",
    "    return settings_path, original_lib_name\n",
    "\n",
    "\n",
    "def get_actual_lib_name(settings_path):\n",
    "    config = get_config(settings_path)\n",
    "    return config[\"DEFAULT\"][\"lib_name\"]"
   ]
  },
  {
   "cell_type": "code",
   "execution_count": null,
   "id": "6d30a230",
   "metadata": {},
   "outputs": [
    {
     "data": {
      "application/javascript": [
       "\n",
       "            setTimeout(function() {\n",
       "                var nbb_cell_id = 66;\n",
       "                var nbb_unformatted_code = \"# hide\\n# Test for patch_config\\n# arange\\nsettings_path, original_lib_name = setup_settings_file(Path.cwd() / \\\"test.ini\\\")\\n\\n# act\\npatched_lib_name = \\\"fileresponse\\\"\\npatch_config(settings_path, patched_lib_name)\\n\\n# assert\\nactual_lib_name = get_actual_lib_name(settings_path)\\nassert patched_lib_name == actual_lib_name\";\n",
       "                var nbb_formatted_code = \"# hide\\n# Test for patch_config\\n# arange\\nsettings_path, original_lib_name = setup_settings_file(Path.cwd() / \\\"test.ini\\\")\\n\\n# act\\npatched_lib_name = \\\"fileresponse\\\"\\npatch_config(settings_path, patched_lib_name)\\n\\n# assert\\nactual_lib_name = get_actual_lib_name(settings_path)\\nassert patched_lib_name == actual_lib_name\";\n",
       "                var nbb_cells = Jupyter.notebook.get_cells();\n",
       "                for (var i = 0; i < nbb_cells.length; ++i) {\n",
       "                    if (nbb_cells[i].input_prompt_number == nbb_cell_id) {\n",
       "                        if (nbb_cells[i].get_text() == nbb_unformatted_code) {\n",
       "                             nbb_cells[i].set_text(nbb_formatted_code);\n",
       "                        }\n",
       "                        break;\n",
       "                    }\n",
       "                }\n",
       "            }, 500);\n",
       "            "
      ],
      "text/plain": [
       "<IPython.core.display.Javascript object>"
      ]
     },
     "metadata": {},
     "output_type": "display_data"
    }
   ],
   "source": [
    "# hide\n",
    "# Test for patch_config\n",
    "# arange\n",
    "settings_path, original_lib_name = setup_settings_file(Path.cwd() / \"test.ini\")\n",
    "\n",
    "# act\n",
    "patched_lib_name = \"fileresponse\"\n",
    "patch_config(settings_path, patched_lib_name)\n",
    "\n",
    "# assert\n",
    "actual_lib_name = get_actual_lib_name(settings_path)\n",
    "assert patched_lib_name == actual_lib_name"
   ]
  },
  {
   "cell_type": "markdown",
   "id": "07f4743d",
   "metadata": {},
   "source": [
    "## Contextmanager patching settings.ini lib_name"
   ]
  },
  {
   "cell_type": "code",
   "execution_count": null,
   "id": "96e3a6fc",
   "metadata": {},
   "outputs": [
    {
     "data": {
      "application/javascript": [
       "\n",
       "            setTimeout(function() {\n",
       "                var nbb_cell_id = 62;\n",
       "                var nbb_unformatted_code = \"# export\\n\\nfrom contextlib import contextmanager\\n\\n\\n@contextmanager\\ndef patch_lib_name(settings_path, lib_name):\\n    config = get_config(settings_path)\\n    original_lib_name = config[\\\"DEFAULT\\\"][\\\"lib_name\\\"]\\n    config = patch_config(settings_path, lib_name)\\n    try:\\n        yield config\\n    finally:\\n        patch_config(settings_path, original_lib_name)\";\n",
       "                var nbb_formatted_code = \"# export\\n\\nfrom contextlib import contextmanager\\n\\n\\n@contextmanager\\ndef patch_lib_name(settings_path, lib_name):\\n    config = get_config(settings_path)\\n    original_lib_name = config[\\\"DEFAULT\\\"][\\\"lib_name\\\"]\\n    config = patch_config(settings_path, lib_name)\\n    try:\\n        yield config\\n    finally:\\n        patch_config(settings_path, original_lib_name)\";\n",
       "                var nbb_cells = Jupyter.notebook.get_cells();\n",
       "                for (var i = 0; i < nbb_cells.length; ++i) {\n",
       "                    if (nbb_cells[i].input_prompt_number == nbb_cell_id) {\n",
       "                        if (nbb_cells[i].get_text() == nbb_unformatted_code) {\n",
       "                             nbb_cells[i].set_text(nbb_formatted_code);\n",
       "                        }\n",
       "                        break;\n",
       "                    }\n",
       "                }\n",
       "            }, 500);\n",
       "            "
      ],
      "text/plain": [
       "<IPython.core.display.Javascript object>"
      ]
     },
     "metadata": {},
     "output_type": "display_data"
    }
   ],
   "source": [
    "# export\n",
    "\n",
    "from contextlib import contextmanager\n",
    "\n",
    "\n",
    "@contextmanager\n",
    "def patch_lib_name(settings_path, lib_name):\n",
    "    config = get_config(settings_path)\n",
    "    original_lib_name = config[\"DEFAULT\"][\"lib_name\"]\n",
    "    config = patch_config(settings_path, lib_name)\n",
    "    try:\n",
    "        yield config\n",
    "    finally:\n",
    "        patch_config(settings_path, original_lib_name)"
   ]
  },
  {
   "cell_type": "markdown",
   "id": "ccabe53c",
   "metadata": {},
   "source": [
    "### Usage"
   ]
  },
  {
   "cell_type": "code",
   "execution_count": null,
   "id": "1ad5b5fd",
   "metadata": {},
   "outputs": [
    {
     "name": "stdout",
     "output_type": "stream",
     "text": [
      "lib_name original vs patched:  django_fileresponse fileresponse\n",
      "after leaving contextmanager, lib_name is back to original:  django_fileresponse\n"
     ]
    },
    {
     "data": {
      "application/javascript": [
       "\n",
       "            setTimeout(function() {\n",
       "                var nbb_cell_id = 68;\n",
       "                var nbb_unformatted_code = \"settings_path, original_lib_name = setup_settings_file(Path.cwd() / \\\"test.ini\\\")\\nwith patch_lib_name(settings_path, \\\"fileresponse\\\") as patched_config:\\n    patched_lib_name = get_actual_lib_name(settings_path)\\n    print(\\\"lib_name original vs patched: \\\", original_lib_name, patched_lib_name)\\nreset_lib_name = get_actual_lib_name(settings_path)\\nprint(\\\"after leaving contextmanager, lib_name is back to original: \\\", reset_lib_name)\";\n",
       "                var nbb_formatted_code = \"settings_path, original_lib_name = setup_settings_file(Path.cwd() / \\\"test.ini\\\")\\nwith patch_lib_name(settings_path, \\\"fileresponse\\\") as patched_config:\\n    patched_lib_name = get_actual_lib_name(settings_path)\\n    print(\\\"lib_name original vs patched: \\\", original_lib_name, patched_lib_name)\\nreset_lib_name = get_actual_lib_name(settings_path)\\nprint(\\\"after leaving contextmanager, lib_name is back to original: \\\", reset_lib_name)\";\n",
       "                var nbb_cells = Jupyter.notebook.get_cells();\n",
       "                for (var i = 0; i < nbb_cells.length; ++i) {\n",
       "                    if (nbb_cells[i].input_prompt_number == nbb_cell_id) {\n",
       "                        if (nbb_cells[i].get_text() == nbb_unformatted_code) {\n",
       "                             nbb_cells[i].set_text(nbb_formatted_code);\n",
       "                        }\n",
       "                        break;\n",
       "                    }\n",
       "                }\n",
       "            }, 500);\n",
       "            "
      ],
      "text/plain": [
       "<IPython.core.display.Javascript object>"
      ]
     },
     "metadata": {},
     "output_type": "display_data"
    }
   ],
   "source": [
    "settings_path, original_lib_name = setup_settings_file(Path.cwd() / \"test.ini\")\n",
    "with patch_lib_name(settings_path, \"fileresponse\") as patched_config:\n",
    "    patched_lib_name = get_actual_lib_name(settings_path)\n",
    "    print(\"lib_name original vs patched: \", original_lib_name, patched_lib_name)\n",
    "reset_lib_name = get_actual_lib_name(settings_path)\n",
    "print(\"after leaving contextmanager, lib_name is back to original: \", reset_lib_name)"
   ]
  },
  {
   "cell_type": "code",
   "execution_count": null,
   "id": "20f3a0c7",
   "metadata": {},
   "outputs": [
    {
     "data": {
      "application/javascript": [
       "\n",
       "            setTimeout(function() {\n",
       "                var nbb_cell_id = 69;\n",
       "                var nbb_unformatted_code = \"# Test for patch_lib_name contextmanager\\n# arange\\nsettings_path, original_lib_name = setup_settings_file(Path.cwd() / \\\"test.ini\\\")\\n\\n# act and assert\\npatched_lib_name = \\\"fileresponse\\\"\\nwith patch_lib_name(settings_path, patched_lib_name) as patched_config:\\n    actual_lib_name = get_actual_lib_name(settings_path)\\n    assert patched_lib_name == actual_lib_name\\n\\n# assert\\nactual_lib_name = get_actual_lib_name(settings_path)\\nassert original_lib_name == actual_lib_name\";\n",
       "                var nbb_formatted_code = \"# Test for patch_lib_name contextmanager\\n# arange\\nsettings_path, original_lib_name = setup_settings_file(Path.cwd() / \\\"test.ini\\\")\\n\\n# act and assert\\npatched_lib_name = \\\"fileresponse\\\"\\nwith patch_lib_name(settings_path, patched_lib_name) as patched_config:\\n    actual_lib_name = get_actual_lib_name(settings_path)\\n    assert patched_lib_name == actual_lib_name\\n\\n# assert\\nactual_lib_name = get_actual_lib_name(settings_path)\\nassert original_lib_name == actual_lib_name\";\n",
       "                var nbb_cells = Jupyter.notebook.get_cells();\n",
       "                for (var i = 0; i < nbb_cells.length; ++i) {\n",
       "                    if (nbb_cells[i].input_prompt_number == nbb_cell_id) {\n",
       "                        if (nbb_cells[i].get_text() == nbb_unformatted_code) {\n",
       "                             nbb_cells[i].set_text(nbb_formatted_code);\n",
       "                        }\n",
       "                        break;\n",
       "                    }\n",
       "                }\n",
       "            }, 500);\n",
       "            "
      ],
      "text/plain": [
       "<IPython.core.display.Javascript object>"
      ]
     },
     "metadata": {},
     "output_type": "display_data"
    }
   ],
   "source": [
    "# Test for patch_lib_name contextmanager\n",
    "# arange\n",
    "settings_path, original_lib_name = setup_settings_file(Path.cwd() / \"test.ini\")\n",
    "\n",
    "# act and assert\n",
    "patched_lib_name = \"fileresponse\"\n",
    "with patch_lib_name(settings_path, patched_lib_name) as patched_config:\n",
    "    actual_lib_name = get_actual_lib_name(settings_path)\n",
    "    assert patched_lib_name == actual_lib_name\n",
    "\n",
    "# assert\n",
    "actual_lib_name = get_actual_lib_name(settings_path)\n",
    "assert original_lib_name == actual_lib_name"
   ]
  },
  {
   "cell_type": "code",
   "execution_count": null,
   "id": "eaa43788",
   "metadata": {},
   "outputs": [
    {
     "data": {
      "application/javascript": [
       "\n",
       "            setTimeout(function() {\n",
       "                var nbb_cell_id = 64;\n",
       "                var nbb_unformatted_code = \"# export\\n\\nimport re\\nimport sys\\n\\nfrom pathlib import Path\\nfrom contextlib import contextmanager\\n\\nfrom nbdev.export2html import nbdev_build_docs\\n\\n\\ndef nbdev_build_docs_patched():\\n    print(\\\"file? \\\", __file__)\\n    cwd = Path.cwd()\\n    settings_path = cwd / \\\"settings.ini\\\"\\n    with patch_lib_name(settings_path, \\\"fileresponse\\\"):\\n        sys.argv[0] = re.sub(r\\\"(-script\\\\.pyw|\\\\.exe)?$\\\", \\\"\\\", sys.argv[0])\\n        sys.exit(nbdev_build_docs())\";\n",
       "                var nbb_formatted_code = \"# export\\n\\nimport re\\nimport sys\\n\\nfrom pathlib import Path\\nfrom contextlib import contextmanager\\n\\nfrom nbdev.export2html import nbdev_build_docs\\n\\n\\ndef nbdev_build_docs_patched():\\n    print(\\\"file? \\\", __file__)\\n    cwd = Path.cwd()\\n    settings_path = cwd / \\\"settings.ini\\\"\\n    with patch_lib_name(settings_path, \\\"fileresponse\\\"):\\n        sys.argv[0] = re.sub(r\\\"(-script\\\\.pyw|\\\\.exe)?$\\\", \\\"\\\", sys.argv[0])\\n        sys.exit(nbdev_build_docs())\";\n",
       "                var nbb_cells = Jupyter.notebook.get_cells();\n",
       "                for (var i = 0; i < nbb_cells.length; ++i) {\n",
       "                    if (nbb_cells[i].input_prompt_number == nbb_cell_id) {\n",
       "                        if (nbb_cells[i].get_text() == nbb_unformatted_code) {\n",
       "                             nbb_cells[i].set_text(nbb_formatted_code);\n",
       "                        }\n",
       "                        break;\n",
       "                    }\n",
       "                }\n",
       "            }, 500);\n",
       "            "
      ],
      "text/plain": [
       "<IPython.core.display.Javascript object>"
      ]
     },
     "metadata": {},
     "output_type": "display_data"
    }
   ],
   "source": [
    "# export\n",
    "\n",
    "import re\n",
    "import sys\n",
    "\n",
    "from nbdev.export2html import nbdev_build_docs\n",
    "\n",
    "\n",
    "def nbdev_build_docs_patched():\n",
    "    project_root = Path(__file__).parent.parent\n",
    "    settings_path = project_root / \"settings.ini\"\n",
    "    with patch_lib_name(settings_path, \"fileresponse\"):\n",
    "        sys.argv[0] = re.sub(r\"(-script\\.pyw|\\.exe)?$\", \"\", sys.argv[0])\n",
    "        sys.exit(nbdev_build_docs())"
   ]
  }
 ],
 "metadata": {
  "kernelspec": {
   "display_name": "Python 3",
   "language": "python",
   "name": "python3"
  }
 },
 "nbformat": 4,
 "nbformat_minor": 5
}
