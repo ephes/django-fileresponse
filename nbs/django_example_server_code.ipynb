{
 "cells": [
  {
   "cell_type": "code",
   "execution_count": null,
   "id": "499f0492",
   "metadata": {},
   "outputs": [
    {
     "data": {
      "application/javascript": [
       "\n",
       "            setTimeout(function() {\n",
       "                var nbb_cell_id = 1;\n",
       "                var nbb_unformatted_code = \"# hide\\n# dont_test\\n%load_ext nb_black\";\n",
       "                var nbb_formatted_code = \"# hide\\n# dont_test\\n%load_ext nb_black\";\n",
       "                var nbb_cells = Jupyter.notebook.get_cells();\n",
       "                for (var i = 0; i < nbb_cells.length; ++i) {\n",
       "                    if (nbb_cells[i].input_prompt_number == nbb_cell_id) {\n",
       "                        if (nbb_cells[i].get_text() == nbb_unformatted_code) {\n",
       "                             nbb_cells[i].set_text(nbb_formatted_code);\n",
       "                        }\n",
       "                        break;\n",
       "                    }\n",
       "                }\n",
       "            }, 500);\n",
       "            "
      ],
      "text/plain": [
       "<IPython.core.display.Javascript object>"
      ]
     },
     "metadata": {},
     "output_type": "display_data"
    }
   ],
   "source": [
    "# hide\n",
    "# dont_test\n",
    "%load_ext nb_black"
   ]
  },
  {
   "cell_type": "markdown",
   "id": "3c7d36ce",
   "metadata": {},
   "source": [
    "# Django Example Server"
   ]
  },
  {
   "cell_type": "markdown",
   "id": "93176251",
   "metadata": {},
   "source": [
    "## Views"
   ]
  },
  {
   "cell_type": "code",
   "execution_count": null,
   "id": "3a02ad52",
   "metadata": {},
   "outputs": [
    {
     "name": "stdout",
     "output_type": "stream",
     "text": [
      "Overwriting ../example/example/views.py\n"
     ]
    },
    {
     "data": {
      "application/javascript": [
       "\n",
       "            setTimeout(function() {\n",
       "                var nbb_cell_id = 6;\n",
       "                var nbb_unformatted_code = \"%%writefile ../example/example/views.py\\n# dont_test\\n\\nfrom pathlib import Path\\n\\nfrom django.http import HttpResponse\\nfrom django.http import FileResponse\\n\\nfrom fileresponse.http import AsyncFileResponse\\n\\n\\ndef get_file(request, num=None):\\n    file_path = Path(__file__).parent.parent / \\\"data\\\" / str(num)\\n    print(str(file_path))\\n    return FileResponse(file_path.open(\\\"rb\\\"))\\n\\n\\nasync def aget_file(request, num=None):\\n    file_path = Path(__file__).parent.parent / \\\"data\\\" / str(num)\\n    print(\\\"async: \\\", str(file_path))\\n    return AsyncFileResponse(file_path)\";\n",
       "                var nbb_formatted_code = \"%%writefile ../example/example/views.py\\n# dont_test\\n\\nfrom pathlib import Path\\n\\nfrom django.http import HttpResponse\\nfrom django.http import FileResponse\\n\\nfrom fileresponse.http import AsyncFileResponse\\n\\n\\ndef get_file(request, num=None):\\n    file_path = Path(__file__).parent.parent / \\\"data\\\" / str(num)\\n    print(str(file_path))\\n    return FileResponse(file_path.open(\\\"rb\\\"))\\n\\n\\nasync def aget_file(request, num=None):\\n    file_path = Path(__file__).parent.parent / \\\"data\\\" / str(num)\\n    print(\\\"async: \\\", str(file_path))\\n    return AsyncFileResponse(file_path)\";\n",
       "                var nbb_cells = Jupyter.notebook.get_cells();\n",
       "                for (var i = 0; i < nbb_cells.length; ++i) {\n",
       "                    if (nbb_cells[i].input_prompt_number == nbb_cell_id) {\n",
       "                        if (nbb_cells[i].get_text() == nbb_unformatted_code) {\n",
       "                             nbb_cells[i].set_text(nbb_formatted_code);\n",
       "                        }\n",
       "                        break;\n",
       "                    }\n",
       "                }\n",
       "            }, 500);\n",
       "            "
      ],
      "text/plain": [
       "<IPython.core.display.Javascript object>"
      ]
     },
     "metadata": {},
     "output_type": "display_data"
    }
   ],
   "source": [
    "%%writefile ../example/example/views.py\n",
    "# dont_test\n",
    "\n",
    "from pathlib import Path\n",
    "\n",
    "from django.http import HttpResponse\n",
    "from django.http import FileResponse\n",
    "\n",
    "from fileresponse.http import AsyncFileResponse\n",
    "\n",
    "\n",
    "def get_file(request, num=None):\n",
    "    file_path = Path(__file__).parent.parent / \"data\" / str(num)\n",
    "    print(str(file_path))\n",
    "    return FileResponse(file_path.open(\"rb\"))\n",
    "\n",
    "\n",
    "async def aget_file(request, num=None):\n",
    "    file_path = Path(__file__).parent.parent / \"data\" / str(num)\n",
    "    return AsyncFileResponse(file_path)"
   ]
  },
  {
   "cell_type": "markdown",
   "id": "25207203",
   "metadata": {},
   "source": [
    "## Urls"
   ]
  },
  {
   "cell_type": "code",
   "execution_count": null,
   "id": "2bc508db",
   "metadata": {},
   "outputs": [
    {
     "name": "stdout",
     "output_type": "stream",
     "text": [
      "Overwriting ../example/example/urls.py\n"
     ]
    },
    {
     "data": {
      "application/javascript": [
       "\n",
       "            setTimeout(function() {\n",
       "                var nbb_cell_id = 5;\n",
       "                var nbb_unformatted_code = \"%%writefile ../example/example/urls.py\\n# dont_test\\n\\nfrom django.urls import path\\n\\nfrom . import views\\n\\nurlpatterns = [\\n    path('<int:num>', views.get_file),\\n]\\n\\nasync_urlpatterns = [\\n    path('<int:num>', views.aget_file),\\n]\";\n",
       "                var nbb_formatted_code = \"%%writefile ../example/example/urls.py\\n# dont_test\\n\\nfrom django.urls import path\\n\\nfrom . import views\\n\\nurlpatterns = [\\n    path('<int:num>', views.get_file),\\n]\\n\\nasync_urlpatterns = [\\n    path('<int:num>', views.aget_file),\\n]\";\n",
       "                var nbb_cells = Jupyter.notebook.get_cells();\n",
       "                for (var i = 0; i < nbb_cells.length; ++i) {\n",
       "                    if (nbb_cells[i].input_prompt_number == nbb_cell_id) {\n",
       "                        if (nbb_cells[i].get_text() == nbb_unformatted_code) {\n",
       "                             nbb_cells[i].set_text(nbb_formatted_code);\n",
       "                        }\n",
       "                        break;\n",
       "                    }\n",
       "                }\n",
       "            }, 500);\n",
       "            "
      ],
      "text/plain": [
       "<IPython.core.display.Javascript object>"
      ]
     },
     "metadata": {},
     "output_type": "display_data"
    }
   ],
   "source": [
    "%%writefile ../example/example/urls.py\n",
    "# dont_test\n",
    "\n",
    "from django.urls import path\n",
    "\n",
    "from . import views\n",
    "\n",
    "urlpatterns = [\n",
    "    path('<int:num>', views.get_file),\n",
    "]\n",
    "\n",
    "async_urlpatterns = [\n",
    "    path('<int:num>', views.aget_file),\n",
    "]"
   ]
  },
  {
   "cell_type": "markdown",
   "id": "36391c16",
   "metadata": {},
   "source": [
    "## ASGI"
   ]
  },
  {
   "cell_type": "code",
   "execution_count": null,
   "id": "3774917d",
   "metadata": {},
   "outputs": [
    {
     "name": "stdout",
     "output_type": "stream",
     "text": [
      "Overwriting ../example/example/asgi.py\n"
     ]
    },
    {
     "data": {
      "application/javascript": [
       "\n",
       "            setTimeout(function() {\n",
       "                var nbb_cell_id = 7;\n",
       "                var nbb_unformatted_code = \"%%writefile ../example/example/asgi.py\\n# dont_test\\nimport os\\n\\nimport django\\nfrom django.core.asgi import get_asgi_application\\n\\nfrom fileresponse.handlers import AsyncFileASGIHandler\\n\\nfrom . import urls\\n\\nos.environ.setdefault('DJANGO_SETTINGS_MODULE', 'example.settings')\\n\\n\\ndef get_fileresponse_asgi_application():\\n    \\\"\\\"\\\"\\n    The public interface to Django's ASGI support. Return an ASGI 3 callable.\\n\\n    Avoids making django.core.handlers.ASGIHandler a public API, in case the\\n    internal implementation changes or moves in the future.\\n    \\\"\\\"\\\"\\n    django.setup(set_prefix=False)\\n    urls.urlpatterns = urls.async_urlpatterns\\n    return AsyncFileASGIHandler()\\n\\n\\n# application = get_asgi_application()\\napplication = get_fileresponse_asgi_application()\";\n",
       "                var nbb_formatted_code = \"%%writefile ../example/example/asgi.py\\n# dont_test\\nimport os\\n\\nimport django\\nfrom django.core.asgi import get_asgi_application\\n\\nfrom fileresponse.handlers import AsyncFileASGIHandler\\n\\nfrom . import urls\\n\\nos.environ.setdefault('DJANGO_SETTINGS_MODULE', 'example.settings')\\n\\n\\ndef get_fileresponse_asgi_application():\\n    \\\"\\\"\\\"\\n    The public interface to Django's ASGI support. Return an ASGI 3 callable.\\n\\n    Avoids making django.core.handlers.ASGIHandler a public API, in case the\\n    internal implementation changes or moves in the future.\\n    \\\"\\\"\\\"\\n    django.setup(set_prefix=False)\\n    urls.urlpatterns = urls.async_urlpatterns\\n    return AsyncFileASGIHandler()\\n\\n\\n# application = get_asgi_application()\\napplication = get_fileresponse_asgi_application()\";\n",
       "                var nbb_cells = Jupyter.notebook.get_cells();\n",
       "                for (var i = 0; i < nbb_cells.length; ++i) {\n",
       "                    if (nbb_cells[i].input_prompt_number == nbb_cell_id) {\n",
       "                        if (nbb_cells[i].get_text() == nbb_unformatted_code) {\n",
       "                             nbb_cells[i].set_text(nbb_formatted_code);\n",
       "                        }\n",
       "                        break;\n",
       "                    }\n",
       "                }\n",
       "            }, 500);\n",
       "            "
      ],
      "text/plain": [
       "<IPython.core.display.Javascript object>"
      ]
     },
     "metadata": {},
     "output_type": "display_data"
    }
   ],
   "source": [
    "%%writefile ../example/example/asgi.py\n",
    "# dont_test\n",
    "import os\n",
    "\n",
    "import django\n",
    "from django.core.asgi import get_asgi_application\n",
    "\n",
    "from fileresponse.handlers import AsyncFileASGIHandler\n",
    "\n",
    "from . import urls\n",
    "\n",
    "os.environ.setdefault('DJANGO_SETTINGS_MODULE', 'example.settings')\n",
    "\n",
    "\n",
    "def get_fileresponse_asgi_application():\n",
    "    \"\"\"\n",
    "    The public interface to Django's ASGI support. Return an ASGI 3 callable.\n",
    "\n",
    "    Avoids making django.core.handlers.ASGIHandler a public API, in case the\n",
    "    internal implementation changes or moves in the future.\n",
    "    \"\"\"\n",
    "    django.setup(set_prefix=False)\n",
    "    urls.urlpatterns = urls.async_urlpatterns\n",
    "    return AsyncFileASGIHandler()\n",
    "\n",
    "\n",
    "# application = get_asgi_application()\n",
    "application = get_fileresponse_asgi_application()\n"
   ]
  }
 ],
 "metadata": {
  "kernelspec": {
   "display_name": "Python 3",
   "language": "python",
   "name": "python3"
  }
 },
 "nbformat": 4,
 "nbformat_minor": 5
}
