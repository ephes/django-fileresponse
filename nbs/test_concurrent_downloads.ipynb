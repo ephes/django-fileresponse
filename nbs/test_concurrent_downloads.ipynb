{
 "cells": [
  {
   "cell_type": "code",
   "execution_count": null,
   "id": "01ab9c61",
   "metadata": {},
   "outputs": [
    {
     "data": {
      "application/javascript": [
       "\n",
       "            setTimeout(function() {\n",
       "                var nbb_cell_id = 6;\n",
       "                var nbb_unformatted_code = \"%load_ext nb_black\";\n",
       "                var nbb_formatted_code = \"%load_ext nb_black\";\n",
       "                var nbb_cells = Jupyter.notebook.get_cells();\n",
       "                for (var i = 0; i < nbb_cells.length; ++i) {\n",
       "                    if (nbb_cells[i].input_prompt_number == nbb_cell_id) {\n",
       "                        if (nbb_cells[i].get_text() == nbb_unformatted_code) {\n",
       "                             nbb_cells[i].set_text(nbb_formatted_code);\n",
       "                        }\n",
       "                        break;\n",
       "                    }\n",
       "                }\n",
       "            }, 500);\n",
       "            "
      ],
      "text/plain": [
       "<IPython.core.display.Javascript object>"
      ]
     },
     "metadata": {},
     "output_type": "display_data"
    }
   ],
   "source": [
    "%load_ext nb_black"
   ]
  },
  {
   "cell_type": "markdown",
   "id": "78bda5a9",
   "metadata": {},
   "source": [
    "# Test Concurrent Downloads"
   ]
  },
  {
   "cell_type": "markdown",
   "id": "f47f0944",
   "metadata": {},
   "source": [
    "## Create Files"
   ]
  },
  {
   "cell_type": "code",
   "execution_count": null,
   "id": "386be841",
   "metadata": {},
   "outputs": [],
   "source": [
    "import os\n",
    "import hashlib\n",
    "import requests\n",
    "\n",
    "from pathlib import Path\n",
    "from urllib.parse import urljoin"
   ]
  },
  {
   "cell_type": "code",
   "execution_count": null,
   "id": "a74053cf",
   "metadata": {},
   "outputs": [],
   "source": [
    "# dont_test\n",
    "project_root = Path.cwd() / \"..\"\n",
    "data_root = project_root / \"example\" / \"data\"\n",
    "data_root.mkdir(exist_ok=True)"
   ]
  },
  {
   "cell_type": "code",
   "execution_count": null,
   "id": "c9299712",
   "metadata": {},
   "outputs": [],
   "source": [
    "# dont_test\n",
    "num_to_md5sum = {}\n",
    "for num in range(100):\n",
    "    file_path = data_root / str(num)\n",
    "    with file_path.open(\"wb\") as f:\n",
    "        data = os.urandom(1024 * 1024 * 10)\n",
    "        num_to_md5sum[num] = hashlib.md5(data).hexdigest()\n",
    "        f.write(data)"
   ]
  },
  {
   "cell_type": "code",
   "execution_count": null,
   "id": "e3f046a1",
   "metadata": {},
   "outputs": [],
   "source": [
    "# dont_test\n",
    "base_url = \"http://localhost:8000\"\n",
    "urls = []\n",
    "for num in num_to_md5sum:\n",
    "    urls.append(urljoin(base_url, f\"{num}\"))"
   ]
  },
  {
   "cell_type": "code",
   "execution_count": null,
   "id": "b5ba867c",
   "metadata": {},
   "outputs": [],
   "source": [
    "# dont_test\n",
    "base_url = \"http://localhost:8000\"\n",
    "for num, expected_md5sum in num_to_md5sum.items():\n",
    "    url = urljoin(base_url, f\"{num}\")\n",
    "    r = requests.get(url)\n",
    "    r.raise_for_status()\n",
    "    actual_md5sum = hashlib.md5(r.content).hexdigest()\n",
    "    assert expected_md5sum == actual_md5sum"
   ]
  }
 ],
 "metadata": {
  "kernelspec": {
   "display_name": "Python 3",
   "language": "python",
   "name": "python3"
  }
 },
 "nbformat": 4,
 "nbformat_minor": 5
}
