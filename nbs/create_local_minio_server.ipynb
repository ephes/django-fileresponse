{
 "cells": [
  {
   "cell_type": "code",
   "execution_count": null,
   "id": "03ad92e4",
   "metadata": {},
   "outputs": [
    {
     "data": {
      "application/javascript": [
       "\n",
       "            setTimeout(function() {\n",
       "                var nbb_cell_id = 2;\n",
       "                var nbb_unformatted_code = \"# hide\\n# dont_test\\n%load_ext nb_black\";\n",
       "                var nbb_formatted_code = \"# hide\\n# dont_test\\n%load_ext nb_black\";\n",
       "                var nbb_cells = Jupyter.notebook.get_cells();\n",
       "                for (var i = 0; i < nbb_cells.length; ++i) {\n",
       "                    if (nbb_cells[i].input_prompt_number == nbb_cell_id) {\n",
       "                        if (nbb_cells[i].get_text() == nbb_unformatted_code) {\n",
       "                             nbb_cells[i].set_text(nbb_formatted_code);\n",
       "                        }\n",
       "                        break;\n",
       "                    }\n",
       "                }\n",
       "            }, 500);\n",
       "            "
      ],
      "text/plain": [
       "<IPython.core.display.Javascript object>"
      ]
     },
     "metadata": {},
     "output_type": "display_data"
    }
   ],
   "source": [
    "# hide\n",
    "# dont_test\n",
    "%load_ext nb_black"
   ]
  },
  {
   "cell_type": "markdown",
   "id": "048f0002",
   "metadata": {},
   "source": [
    "# Create Local MinIO Server"
   ]
  },
  {
   "cell_type": "code",
   "execution_count": null,
   "id": "941b3ada",
   "metadata": {},
   "outputs": [
    {
     "data": {
      "application/javascript": [
       "\n",
       "            setTimeout(function() {\n",
       "                var nbb_cell_id = 3;\n",
       "                var nbb_unformatted_code = \"import stat\\nimport httpx\\n\\nfrom pathlib import Path\";\n",
       "                var nbb_formatted_code = \"import stat\\nimport httpx\\n\\nfrom pathlib import Path\";\n",
       "                var nbb_cells = Jupyter.notebook.get_cells();\n",
       "                for (var i = 0; i < nbb_cells.length; ++i) {\n",
       "                    if (nbb_cells[i].input_prompt_number == nbb_cell_id) {\n",
       "                        if (nbb_cells[i].get_text() == nbb_unformatted_code) {\n",
       "                             nbb_cells[i].set_text(nbb_formatted_code);\n",
       "                        }\n",
       "                        break;\n",
       "                    }\n",
       "                }\n",
       "            }, 500);\n",
       "            "
      ],
      "text/plain": [
       "<IPython.core.display.Javascript object>"
      ]
     },
     "metadata": {},
     "output_type": "display_data"
    }
   ],
   "source": [
    "import stat\n",
    "import httpx\n",
    "\n",
    "from pathlib import Path"
   ]
  },
  {
   "cell_type": "markdown",
   "id": "8fe3ad82",
   "metadata": {},
   "source": [
    "## Download MinIO"
   ]
  },
  {
   "cell_type": "code",
   "execution_count": null,
   "id": "7ddaab01",
   "metadata": {},
   "outputs": [
    {
     "data": {
      "application/javascript": [
       "\n",
       "            setTimeout(function() {\n",
       "                var nbb_cell_id = 4;\n",
       "                var nbb_unformatted_code = \"def download_minio(path):\\n    minio_url = \\\"https://dl.min.io/server/minio/release/darwin-amd64/minio\\\"\\n    with httpx.stream(\\\"GET\\\", minio_url) as r:\\n        r.raise_for_status()\\n        with path.open(\\\"wb\\\") as f:\\n            for data in r.iter_bytes():\\n                f.write(data)\\n    path.chmod(path.stat().st_mode | stat.S_IEXEC)\\n    return path\";\n",
       "                var nbb_formatted_code = \"def download_minio(path):\\n    minio_url = \\\"https://dl.min.io/server/minio/release/darwin-amd64/minio\\\"\\n    with httpx.stream(\\\"GET\\\", minio_url) as r:\\n        r.raise_for_status()\\n        with path.open(\\\"wb\\\") as f:\\n            for data in r.iter_bytes():\\n                f.write(data)\\n    path.chmod(path.stat().st_mode | stat.S_IEXEC)\\n    return path\";\n",
       "                var nbb_cells = Jupyter.notebook.get_cells();\n",
       "                for (var i = 0; i < nbb_cells.length; ++i) {\n",
       "                    if (nbb_cells[i].input_prompt_number == nbb_cell_id) {\n",
       "                        if (nbb_cells[i].get_text() == nbb_unformatted_code) {\n",
       "                             nbb_cells[i].set_text(nbb_formatted_code);\n",
       "                        }\n",
       "                        break;\n",
       "                    }\n",
       "                }\n",
       "            }, 500);\n",
       "            "
      ],
      "text/plain": [
       "<IPython.core.display.Javascript object>"
      ]
     },
     "metadata": {},
     "output_type": "display_data"
    }
   ],
   "source": [
    "def download_minio(path):\n",
    "    minio_url = \"https://dl.min.io/server/minio/release/darwin-amd64/minio\"\n",
    "    with httpx.stream(\"GET\", minio_url) as r:\n",
    "        r.raise_for_status()\n",
    "        with path.open(\"wb\") as f:\n",
    "            for data in r.iter_bytes():\n",
    "                f.write(data)\n",
    "    path.chmod(path.stat().st_mode | stat.S_IEXEC)\n",
    "    return path"
   ]
  },
  {
   "cell_type": "code",
   "execution_count": null,
   "id": "de7daa43",
   "metadata": {},
   "outputs": [
    {
     "name": "stdout",
     "output_type": "stream",
     "text": [
      "/Users/jochen/projects/django_fileresponse\n"
     ]
    },
    {
     "data": {
      "text/plain": [
       "PosixPath('minio')"
      ]
     },
     "execution_count": null,
     "metadata": {},
     "output_type": "execute_result"
    },
    {
     "data": {
      "application/javascript": [
       "\n",
       "            setTimeout(function() {\n",
       "                var nbb_cell_id = 5;\n",
       "                var nbb_unformatted_code = \"%cd ..\\ndownload_minio(Path(\\\"minio\\\"))\";\n",
       "                var nbb_formatted_code = \"%cd ..\\ndownload_minio(Path(\\\"minio\\\"))\";\n",
       "                var nbb_cells = Jupyter.notebook.get_cells();\n",
       "                for (var i = 0; i < nbb_cells.length; ++i) {\n",
       "                    if (nbb_cells[i].input_prompt_number == nbb_cell_id) {\n",
       "                        if (nbb_cells[i].get_text() == nbb_unformatted_code) {\n",
       "                             nbb_cells[i].set_text(nbb_formatted_code);\n",
       "                        }\n",
       "                        break;\n",
       "                    }\n",
       "                }\n",
       "            }, 500);\n",
       "            "
      ],
      "text/plain": [
       "<IPython.core.display.Javascript object>"
      ]
     },
     "metadata": {},
     "output_type": "display_data"
    }
   ],
   "source": [
    "%cd ..\n",
    "download_minio(Path(\"minio\"))"
   ]
  },
  {
   "cell_type": "code",
   "execution_count": null,
   "id": "88ef2ef1",
   "metadata": {},
   "outputs": [
    {
     "data": {
      "text/plain": [
       "'/Users/jochen/projects'"
      ]
     },
     "execution_count": null,
     "metadata": {},
     "output_type": "execute_result"
    },
    {
     "data": {
      "application/javascript": [
       "\n",
       "            setTimeout(function() {\n",
       "                var nbb_cell_id = 10;\n",
       "                var nbb_unformatted_code = \"%pwd\";\n",
       "                var nbb_formatted_code = \"%pwd\";\n",
       "                var nbb_cells = Jupyter.notebook.get_cells();\n",
       "                for (var i = 0; i < nbb_cells.length; ++i) {\n",
       "                    if (nbb_cells[i].input_prompt_number == nbb_cell_id) {\n",
       "                        if (nbb_cells[i].get_text() == nbb_unformatted_code) {\n",
       "                             nbb_cells[i].set_text(nbb_formatted_code);\n",
       "                        }\n",
       "                        break;\n",
       "                    }\n",
       "                }\n",
       "            }, 500);\n",
       "            "
      ],
      "text/plain": [
       "<IPython.core.display.Javascript object>"
      ]
     },
     "metadata": {},
     "output_type": "display_data"
    }
   ],
   "source": [
    "%pwd"
   ]
  },
  {
   "cell_type": "markdown",
   "id": "871a2b27",
   "metadata": {},
   "source": [
    "## Start MinIO Server\n",
    "\n",
    "```shell\n",
    "./minio server example/data\n",
    "```"
   ]
  }
 ],
 "metadata": {
  "kernelspec": {
   "display_name": "Python 3",
   "language": "python",
   "name": "python3"
  }
 },
 "nbformat": 4,
 "nbformat_minor": 5
}
