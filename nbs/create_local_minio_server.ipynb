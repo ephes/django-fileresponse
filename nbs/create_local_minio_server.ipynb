{
 "cells": [
  {
   "cell_type": "code",
   "execution_count": null,
   "id": "03ad92e4",
   "metadata": {},
   "outputs": [
    {
     "data": {
      "application/javascript": [
       "\n",
       "            setTimeout(function() {\n",
       "                var nbb_cell_id = 1;\n",
       "                var nbb_unformatted_code = \"# hide\\n# dont_test\\n%load_ext nb_black\";\n",
       "                var nbb_formatted_code = \"# hide\\n# dont_test\\n%load_ext nb_black\";\n",
       "                var nbb_cells = Jupyter.notebook.get_cells();\n",
       "                for (var i = 0; i < nbb_cells.length; ++i) {\n",
       "                    if (nbb_cells[i].input_prompt_number == nbb_cell_id) {\n",
       "                        if (nbb_cells[i].get_text() == nbb_unformatted_code) {\n",
       "                             nbb_cells[i].set_text(nbb_formatted_code);\n",
       "                        }\n",
       "                        break;\n",
       "                    }\n",
       "                }\n",
       "            }, 500);\n",
       "            "
      ],
      "text/plain": [
       "<IPython.core.display.Javascript object>"
      ]
     },
     "metadata": {},
     "output_type": "display_data"
    }
   ],
   "source": [
    "# hide\n",
    "# dont_test\n",
    "%load_ext nb_black"
   ]
  },
  {
   "cell_type": "markdown",
   "id": "048f0002",
   "metadata": {},
   "source": [
    "# Create Local MinIO Server"
   ]
  },
  {
   "cell_type": "code",
   "execution_count": null,
   "id": "941b3ada",
   "metadata": {},
   "outputs": [
    {
     "data": {
      "application/javascript": [
       "\n",
       "            setTimeout(function() {\n",
       "                var nbb_cell_id = 2;\n",
       "                var nbb_unformatted_code = \"# dont_test\\n\\nimport stat\\nimport httpx\\n\\nfrom pathlib import Path\";\n",
       "                var nbb_formatted_code = \"# dont_test\\n\\nimport stat\\nimport httpx\\n\\nfrom pathlib import Path\";\n",
       "                var nbb_cells = Jupyter.notebook.get_cells();\n",
       "                for (var i = 0; i < nbb_cells.length; ++i) {\n",
       "                    if (nbb_cells[i].input_prompt_number == nbb_cell_id) {\n",
       "                        if (nbb_cells[i].get_text() == nbb_unformatted_code) {\n",
       "                             nbb_cells[i].set_text(nbb_formatted_code);\n",
       "                        }\n",
       "                        break;\n",
       "                    }\n",
       "                }\n",
       "            }, 500);\n",
       "            "
      ],
      "text/plain": [
       "<IPython.core.display.Javascript object>"
      ]
     },
     "metadata": {},
     "output_type": "display_data"
    }
   ],
   "source": [
    "# dont_test\n",
    "\n",
    "import stat\n",
    "import httpx\n",
    "\n",
    "from pathlib import Path"
   ]
  },
  {
   "cell_type": "markdown",
   "id": "8fe3ad82",
   "metadata": {},
   "source": [
    "## Download MinIO"
   ]
  },
  {
   "cell_type": "code",
   "execution_count": null,
   "id": "7ddaab01",
   "metadata": {},
   "outputs": [
    {
     "data": {
      "application/javascript": [
       "\n",
       "            setTimeout(function() {\n",
       "                var nbb_cell_id = 3;\n",
       "                var nbb_unformatted_code = \"# dont_test\\n\\n\\ndef download_minio(path):\\n    minio_url = \\\"https://dl.min.io/server/minio/release/darwin-amd64/minio\\\"\\n    with httpx.stream(\\\"GET\\\", minio_url) as r:\\n        r.raise_for_status()\\n        with path.open(\\\"wb\\\") as f:\\n            for data in r.iter_bytes():\\n                f.write(data)\\n    path.chmod(path.stat().st_mode | stat.S_IEXEC)\\n    return path\";\n",
       "                var nbb_formatted_code = \"# dont_test\\n\\n\\ndef download_minio(path):\\n    minio_url = \\\"https://dl.min.io/server/minio/release/darwin-amd64/minio\\\"\\n    with httpx.stream(\\\"GET\\\", minio_url) as r:\\n        r.raise_for_status()\\n        with path.open(\\\"wb\\\") as f:\\n            for data in r.iter_bytes():\\n                f.write(data)\\n    path.chmod(path.stat().st_mode | stat.S_IEXEC)\\n    return path\";\n",
       "                var nbb_cells = Jupyter.notebook.get_cells();\n",
       "                for (var i = 0; i < nbb_cells.length; ++i) {\n",
       "                    if (nbb_cells[i].input_prompt_number == nbb_cell_id) {\n",
       "                        if (nbb_cells[i].get_text() == nbb_unformatted_code) {\n",
       "                             nbb_cells[i].set_text(nbb_formatted_code);\n",
       "                        }\n",
       "                        break;\n",
       "                    }\n",
       "                }\n",
       "            }, 500);\n",
       "            "
      ],
      "text/plain": [
       "<IPython.core.display.Javascript object>"
      ]
     },
     "metadata": {},
     "output_type": "display_data"
    }
   ],
   "source": [
    "# dont_test\n",
    "\n",
    "\n",
    "def download_minio(path):\n",
    "    minio_url = \"https://dl.min.io/server/minio/release/darwin-amd64/minio\"\n",
    "    with httpx.stream(\"GET\", minio_url) as r:\n",
    "        r.raise_for_status()\n",
    "        with path.open(\"wb\") as f:\n",
    "            for data in r.iter_bytes():\n",
    "                f.write(data)\n",
    "    path.chmod(path.stat().st_mode | stat.S_IEXEC)\n",
    "    return path"
   ]
  },
  {
   "cell_type": "code",
   "execution_count": null,
   "id": "7141bad5",
   "metadata": {},
   "outputs": [
    {
     "name": "stdout",
     "output_type": "stream",
     "text": [
      "/Users/jochen/projects/django_fileresponse\n"
     ]
    },
    {
     "data": {
      "application/javascript": [
       "\n",
       "            setTimeout(function() {\n",
       "                var nbb_cell_id = 4;\n",
       "                var nbb_unformatted_code = \"# dont_test\\n%cd ..\";\n",
       "                var nbb_formatted_code = \"# dont_test\\n%cd ..\";\n",
       "                var nbb_cells = Jupyter.notebook.get_cells();\n",
       "                for (var i = 0; i < nbb_cells.length; ++i) {\n",
       "                    if (nbb_cells[i].input_prompt_number == nbb_cell_id) {\n",
       "                        if (nbb_cells[i].get_text() == nbb_unformatted_code) {\n",
       "                             nbb_cells[i].set_text(nbb_formatted_code);\n",
       "                        }\n",
       "                        break;\n",
       "                    }\n",
       "                }\n",
       "            }, 500);\n",
       "            "
      ],
      "text/plain": [
       "<IPython.core.display.Javascript object>"
      ]
     },
     "metadata": {},
     "output_type": "display_data"
    }
   ],
   "source": [
    "# dont_test\n",
    "%cd .."
   ]
  },
  {
   "cell_type": "code",
   "execution_count": null,
   "id": "de7daa43",
   "metadata": {},
   "outputs": [
    {
     "data": {
      "text/plain": [
       "PosixPath('minio')"
      ]
     },
     "execution_count": null,
     "metadata": {},
     "output_type": "execute_result"
    },
    {
     "data": {
      "application/javascript": [
       "\n",
       "            setTimeout(function() {\n",
       "                var nbb_cell_id = 5;\n",
       "                var nbb_unformatted_code = \"# dont_test\\n\\ndownload_minio(Path(\\\"minio\\\"))\";\n",
       "                var nbb_formatted_code = \"# dont_test\\n\\ndownload_minio(Path(\\\"minio\\\"))\";\n",
       "                var nbb_cells = Jupyter.notebook.get_cells();\n",
       "                for (var i = 0; i < nbb_cells.length; ++i) {\n",
       "                    if (nbb_cells[i].input_prompt_number == nbb_cell_id) {\n",
       "                        if (nbb_cells[i].get_text() == nbb_unformatted_code) {\n",
       "                             nbb_cells[i].set_text(nbb_formatted_code);\n",
       "                        }\n",
       "                        break;\n",
       "                    }\n",
       "                }\n",
       "            }, 500);\n",
       "            "
      ],
      "text/plain": [
       "<IPython.core.display.Javascript object>"
      ]
     },
     "metadata": {},
     "output_type": "display_data"
    }
   ],
   "source": [
    "# dont_test\n",
    "\n",
    "download_minio(Path(\"minio\"))"
   ]
  },
  {
   "cell_type": "code",
   "execution_count": null,
   "id": "88ef2ef1",
   "metadata": {},
   "outputs": [
    {
     "data": {
      "text/plain": [
       "'/Users/jochen/projects/django_fileresponse'"
      ]
     },
     "execution_count": null,
     "metadata": {},
     "output_type": "execute_result"
    },
    {
     "data": {
      "application/javascript": [
       "\n",
       "            setTimeout(function() {\n",
       "                var nbb_cell_id = 6;\n",
       "                var nbb_unformatted_code = \"# dont_test\\n\\n%pwd\";\n",
       "                var nbb_formatted_code = \"# dont_test\\n\\n%pwd\";\n",
       "                var nbb_cells = Jupyter.notebook.get_cells();\n",
       "                for (var i = 0; i < nbb_cells.length; ++i) {\n",
       "                    if (nbb_cells[i].input_prompt_number == nbb_cell_id) {\n",
       "                        if (nbb_cells[i].get_text() == nbb_unformatted_code) {\n",
       "                             nbb_cells[i].set_text(nbb_formatted_code);\n",
       "                        }\n",
       "                        break;\n",
       "                    }\n",
       "                }\n",
       "            }, 500);\n",
       "            "
      ],
      "text/plain": [
       "<IPython.core.display.Javascript object>"
      ]
     },
     "metadata": {},
     "output_type": "display_data"
    }
   ],
   "source": [
    "# dont_test\n",
    "\n",
    "%pwd"
   ]
  },
  {
   "cell_type": "markdown",
   "id": "871a2b27",
   "metadata": {},
   "source": [
    "## Start MinIO Server\n",
    "\n",
    "```shell\n",
    "./minio server example/data\n",
    "```"
   ]
  },
  {
   "cell_type": "code",
   "execution_count": null,
   "id": "c06f6e8e",
   "metadata": {},
   "outputs": [
    {
     "name": "stdout",
     "output_type": "stream",
     "text": [
      "\u001b[m\u001b[31mNo credential environment variables defined. Going with the defaults.\n",
      "It is strongly recommended to define your own credentials via environment variables MINIO_ROOT_USER and MINIO_ROOT_PASSWORD instead of using default values\u001b[0m\n",
      "\u001b[0m\u001b[m\u001b[34mEndpoint: \u001b[0m\u001b[1mhttp://192.168.178.28:9000  http://127.0.0.1:9000                             \u001b[0m\n",
      "\u001b[0m\u001b[m\u001b[34mRootUser: \u001b[0m\u001b[1mminioadmin \u001b[0m\n",
      "\u001b[0m\u001b[m\u001b[34mRootPass: \u001b[0m\u001b[1mminioadmin \u001b[0m\n",
      "\u001b[0m\u001b[m\u001b[34m\n",
      "Browser Access:\u001b[0m\n",
      "\u001b[0m\u001b[m   http://192.168.178.28:9000  http://127.0.0.1:9000                            \n",
      "\u001b[0m\u001b[m\u001b[34m\n",
      "Command-line Access: \u001b[0mhttps://docs.min.io/docs/minio-client-quickstart-guide\n",
      "\u001b[0m\u001b[m   $ mc alias set myminio http://192.168.178.28:9000 minioadmin minioadmin\n",
      "\u001b[0m\u001b[m\u001b[34m\n",
      "Object API (Amazon S3 compatible):\u001b[0m\n",
      "\u001b[0m\u001b[m\u001b[34m   Go: \u001b[0m        https://docs.min.io/docs/golang-client-quickstart-guide\n",
      "\u001b[0m\u001b[m\u001b[34m   Java: \u001b[0m      https://docs.min.io/docs/java-client-quickstart-guide\n",
      "\u001b[0m\u001b[m\u001b[34m   Python: \u001b[0m    https://docs.min.io/docs/python-client-quickstart-guide\n",
      "\u001b[0m\u001b[m\u001b[34m   JavaScript: \u001b[0mhttps://docs.min.io/docs/javascript-client-quickstart-guide\n",
      "\u001b[0m\u001b[m\u001b[34m   .NET: \u001b[0m      https://docs.min.io/docs/dotnet-client-quickstart-guide\n",
      "\u001b[0m\u001b[m\u001b[31;1mDetected default credentials 'minioadmin:minioadmin', please change the credentials immediately by setting 'MINIO_ROOT_USER' and 'MINIO_ROOT_PASSWORD' environment values\u001b[0m\n",
      "\u001b[0m\u001b[mIAM initialization complete\n",
      "\u001b[0m"
     ]
    }
   ],
   "source": [
    "# dont_test\n",
    "\n",
    "!./minio server example/data"
   ]
  }
 ],
 "metadata": {
  "kernelspec": {
   "display_name": "Python 3",
   "language": "python",
   "name": "python3"
  }
 },
 "nbformat": 4,
 "nbformat_minor": 5
}
