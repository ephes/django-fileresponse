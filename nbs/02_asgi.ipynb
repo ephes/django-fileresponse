{
 "cells": [
  {
   "cell_type": "code",
   "execution_count": null,
   "id": "7e00ed64",
   "metadata": {},
   "outputs": [
    {
     "data": {
      "application/javascript": [
       "\n",
       "            setTimeout(function() {\n",
       "                var nbb_cell_id = 1;\n",
       "                var nbb_unformatted_code = \"# hide\\n# dont_test\\n# default_exp asgi\\n%load_ext nb_black\";\n",
       "                var nbb_formatted_code = \"# hide\\n# dont_test\\n# default_exp asgi\\n%load_ext nb_black\";\n",
       "                var nbb_cells = Jupyter.notebook.get_cells();\n",
       "                for (var i = 0; i < nbb_cells.length; ++i) {\n",
       "                    if (nbb_cells[i].input_prompt_number == nbb_cell_id) {\n",
       "                        if (nbb_cells[i].get_text() == nbb_unformatted_code) {\n",
       "                             nbb_cells[i].set_text(nbb_formatted_code);\n",
       "                        }\n",
       "                        break;\n",
       "                    }\n",
       "                }\n",
       "            }, 500);\n",
       "            "
      ],
      "text/plain": [
       "<IPython.core.display.Javascript object>"
      ]
     },
     "metadata": {},
     "output_type": "display_data"
    }
   ],
   "source": [
    "# hide\n",
    "# dont_test\n",
    "# default_exp asgi\n",
    "%load_ext nb_black"
   ]
  },
  {
   "cell_type": "markdown",
   "id": "32b9ae87",
   "metadata": {},
   "source": [
    "# Get Fileresponse Application\n",
    "\n",
    "The public interface to django_fileresponse's ASGI support.\n",
    "Returs an ASGI 3 callable. Uses AsyncFileASGIHandler instead of Djangos\n",
    "ASGIHandler to enable async file responses."
   ]
  },
  {
   "cell_type": "code",
   "execution_count": null,
   "id": "1a371dc2",
   "metadata": {},
   "outputs": [
    {
     "data": {
      "application/javascript": [
       "\n",
       "            setTimeout(function() {\n",
       "                var nbb_cell_id = 4;\n",
       "                var nbb_unformatted_code = \"# export\\n\\nimport django\\n\\nfrom fileresponse.handlers import AsyncFileASGIHandler\\n\\n\\ndef get_asgi_application():\\n    \\\"\\\"\\\"\\n    Similar to django.core.asgi.get_asgi_application, but uses AsyncFileASGIHandler\\n    instead of Djangos ASGIHandler.\\n    \\\"\\\"\\\"\\n    django.setup(set_prefix=False)\\n    return AsyncFileASGIHandler()\";\n",
       "                var nbb_formatted_code = \"# export\\n\\nimport django\\n\\nfrom fileresponse.handlers import AsyncFileASGIHandler\\n\\n\\ndef get_asgi_application():\\n    \\\"\\\"\\\"\\n    Similar to django.core.asgi.get_asgi_application, but uses AsyncFileASGIHandler\\n    instead of Djangos ASGIHandler.\\n    \\\"\\\"\\\"\\n    django.setup(set_prefix=False)\\n    return AsyncFileASGIHandler()\";\n",
       "                var nbb_cells = Jupyter.notebook.get_cells();\n",
       "                for (var i = 0; i < nbb_cells.length; ++i) {\n",
       "                    if (nbb_cells[i].input_prompt_number == nbb_cell_id) {\n",
       "                        if (nbb_cells[i].get_text() == nbb_unformatted_code) {\n",
       "                             nbb_cells[i].set_text(nbb_formatted_code);\n",
       "                        }\n",
       "                        break;\n",
       "                    }\n",
       "                }\n",
       "            }, 500);\n",
       "            "
      ],
      "text/plain": [
       "<IPython.core.display.Javascript object>"
      ]
     },
     "metadata": {},
     "output_type": "display_data"
    }
   ],
   "source": [
    "# export\n",
    "\n",
    "import django\n",
    "\n",
    "from fileresponse.handlers import AsyncFileASGIHandler\n",
    "\n",
    "\n",
    "def get_asgi_application():\n",
    "    \"\"\"\n",
    "    Similar to django.core.asgi.get_asgi_application, but uses AsyncFileASGIHandler\n",
    "    instead of Djangos ASGIHandler.\n",
    "    \"\"\"\n",
    "    django.setup(set_prefix=False)\n",
    "    return AsyncFileASGIHandler()"
   ]
  },
  {
   "cell_type": "markdown",
   "id": "b30ca55e",
   "metadata": {},
   "source": [
    "## Tests"
   ]
  },
  {
   "cell_type": "code",
   "execution_count": null,
   "id": "64522bad",
   "metadata": {},
   "outputs": [
    {
     "data": {
      "application/javascript": [
       "\n",
       "            setTimeout(function() {\n",
       "                var nbb_cell_id = 16;\n",
       "                var nbb_unformatted_code = \"from django.conf import settings\\n\\ntry:\\n    settings.configure()\\nexcept RuntimeError:\\n    pass\\n\\napplication = get_asgi_application()\\nassert \\\"<class 'fileresponse.handlers.AsyncFileASGIHandler'>\\\" == str(application.__class__)\";\n",
       "                var nbb_formatted_code = \"from django.conf import settings\\n\\ntry:\\n    settings.configure()\\nexcept RuntimeError:\\n    pass\\n\\napplication = get_asgi_application()\\nassert \\\"<class 'fileresponse.handlers.AsyncFileASGIHandler'>\\\" == str(\\n    application.__class__\\n)\";\n",
       "                var nbb_cells = Jupyter.notebook.get_cells();\n",
       "                for (var i = 0; i < nbb_cells.length; ++i) {\n",
       "                    if (nbb_cells[i].input_prompt_number == nbb_cell_id) {\n",
       "                        if (nbb_cells[i].get_text() == nbb_unformatted_code) {\n",
       "                             nbb_cells[i].set_text(nbb_formatted_code);\n",
       "                        }\n",
       "                        break;\n",
       "                    }\n",
       "                }\n",
       "            }, 500);\n",
       "            "
      ],
      "text/plain": [
       "<IPython.core.display.Javascript object>"
      ]
     },
     "metadata": {},
     "output_type": "display_data"
    }
   ],
   "source": [
    "from django.conf import settings\n",
    "\n",
    "try:\n",
    "    settings.configure()\n",
    "except RuntimeError:\n",
    "    pass\n",
    "\n",
    "application = get_asgi_application()\n",
    "assert \"<class 'fileresponse.handlers.AsyncFileASGIHandler'>\" == str(\n",
    "    application.__class__\n",
    ")"
   ]
  },
  {
   "cell_type": "code",
   "execution_count": null,
   "id": "1b37670f",
   "metadata": {},
   "outputs": [
    {
     "data": {
      "application/javascript": [
       "\n",
       "            setTimeout(function() {\n",
       "                var nbb_cell_id = 17;\n",
       "                var nbb_unformatted_code = \"from django.core.asgi import get_asgi_application as get_django_asgi_application\\n\\nassert get_django_asgi_application() != application\";\n",
       "                var nbb_formatted_code = \"from django.core.asgi import get_asgi_application as get_django_asgi_application\\n\\nassert get_django_asgi_application() != application\";\n",
       "                var nbb_cells = Jupyter.notebook.get_cells();\n",
       "                for (var i = 0; i < nbb_cells.length; ++i) {\n",
       "                    if (nbb_cells[i].input_prompt_number == nbb_cell_id) {\n",
       "                        if (nbb_cells[i].get_text() == nbb_unformatted_code) {\n",
       "                             nbb_cells[i].set_text(nbb_formatted_code);\n",
       "                        }\n",
       "                        break;\n",
       "                    }\n",
       "                }\n",
       "            }, 500);\n",
       "            "
      ],
      "text/plain": [
       "<IPython.core.display.Javascript object>"
      ]
     },
     "metadata": {},
     "output_type": "display_data"
    }
   ],
   "source": [
    "from django.core.asgi import get_asgi_application as get_django_asgi_application\n",
    "\n",
    "assert get_django_asgi_application() != application"
   ]
  }
 ],
 "metadata": {
  "kernelspec": {
   "display_name": "Python 3",
   "language": "python",
   "name": "python3"
  }
 },
 "nbformat": 4,
 "nbformat_minor": 5
}
