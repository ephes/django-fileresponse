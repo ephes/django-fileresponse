{
 "cells": [
  {
   "cell_type": "code",
   "execution_count": null,
   "id": "eeb0b851",
   "metadata": {},
   "outputs": [
    {
     "data": {
      "application/javascript": [
       "\n",
       "            setTimeout(function() {\n",
       "                var nbb_cell_id = 1;\n",
       "                var nbb_unformatted_code = \"# hide\\n# dont_test\\n# default_exp http\\n%load_ext nb_black\";\n",
       "                var nbb_formatted_code = \"# hide\\n# dont_test\\n# default_exp http\\n%load_ext nb_black\";\n",
       "                var nbb_cells = Jupyter.notebook.get_cells();\n",
       "                for (var i = 0; i < nbb_cells.length; ++i) {\n",
       "                    if (nbb_cells[i].input_prompt_number == nbb_cell_id) {\n",
       "                        if (nbb_cells[i].get_text() == nbb_unformatted_code) {\n",
       "                             nbb_cells[i].set_text(nbb_formatted_code);\n",
       "                        }\n",
       "                        break;\n",
       "                    }\n",
       "                }\n",
       "            }, 500);\n",
       "            "
      ],
      "text/plain": [
       "<IPython.core.display.Javascript object>"
      ]
     },
     "metadata": {},
     "output_type": "display_data"
    }
   ],
   "source": [
    "# hide\n",
    "# dont_test\n",
    "# default_exp http\n",
    "%load_ext nb_black"
   ]
  },
  {
   "cell_type": "markdown",
   "id": "445e6b92",
   "metadata": {},
   "source": [
    "# Async File Responses"
   ]
  },
  {
   "cell_type": "code",
   "execution_count": null,
   "id": "b4e18bef",
   "metadata": {},
   "outputs": [
    {
     "data": {
      "application/javascript": [
       "\n",
       "            setTimeout(function() {\n",
       "                var nbb_cell_id = 3;\n",
       "                var nbb_unformatted_code = \"# export\\n\\nimport time\\n\\n\\nclass AsyncResponseBase:\\n    headers = {\\\"Content-Type\\\": \\\"application/octet-stream\\\"}\\n    streaming = True\\n    _resource_closers = []\\n    is_async_fileresponse = True\\n    \\n    def __init__(self, *args, **kwargs):\\n        self.chunk_size = kwargs.get(\\\"chunk_size\\\", 4096)\\n        self.status_code = kwargs.get(\\\"status_code\\\", 200)\\n        self.raw_headers = kwargs.get(\\\"raw_headers\\\", {})\\n\\n    def get(self, header, alternate=None):\\n        return None\\n\\n    async def send_stream_to_client(self, stream, send):\\n        started_serving = time.perf_counter()\\n        await send({\\n            \\\"type\\\": \\\"http.response.start\\\",\\n            \\\"status\\\": self.status_code,\\n            \\\"headers\\\": self.raw_headers,\\n        })\\n        chunks = []\\n        sent_size = 0\\n\\n        more_body = True\\n        while more_body:\\n            chunk = await stream.read(self.chunk_size)\\n            chunk_len = len(chunk)\\n            more_body = chunk_len > 0\\n            chunks.append(chunk)\\n            await send(\\n                {\\n                    \\\"type\\\": \\\"http.response.body\\\",\\n                    \\\"body\\\": chunk,\\n                    \\\"more_body\\\": more_body,\\n                }\\n            )\\n            sent_size += chunk_len\\n        print(\\\"sent size: \\\", sent_size)\\n        self.elapsed = time.perf_counter() - started_serving\";\n",
       "                var nbb_formatted_code = \"# export\\n\\nimport time\\n\\n\\nclass AsyncResponseBase:\\n    headers = {\\\"Content-Type\\\": \\\"application/octet-stream\\\"}\\n    streaming = True\\n    _resource_closers = []\\n    is_async_fileresponse = True\\n\\n    def __init__(self, *args, **kwargs):\\n        self.chunk_size = kwargs.get(\\\"chunk_size\\\", 4096)\\n        self.status_code = kwargs.get(\\\"status_code\\\", 200)\\n        self.raw_headers = kwargs.get(\\\"raw_headers\\\", {})\\n\\n    def get(self, header, alternate=None):\\n        return None\\n\\n    async def send_stream_to_client(self, stream, send):\\n        started_serving = time.perf_counter()\\n        await send(\\n            {\\n                \\\"type\\\": \\\"http.response.start\\\",\\n                \\\"status\\\": self.status_code,\\n                \\\"headers\\\": self.raw_headers,\\n            }\\n        )\\n        chunks = []\\n        sent_size = 0\\n\\n        more_body = True\\n        while more_body:\\n            chunk = await stream.read(self.chunk_size)\\n            chunk_len = len(chunk)\\n            more_body = chunk_len > 0\\n            chunks.append(chunk)\\n            await send(\\n                {\\n                    \\\"type\\\": \\\"http.response.body\\\",\\n                    \\\"body\\\": chunk,\\n                    \\\"more_body\\\": more_body,\\n                }\\n            )\\n            sent_size += chunk_len\\n        print(\\\"sent size: \\\", sent_size)\\n        self.elapsed = time.perf_counter() - started_serving\";\n",
       "                var nbb_cells = Jupyter.notebook.get_cells();\n",
       "                for (var i = 0; i < nbb_cells.length; ++i) {\n",
       "                    if (nbb_cells[i].input_prompt_number == nbb_cell_id) {\n",
       "                        if (nbb_cells[i].get_text() == nbb_unformatted_code) {\n",
       "                             nbb_cells[i].set_text(nbb_formatted_code);\n",
       "                        }\n",
       "                        break;\n",
       "                    }\n",
       "                }\n",
       "            }, 500);\n",
       "            "
      ],
      "text/plain": [
       "<IPython.core.display.Javascript object>"
      ]
     },
     "metadata": {},
     "output_type": "display_data"
    }
   ],
   "source": [
    "# export\n",
    "\n",
    "import time\n",
    "\n",
    "\n",
    "class AsyncResponseBase:\n",
    "    headers = {\"Content-Type\": \"application/octet-stream\"}\n",
    "    streaming = True\n",
    "    _resource_closers = []\n",
    "    is_async_fileresponse = True\n",
    "\n",
    "    def __init__(self, *args, **kwargs):\n",
    "        self.chunk_size = kwargs.get(\"chunk_size\", 4096)\n",
    "        self.status_code = kwargs.get(\"status_code\", 200)\n",
    "        self.raw_headers = kwargs.get(\"raw_headers\", {})\n",
    "\n",
    "    def get(self, header, alternate=None):\n",
    "        return None\n",
    "\n",
    "    async def send_stream_to_client(self, stream, send):\n",
    "        started_serving = time.perf_counter()\n",
    "        await send(\n",
    "            {\n",
    "                \"type\": \"http.response.start\",\n",
    "                \"status\": self.status_code,\n",
    "                \"headers\": self.raw_headers,\n",
    "            }\n",
    "        )\n",
    "        chunks = []\n",
    "        sent_size = 0\n",
    "\n",
    "        more_body = True\n",
    "        while more_body:\n",
    "            chunk = await stream.read(self.chunk_size)\n",
    "            chunk_len = len(chunk)\n",
    "            more_body = chunk_len > 0\n",
    "            chunks.append(chunk)\n",
    "            await send(\n",
    "                {\n",
    "                    \"type\": \"http.response.body\",\n",
    "                    \"body\": chunk,\n",
    "                    \"more_body\": more_body,\n",
    "                }\n",
    "            )\n",
    "            sent_size += chunk_len\n",
    "        print(\"sent size: \", sent_size)\n",
    "        self.elapsed = time.perf_counter() - started_serving"
   ]
  },
  {
   "cell_type": "markdown",
   "id": "8c33bab7",
   "metadata": {},
   "source": [
    "## Tests"
   ]
  },
  {
   "cell_type": "code",
   "execution_count": null,
   "id": "4934b3ba",
   "metadata": {},
   "outputs": [
    {
     "name": "stdout",
     "output_type": "stream",
     "text": [
      "sent size:  10\n"
     ]
    }
   ],
   "source": [
    "chunks = []\n",
    "\n",
    "async def send(chunk):\n",
    "    chunks.append(chunk)\n",
    "    \n",
    "    \n",
    "class Stream:\n",
    "    def __init__(self, data):\n",
    "        self.index = 0\n",
    "        self.data = data\n",
    "        self.data_len = len(data)\n",
    "    \n",
    "    async def read(self, chunk_size):\n",
    "        if self.index + chunk_size >= self.data_len:\n",
    "            chunk = self.data[self.index:]\n",
    "        else:\n",
    "            chunk = self.data[self.index:self.index + chunk_size]\n",
    "        self.index += chunk_size\n",
    "        return chunk\n",
    "            \n",
    "\n",
    "content = \"1234567890\"\n",
    "stream = Stream(content)\n",
    "response = AsyncResponseBase(chunk_size=3)\n",
    "await response.send_stream_to_client(stream, send)\n",
    "\n",
    "sent_body = \"\".join([c[\"body\"] for c in chunks if \"body\" in c])\n",
    "assert content == sent_body"
   ]
  },
  {
   "cell_type": "markdown",
   "id": "c77edbf3",
   "metadata": {},
   "source": [
    "## AiofileFileResponse\n",
    "\n",
    "Serve a file asynchronously using [aiofiles](https://github.com/Tinche/aiofiles)."
   ]
  },
  {
   "cell_type": "code",
   "execution_count": null,
   "id": "c44e300f",
   "metadata": {},
   "outputs": [
    {
     "data": {
      "application/javascript": [
       "\n",
       "            setTimeout(function() {\n",
       "                var nbb_cell_id = 12;\n",
       "                var nbb_unformatted_code = \"# export\\n\\nimport aiofiles\\n\\n\\nclass AiofileFileResponse(AsyncResponseBase):\\n    def __init__(self, path, chunk_size=4096):\\n        super().__init__(path, chunk_size=chunk_size)\\n        self.path = path\\n\\n    def __repr__(self):\\n        return \\\"<%(cls)s status_code=%(status_code)d>\\\" % {\\n            \\\"cls\\\": self.__class__.__name__,\\n            \\\"status_code\\\": self.status_code,\\n        }\\n\\n    async def stream(self, send):\\n        async with aiofiles.open(self.path, mode=\\\"rb\\\") as stream:  # type: ignore\\n            await self.send_stream_to_client(stream, send)\";\n",
       "                var nbb_formatted_code = \"# export\\n\\nimport aiofiles\\n\\n\\nclass AiofileFileResponse(AsyncResponseBase):\\n    def __init__(self, path, chunk_size=4096):\\n        super().__init__(path, chunk_size=chunk_size)\\n        self.path = path\\n\\n    def __repr__(self):\\n        return \\\"<%(cls)s status_code=%(status_code)d>\\\" % {\\n            \\\"cls\\\": self.__class__.__name__,\\n            \\\"status_code\\\": self.status_code,\\n        }\\n\\n    async def stream(self, send):\\n        async with aiofiles.open(self.path, mode=\\\"rb\\\") as stream:  # type: ignore\\n            await self.send_stream_to_client(stream, send)\";\n",
       "                var nbb_cells = Jupyter.notebook.get_cells();\n",
       "                for (var i = 0; i < nbb_cells.length; ++i) {\n",
       "                    if (nbb_cells[i].input_prompt_number == nbb_cell_id) {\n",
       "                        if (nbb_cells[i].get_text() == nbb_unformatted_code) {\n",
       "                             nbb_cells[i].set_text(nbb_formatted_code);\n",
       "                        }\n",
       "                        break;\n",
       "                    }\n",
       "                }\n",
       "            }, 500);\n",
       "            "
      ],
      "text/plain": [
       "<IPython.core.display.Javascript object>"
      ]
     },
     "metadata": {},
     "output_type": "display_data"
    }
   ],
   "source": [
    "# export\n",
    "\n",
    "import aiofiles\n",
    "\n",
    "\n",
    "class AiofileFileResponse(AsyncResponseBase):\n",
    "    def __init__(self, path, chunk_size=4096):\n",
    "        super().__init__(path, chunk_size=chunk_size)\n",
    "        self.path = path\n",
    "\n",
    "    def __repr__(self):\n",
    "        return \"<%(cls)s status_code=%(status_code)d>\" % {\n",
    "            \"cls\": self.__class__.__name__,\n",
    "            \"status_code\": self.status_code,\n",
    "        }\n",
    "\n",
    "    async def stream(self, send):\n",
    "        async with aiofiles.open(self.path, mode=\"rb\") as stream:  # type: ignore\n",
    "            await self.send_stream_to_client(stream, send)"
   ]
  },
  {
   "cell_type": "markdown",
   "id": "a8a13c1c",
   "metadata": {},
   "source": [
    "### Tests"
   ]
  },
  {
   "cell_type": "markdown",
   "id": "93f7b1da",
   "metadata": {},
   "source": [
    "#### Complete FileResponse Testcase\n",
    "\n",
    "* Create file with random content\n",
    "* Stream file content via AsyncFileResponse\n",
    "* Assert streamed content equals original content"
   ]
  },
  {
   "cell_type": "code",
   "execution_count": null,
   "id": "46f3d3bc",
   "metadata": {},
   "outputs": [
    {
     "name": "stdout",
     "output_type": "stream",
     "text": [
      "sent size:  10000\n"
     ]
    },
    {
     "data": {
      "application/javascript": [
       "\n",
       "            setTimeout(function() {\n",
       "                var nbb_cell_id = 13;\n",
       "                var nbb_unformatted_code = \"import os\\n\\nfrom pathlib import Path\\n\\npath = Path(\\\"testdata.bin\\\")\\n\\nwith path.open(\\\"wb\\\") as f:\\n    f.write(os.urandom(10000))\\n\\nwith path.open(\\\"rb\\\") as f:\\n    content = f.read()\\n\\nchunk_datas = []\\n\\n\\nasync def send(chunk_data):\\n    chunk_datas.append(chunk_data)\\n\\n\\nresponse = AiofileFileResponse(path)\\nawait response.stream(send)\\nreceived_content = b\\\"\\\".join([cd.get(\\\"body\\\", b\\\"\\\") for cd in chunk_datas])\\n\\nassert content == received_content\";\n",
       "                var nbb_formatted_code = \"import os\\n\\nfrom pathlib import Path\\n\\npath = Path(\\\"testdata.bin\\\")\\n\\nwith path.open(\\\"wb\\\") as f:\\n    f.write(os.urandom(10000))\\n\\nwith path.open(\\\"rb\\\") as f:\\n    content = f.read()\\n\\nchunk_datas = []\\n\\n\\nasync def send(chunk_data):\\n    chunk_datas.append(chunk_data)\\n\\n\\nresponse = AiofileFileResponse(path)\\nawait response.stream(send)\\nreceived_content = b\\\"\\\".join([cd.get(\\\"body\\\", b\\\"\\\") for cd in chunk_datas])\\n\\nassert content == received_content\";\n",
       "                var nbb_cells = Jupyter.notebook.get_cells();\n",
       "                for (var i = 0; i < nbb_cells.length; ++i) {\n",
       "                    if (nbb_cells[i].input_prompt_number == nbb_cell_id) {\n",
       "                        if (nbb_cells[i].get_text() == nbb_unformatted_code) {\n",
       "                             nbb_cells[i].set_text(nbb_formatted_code);\n",
       "                        }\n",
       "                        break;\n",
       "                    }\n",
       "                }\n",
       "            }, 500);\n",
       "            "
      ],
      "text/plain": [
       "<IPython.core.display.Javascript object>"
      ]
     },
     "metadata": {},
     "output_type": "display_data"
    }
   ],
   "source": [
    "import os\n",
    "\n",
    "from pathlib import Path\n",
    "\n",
    "path = Path(\"testdata.bin\")\n",
    "\n",
    "with path.open(\"wb\") as f:\n",
    "    f.write(os.urandom(10000))\n",
    "\n",
    "with path.open(\"rb\") as f:\n",
    "    content = f.read()\n",
    "\n",
    "chunk_datas = []\n",
    "\n",
    "\n",
    "async def send(chunk_data):\n",
    "    chunk_datas.append(chunk_data)\n",
    "\n",
    "\n",
    "response = AiofileFileResponse(path)\n",
    "await response.stream(send)\n",
    "received_content = b\"\".join([cd.get(\"body\", b\"\") for cd in chunk_datas])\n",
    "\n",
    "assert content == received_content"
   ]
  },
  {
   "cell_type": "markdown",
   "id": "32d134a5",
   "metadata": {},
   "source": [
    "### test __repr__"
   ]
  },
  {
   "cell_type": "code",
   "execution_count": null,
   "id": "edb55827",
   "metadata": {},
   "outputs": [
    {
     "data": {
      "application/javascript": [
       "\n",
       "            setTimeout(function() {\n",
       "                var nbb_cell_id = 15;\n",
       "                var nbb_unformatted_code = \"response = AiofileFileResponse(\\\"foobar\\\")\\nassert '<AiofileFileResponse status_code=200>' == repr(response)\";\n",
       "                var nbb_formatted_code = \"response = AiofileFileResponse(\\\"foobar\\\")\\nassert \\\"<AiofileFileResponse status_code=200>\\\" == repr(response)\";\n",
       "                var nbb_cells = Jupyter.notebook.get_cells();\n",
       "                for (var i = 0; i < nbb_cells.length; ++i) {\n",
       "                    if (nbb_cells[i].input_prompt_number == nbb_cell_id) {\n",
       "                        if (nbb_cells[i].get_text() == nbb_unformatted_code) {\n",
       "                             nbb_cells[i].set_text(nbb_formatted_code);\n",
       "                        }\n",
       "                        break;\n",
       "                    }\n",
       "                }\n",
       "            }, 500);\n",
       "            "
      ],
      "text/plain": [
       "<IPython.core.display.Javascript object>"
      ]
     },
     "metadata": {},
     "output_type": "display_data"
    }
   ],
   "source": [
    "response = AiofileFileResponse(\"foobar\")\n",
    "assert \"<AiofileFileResponse status_code=200>\" == repr(response)"
   ]
  },
  {
   "cell_type": "markdown",
   "id": "aa6bb864",
   "metadata": {},
   "source": [
    "## AiobotocoreFileResponse\n",
    "\n",
    "Serve a file asynchronously using [aiobotocore](https://github.com/aio-libs/aiobotocore)."
   ]
  },
  {
   "cell_type": "code",
   "execution_count": null,
   "id": "9e60cd3e",
   "metadata": {},
   "outputs": [
    {
     "data": {
      "application/javascript": [
       "\n",
       "            setTimeout(function() {\n",
       "                var nbb_cell_id = 17;\n",
       "                var nbb_unformatted_code = \"# export\\n\\nimport aiobotocore\\n\\nfrom django.conf import settings\\n\\n\\nclass AiobotocoreFileResponse(AsyncResponseBase):\\n    def __init__(self, bucket, key, chunk_size=4096):\\n        super().__init__(chunk_size=chunk_size)\\n        self.bucket = bucket\\n        self.key = key\\n\\n    def __repr__(self):\\n        return \\\"<%(cls)s status_code=%(status_code)d>\\\" % {\\n            \\\"cls\\\": self.__class__.__name__,\\n            \\\"status_code\\\": self.status_code,\\n        }\\n\\n    async def stream(self, send):\\n        session = aiobotocore.get_session()\\n        async with session.create_client(\\n            \\\"s3\\\",\\n            endpoint_url=settings.MINIO_ENDPOINT_URL,\\n            region_name=settings.DJANGO_AWS_REGION,\\n            aws_secret_access_key=settings.DJANGO_AWS_SECRET_ACCESS_KEY,\\n            aws_access_key_id=settings.DJANGO_AWS_ACCESS_KEY_ID,\\n            use_ssl=False\\n        ) as client:\\n            minio_response = await client.get_object(Bucket=self.bucket, Key=self.key)\\n            async with minio_response[\\\"Body\\\"] as stream:\\n                await self.send_stream_to_client(stream, send)\";\n",
       "                var nbb_formatted_code = \"# export\\n\\nimport aiobotocore\\n\\nfrom django.conf import settings\\n\\n\\nclass AiobotocoreFileResponse(AsyncResponseBase):\\n    def __init__(self, bucket, key, chunk_size=4096):\\n        super().__init__(chunk_size=chunk_size)\\n        self.bucket = bucket\\n        self.key = key\\n\\n    def __repr__(self):\\n        return \\\"<%(cls)s status_code=%(status_code)d>\\\" % {\\n            \\\"cls\\\": self.__class__.__name__,\\n            \\\"status_code\\\": self.status_code,\\n        }\\n\\n    async def stream(self, send):\\n        session = aiobotocore.get_session()\\n        async with session.create_client(\\n            \\\"s3\\\",\\n            endpoint_url=settings.MINIO_ENDPOINT_URL,\\n            region_name=settings.DJANGO_AWS_REGION,\\n            aws_secret_access_key=settings.DJANGO_AWS_SECRET_ACCESS_KEY,\\n            aws_access_key_id=settings.DJANGO_AWS_ACCESS_KEY_ID,\\n            use_ssl=False,\\n        ) as client:\\n            minio_response = await client.get_object(Bucket=self.bucket, Key=self.key)\\n            async with minio_response[\\\"Body\\\"] as stream:\\n                await self.send_stream_to_client(stream, send)\";\n",
       "                var nbb_cells = Jupyter.notebook.get_cells();\n",
       "                for (var i = 0; i < nbb_cells.length; ++i) {\n",
       "                    if (nbb_cells[i].input_prompt_number == nbb_cell_id) {\n",
       "                        if (nbb_cells[i].get_text() == nbb_unformatted_code) {\n",
       "                             nbb_cells[i].set_text(nbb_formatted_code);\n",
       "                        }\n",
       "                        break;\n",
       "                    }\n",
       "                }\n",
       "            }, 500);\n",
       "            "
      ],
      "text/plain": [
       "<IPython.core.display.Javascript object>"
      ]
     },
     "metadata": {},
     "output_type": "display_data"
    }
   ],
   "source": [
    "# export\n",
    "\n",
    "import aiobotocore\n",
    "\n",
    "from django.conf import settings\n",
    "\n",
    "\n",
    "class AiobotocoreFileResponse(AsyncResponseBase):\n",
    "    def __init__(self, bucket, key, chunk_size=4096):\n",
    "        super().__init__(chunk_size=chunk_size)\n",
    "        self.bucket = bucket\n",
    "        self.key = key\n",
    "\n",
    "    def __repr__(self):\n",
    "        return \"<%(cls)s status_code=%(status_code)d>\" % {\n",
    "            \"cls\": self.__class__.__name__,\n",
    "            \"status_code\": self.status_code,\n",
    "        }\n",
    "\n",
    "    async def stream(self, send):\n",
    "        session = aiobotocore.get_session()\n",
    "        async with session.create_client(\n",
    "            \"s3\",\n",
    "            endpoint_url=settings.MINIO_ENDPOINT_URL,\n",
    "            region_name=settings.DJANGO_AWS_REGION,\n",
    "            aws_secret_access_key=settings.DJANGO_AWS_SECRET_ACCESS_KEY,\n",
    "            aws_access_key_id=settings.DJANGO_AWS_ACCESS_KEY_ID,\n",
    "            use_ssl=False,\n",
    "        ) as client:\n",
    "            minio_response = await client.get_object(Bucket=self.bucket, Key=self.key)\n",
    "            async with minio_response[\"Body\"] as stream:\n",
    "                await self.send_stream_to_client(stream, send)"
   ]
  },
  {
   "cell_type": "markdown",
   "id": "aa9a6e77",
   "metadata": {},
   "source": [
    "## Tests"
   ]
  },
  {
   "cell_type": "code",
   "execution_count": null,
   "id": "e4c6c51a",
   "metadata": {},
   "outputs": [
    {
     "data": {
      "application/javascript": [
       "\n",
       "            setTimeout(function() {\n",
       "                var nbb_cell_id = 21;\n",
       "                var nbb_unformatted_code = \"response = AiobotocoreFileResponse(\\\"bucket\\\", \\\"key\\\")\\nassert '<AiobotocoreFileResponse status_code=200>' == repr(response)\";\n",
       "                var nbb_formatted_code = \"response = AiobotocoreFileResponse(\\\"bucket\\\", \\\"key\\\")\\nassert \\\"<AiobotocoreFileResponse status_code=200>\\\" == repr(response)\";\n",
       "                var nbb_cells = Jupyter.notebook.get_cells();\n",
       "                for (var i = 0; i < nbb_cells.length; ++i) {\n",
       "                    if (nbb_cells[i].input_prompt_number == nbb_cell_id) {\n",
       "                        if (nbb_cells[i].get_text() == nbb_unformatted_code) {\n",
       "                             nbb_cells[i].set_text(nbb_formatted_code);\n",
       "                        }\n",
       "                        break;\n",
       "                    }\n",
       "                }\n",
       "            }, 500);\n",
       "            "
      ],
      "text/plain": [
       "<IPython.core.display.Javascript object>"
      ]
     },
     "metadata": {},
     "output_type": "display_data"
    }
   ],
   "source": [
    "response = AiobotocoreFileResponse(\"bucket\", \"key\")\n",
    "assert \"<AiobotocoreFileResponse status_code=200>\" == repr(response)"
   ]
  }
 ],
 "metadata": {
  "kernelspec": {
   "display_name": "Python 3",
   "language": "python",
   "name": "python3"
  }
 },
 "nbformat": 4,
 "nbformat_minor": 5
}
