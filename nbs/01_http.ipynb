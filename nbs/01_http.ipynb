{
 "cells": [
  {
   "cell_type": "code",
   "execution_count": null,
   "id": "eeb0b851",
   "metadata": {},
   "outputs": [
    {
     "data": {
      "application/javascript": [
       "\n",
       "            setTimeout(function() {\n",
       "                var nbb_cell_id = 1;\n",
       "                var nbb_unformatted_code = \"# hide\\n# dont_test\\n# default_exp http\\n%load_ext nb_black\";\n",
       "                var nbb_formatted_code = \"# hide\\n# dont_test\\n# default_exp http\\n%load_ext nb_black\";\n",
       "                var nbb_cells = Jupyter.notebook.get_cells();\n",
       "                for (var i = 0; i < nbb_cells.length; ++i) {\n",
       "                    if (nbb_cells[i].input_prompt_number == nbb_cell_id) {\n",
       "                        if (nbb_cells[i].get_text() == nbb_unformatted_code) {\n",
       "                             nbb_cells[i].set_text(nbb_formatted_code);\n",
       "                        }\n",
       "                        break;\n",
       "                    }\n",
       "                }\n",
       "            }, 500);\n",
       "            "
      ],
      "text/plain": [
       "<IPython.core.display.Javascript object>"
      ]
     },
     "metadata": {},
     "output_type": "display_data"
    }
   ],
   "source": [
    "# hide\n",
    "# dont_test\n",
    "# default_exp http\n",
    "%load_ext nb_black"
   ]
  },
  {
   "cell_type": "markdown",
   "id": "445e6b92",
   "metadata": {},
   "source": [
    "# Async File Responses"
   ]
  },
  {
   "cell_type": "markdown",
   "id": "c77edbf3",
   "metadata": {},
   "source": [
    "## AiofileFileResponse\n",
    "\n",
    "Serve a file asynchronously using [aiofiles](https://github.com/Tinche/aiofiles)."
   ]
  },
  {
   "cell_type": "code",
   "execution_count": null,
   "id": "c44e300f",
   "metadata": {},
   "outputs": [
    {
     "data": {
      "application/javascript": [
       "\n",
       "            setTimeout(function() {\n",
       "                var nbb_cell_id = 2;\n",
       "                var nbb_unformatted_code = \"# export\\n\\nimport time\\nimport aiofiles\\n\\n\\nclass AiofileFileResponse:\\n    headers = {\\n        \\\"Content-Type\\\": \\\"application/octet-stream\\\"\\n    }\\n    streaming = True\\n    _resource_closers = []\\n    is_async_fileresponse = True\\n\\n    def __init__(self, path, chunk_size=4096):\\n        self.path = path\\n        self.chunk_size = chunk_size\\n        self.status_code = 200\\n        self.raw_headers = {}\\n    \\n    def get(self, header, alternate=None):\\n        return None\\n\\n    async def stream(self, send):\\n        started_serving = time.perf_counter()\\n        await send(\\n            {\\n                \\\"type\\\": \\\"http.response.start\\\",\\n                \\\"status\\\": self.status_code,\\n                \\\"headers\\\": self.raw_headers,\\n            }\\n        )\\n        async with aiofiles.open(self.path, mode=\\\"rb\\\") as file:  # type: ignore\\n            more_body = True\\n            while more_body:\\n                chunk = await file.read(self.chunk_size)\\n                more_body = len(chunk) == self.chunk_size\\n                await send(\\n                    {\\n                        \\\"type\\\": \\\"http.response.body\\\",\\n                        \\\"body\\\": chunk,\\n                        \\\"more_body\\\": more_body,\\n                    }\\n                )\\n        self.elapsed = time.perf_counter() - started_serving\";\n",
       "                var nbb_formatted_code = \"# export\\n\\nimport time\\nimport aiofiles\\n\\n\\nclass AiofileFileResponse:\\n    headers = {\\\"Content-Type\\\": \\\"application/octet-stream\\\"}\\n    streaming = True\\n    _resource_closers = []\\n    is_async_fileresponse = True\\n\\n    def __init__(self, path, chunk_size=4096):\\n        self.path = path\\n        self.chunk_size = chunk_size\\n        self.status_code = 200\\n        self.raw_headers = {}\\n\\n    def get(self, header, alternate=None):\\n        return None\\n\\n    async def stream(self, send):\\n        started_serving = time.perf_counter()\\n        await send(\\n            {\\n                \\\"type\\\": \\\"http.response.start\\\",\\n                \\\"status\\\": self.status_code,\\n                \\\"headers\\\": self.raw_headers,\\n            }\\n        )\\n        async with aiofiles.open(self.path, mode=\\\"rb\\\") as file:  # type: ignore\\n            more_body = True\\n            while more_body:\\n                chunk = await file.read(self.chunk_size)\\n                more_body = len(chunk) == self.chunk_size\\n                await send(\\n                    {\\n                        \\\"type\\\": \\\"http.response.body\\\",\\n                        \\\"body\\\": chunk,\\n                        \\\"more_body\\\": more_body,\\n                    }\\n                )\\n        self.elapsed = time.perf_counter() - started_serving\";\n",
       "                var nbb_cells = Jupyter.notebook.get_cells();\n",
       "                for (var i = 0; i < nbb_cells.length; ++i) {\n",
       "                    if (nbb_cells[i].input_prompt_number == nbb_cell_id) {\n",
       "                        if (nbb_cells[i].get_text() == nbb_unformatted_code) {\n",
       "                             nbb_cells[i].set_text(nbb_formatted_code);\n",
       "                        }\n",
       "                        break;\n",
       "                    }\n",
       "                }\n",
       "            }, 500);\n",
       "            "
      ],
      "text/plain": [
       "<IPython.core.display.Javascript object>"
      ]
     },
     "metadata": {},
     "output_type": "display_data"
    }
   ],
   "source": [
    "# export\n",
    "\n",
    "import time\n",
    "import aiofiles\n",
    "\n",
    "\n",
    "class AiofileFileResponse:\n",
    "    headers = {\"Content-Type\": \"application/octet-stream\"}\n",
    "    streaming = True\n",
    "    _resource_closers = []\n",
    "    is_async_fileresponse = True\n",
    "\n",
    "    def __init__(self, path, chunk_size=4096):\n",
    "        self.path = path\n",
    "        self.chunk_size = chunk_size\n",
    "        self.status_code = 200\n",
    "        self.raw_headers = {}\n",
    "\n",
    "    def get(self, header, alternate=None):\n",
    "        return None\n",
    "\n",
    "    async def stream(self, send):\n",
    "        started_serving = time.perf_counter()\n",
    "        await send(\n",
    "            {\n",
    "                \"type\": \"http.response.start\",\n",
    "                \"status\": self.status_code,\n",
    "                \"headers\": self.raw_headers,\n",
    "            }\n",
    "        )\n",
    "        async with aiofiles.open(self.path, mode=\"rb\") as file:  # type: ignore\n",
    "            more_body = True\n",
    "            while more_body:\n",
    "                chunk = await file.read(self.chunk_size)\n",
    "                more_body = len(chunk) == self.chunk_size\n",
    "                await send(\n",
    "                    {\n",
    "                        \"type\": \"http.response.body\",\n",
    "                        \"body\": chunk,\n",
    "                        \"more_body\": more_body,\n",
    "                    }\n",
    "                )\n",
    "        self.elapsed = time.perf_counter() - started_serving"
   ]
  },
  {
   "cell_type": "markdown",
   "id": "a8a13c1c",
   "metadata": {},
   "source": [
    "### Tests"
   ]
  },
  {
   "cell_type": "markdown",
   "id": "93f7b1da",
   "metadata": {},
   "source": [
    "#### Complete FileResponse Testcase\n",
    "\n",
    "* Create file with random content\n",
    "* Stream file content via AsyncFileResponse\n",
    "* Assert streamed content equals original content"
   ]
  },
  {
   "cell_type": "code",
   "execution_count": null,
   "id": "46f3d3bc",
   "metadata": {},
   "outputs": [
    {
     "data": {
      "application/javascript": [
       "\n",
       "            setTimeout(function() {\n",
       "                var nbb_cell_id = 3;\n",
       "                var nbb_unformatted_code = \"import os\\n\\nfrom pathlib import Path\\n\\npath = Path(\\\"testdata.bin\\\")\\n\\nwith path.open(\\\"wb\\\") as f:\\n    f.write(os.urandom(10000))\\n\\nwith path.open(\\\"rb\\\") as f:\\n    content = f.read()\\n\\nchunk_datas = []\\n\\n\\nasync def send(chunk_data):\\n    chunk_datas.append(chunk_data)\\n\\n\\nresponse = AiofileFileResponse(path)\\nawait response.stream(send)\\nreceived_content = b\\\"\\\".join([cd.get(\\\"body\\\", b\\\"\\\") for cd in chunk_datas])\\n\\nassert content == received_content\";\n",
       "                var nbb_formatted_code = \"import os\\n\\nfrom pathlib import Path\\n\\npath = Path(\\\"testdata.bin\\\")\\n\\nwith path.open(\\\"wb\\\") as f:\\n    f.write(os.urandom(10000))\\n\\nwith path.open(\\\"rb\\\") as f:\\n    content = f.read()\\n\\nchunk_datas = []\\n\\n\\nasync def send(chunk_data):\\n    chunk_datas.append(chunk_data)\\n\\n\\nresponse = AiofileFileResponse(path)\\nawait response.stream(send)\\nreceived_content = b\\\"\\\".join([cd.get(\\\"body\\\", b\\\"\\\") for cd in chunk_datas])\\n\\nassert content == received_content\";\n",
       "                var nbb_cells = Jupyter.notebook.get_cells();\n",
       "                for (var i = 0; i < nbb_cells.length; ++i) {\n",
       "                    if (nbb_cells[i].input_prompt_number == nbb_cell_id) {\n",
       "                        if (nbb_cells[i].get_text() == nbb_unformatted_code) {\n",
       "                             nbb_cells[i].set_text(nbb_formatted_code);\n",
       "                        }\n",
       "                        break;\n",
       "                    }\n",
       "                }\n",
       "            }, 500);\n",
       "            "
      ],
      "text/plain": [
       "<IPython.core.display.Javascript object>"
      ]
     },
     "metadata": {},
     "output_type": "display_data"
    }
   ],
   "source": [
    "import os\n",
    "\n",
    "from pathlib import Path\n",
    "\n",
    "path = Path(\"testdata.bin\")\n",
    "\n",
    "with path.open(\"wb\") as f:\n",
    "    f.write(os.urandom(10000))\n",
    "\n",
    "with path.open(\"rb\") as f:\n",
    "    content = f.read()\n",
    "\n",
    "chunk_datas = []\n",
    "\n",
    "\n",
    "async def send(chunk_data):\n",
    "    chunk_datas.append(chunk_data)\n",
    "\n",
    "\n",
    "response = AiofileFileResponse(path)\n",
    "await response.stream(send)\n",
    "received_content = b\"\".join([cd.get(\"body\", b\"\") for cd in chunk_datas])\n",
    "\n",
    "assert content == received_content"
   ]
  },
  {
   "cell_type": "markdown",
   "id": "aa6bb864",
   "metadata": {},
   "source": [
    "## AiobotocoreFileResponse\n",
    "\n",
    "Serve a file asynchronously using [aiobotocore](https://github.com/aio-libs/aiobotocore)."
   ]
  },
  {
   "cell_type": "code",
   "execution_count": null,
   "id": "9e60cd3e",
   "metadata": {},
   "outputs": [],
   "source": [
    "# export\n",
    "\n",
    "import aiobotocore\n",
    "\n",
    "from django.conf import settings\n",
    "\n",
    "\n",
    "class AiobotocoreFileResponse:\n",
    "    headers = {\n",
    "        \"Content-Type\": \"application/octet-stream\"\n",
    "    }\n",
    "    streaming = True\n",
    "    _resource_closers = []\n",
    "    is_async_fileresponse = True\n",
    "    minio = True\n",
    "\n",
    "    def __init__(self, bucket, key, chunk_size=4096):\n",
    "        self.bucket = bucket\n",
    "        self.key = key\n",
    "        self.chunk_size = chunk_size\n",
    "        self.status_code = 200\n",
    "        self.raw_headers = {}\n",
    "\n",
    "    def get(self, header, alternate=None):\n",
    "        return None\n",
    "\n",
    "    async def stream(self, send):\n",
    "        started_serving = time.perf_counter()\n",
    "        session = aiobotocore.get_session()\n",
    "        async with session.create_client(\n",
    "            \"s3\",\n",
    "            endpoint_url=settings.MINIO_ENDPOINT_URL,\n",
    "            region_name=settings.DJANGO_AWS_REGION,\n",
    "            aws_secret_access_key=settings.DJANGO_AWS_SECRET_ACCESS_KEY,\n",
    "            aws_access_key_id=settings.DJANGO_AWS_ACCESS_KEY_ID,\n",
    "            use_ssl=False\n",
    "        ) as client:\n",
    "            minio_response = await client.get_object(Bucket=self.bucket, Key=self.key)\n",
    "            async with minio_response[\"Body\"] as stream:\n",
    "                await send({\n",
    "                    \"type\": \"http.response.start\",\n",
    "                    \"status\": self.status_code,\n",
    "                    \"headers\": self.raw_headers,\n",
    "                })\n",
    "                chunks = []\n",
    "                sent_size = 0\n",
    "\n",
    "                more_body = True\n",
    "                while more_body:\n",
    "                    chunk = await stream.read(self.chunk_size)\n",
    "                    chunk_len = len(chunk)\n",
    "                    more_body = chunk_len > 0\n",
    "                    chunks.append(chunk)\n",
    "                    await send(\n",
    "                        {\n",
    "                            \"type\": \"http.response.body\",\n",
    "                            \"body\": chunk,\n",
    "                            \"more_body\": more_body,\n",
    "                        }\n",
    "                    )\n",
    "                    sent_size += chunk_len\n",
    "                print(\"sent size: \", sent_size)\n",
    "        self.elapsed = time.perf_counter() - started_serving"
   ]
  },
  {
   "cell_type": "markdown",
   "id": "3ff50c07",
   "metadata": {},
   "source": [
    "### Tests"
   ]
  },
  {
   "cell_type": "code",
   "execution_count": null,
   "id": "174de9ac",
   "metadata": {},
   "outputs": [],
   "source": []
  }
 ],
 "metadata": {
  "kernelspec": {
   "display_name": "Python 3",
   "language": "python",
   "name": "python3"
  }
 },
 "nbformat": 4,
 "nbformat_minor": 5
}
