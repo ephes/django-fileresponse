{
 "cells": [
  {
   "cell_type": "code",
   "execution_count": null,
   "id": "eeb0b851",
   "metadata": {},
   "outputs": [
    {
     "data": {
      "application/javascript": [
       "\n",
       "            setTimeout(function() {\n",
       "                var nbb_cell_id = 1;\n",
       "                var nbb_unformatted_code = \"# default_exp http\\n%load_ext nb_black\";\n",
       "                var nbb_formatted_code = \"# default_exp http\\n%load_ext nb_black\";\n",
       "                var nbb_cells = Jupyter.notebook.get_cells();\n",
       "                for (var i = 0; i < nbb_cells.length; ++i) {\n",
       "                    if (nbb_cells[i].input_prompt_number == nbb_cell_id) {\n",
       "                        if (nbb_cells[i].get_text() == nbb_unformatted_code) {\n",
       "                             nbb_cells[i].set_text(nbb_formatted_code);\n",
       "                        }\n",
       "                        break;\n",
       "                    }\n",
       "                }\n",
       "            }, 500);\n",
       "            "
      ],
      "text/plain": [
       "<IPython.core.display.Javascript object>"
      ]
     },
     "metadata": {},
     "output_type": "display_data"
    }
   ],
   "source": [
    "# dont_test\n",
    "# default_exp http\n",
    "%load_ext nb_black"
   ]
  },
  {
   "cell_type": "markdown",
   "id": "c77edbf3",
   "metadata": {},
   "source": [
    "# Async File Response\n",
    "\n",
    "Serve a file asynchronously using [aiofiles](https://github.com/Tinche/aiofiles)."
   ]
  },
  {
   "cell_type": "code",
   "execution_count": null,
   "id": "c44e300f",
   "metadata": {},
   "outputs": [
    {
     "data": {
      "application/javascript": [
       "\n",
       "            setTimeout(function() {\n",
       "                var nbb_cell_id = 2;\n",
       "                var nbb_unformatted_code = \"# export\\n\\nimport time\\nimport aiofiles\\n\\n\\nclass AsyncFileResponse:\\n    def __init__(self, open_file):\\n        self.open_file = open_file\\n        self.started_serving = time.perf_counter()\\n        self.chunk_size = kwargs.get(\\\"chunk_size\\\", 4096)\\n        self.more_body = True\\n\\n\\n    async def stream(self, send):\\n        await send(\\n            {\\n                \\\"type\\\": \\\"http.response.start\\\",\\n                \\\"status\\\": self.status_code,\\n                \\\"headers\\\": self.raw_headers,\\n            }\\n        )\\n        async with aiofiles.open(self.path, mode=\\\"rb\\\") as file:  # type: ignore\\n            more_body = True\\n            while more_body:\\n                chunk = await file.read(self.chunk_size)\\n                more_body = len(chunk) == self.chunk_size\\n                await send(\\n                    {\\n                        \\\"type\\\": \\\"http.response.body\\\",\\n                        \\\"body\\\": chunk,\\n                        \\\"more_body\\\": more_body,\\n                    }\\n                )\";\n",
       "                var nbb_formatted_code = \"# export\\n\\nimport time\\nimport aiofiles\\n\\n\\nclass AsyncFileResponse:\\n    def __init__(self, open_file):\\n        self.open_file = open_file\\n        self.started_serving = time.perf_counter()\\n        self.chunk_size = kwargs.get(\\\"chunk_size\\\", 4096)\\n        self.more_body = True\\n\\n    async def stream(self, send):\\n        await send(\\n            {\\n                \\\"type\\\": \\\"http.response.start\\\",\\n                \\\"status\\\": self.status_code,\\n                \\\"headers\\\": self.raw_headers,\\n            }\\n        )\\n        async with aiofiles.open(self.path, mode=\\\"rb\\\") as file:  # type: ignore\\n            more_body = True\\n            while more_body:\\n                chunk = await file.read(self.chunk_size)\\n                more_body = len(chunk) == self.chunk_size\\n                await send(\\n                    {\\n                        \\\"type\\\": \\\"http.response.body\\\",\\n                        \\\"body\\\": chunk,\\n                        \\\"more_body\\\": more_body,\\n                    }\\n                )\";\n",
       "                var nbb_cells = Jupyter.notebook.get_cells();\n",
       "                for (var i = 0; i < nbb_cells.length; ++i) {\n",
       "                    if (nbb_cells[i].input_prompt_number == nbb_cell_id) {\n",
       "                        if (nbb_cells[i].get_text() == nbb_unformatted_code) {\n",
       "                             nbb_cells[i].set_text(nbb_formatted_code);\n",
       "                        }\n",
       "                        break;\n",
       "                    }\n",
       "                }\n",
       "            }, 500);\n",
       "            "
      ],
      "text/plain": [
       "<IPython.core.display.Javascript object>"
      ]
     },
     "metadata": {},
     "output_type": "display_data"
    }
   ],
   "source": [
    "# export\n",
    "\n",
    "import time\n",
    "import aiofiles\n",
    "\n",
    "\n",
    "class AsyncFileResponse:\n",
    "    def __init__(self, path):\n",
    "        self.path = path\n",
    "        self.chunk_size = kwargs.get(\"chunk_size\", 4096)\n",
    "\n",
    "    async def stream(self, send):\n",
    "        started_serving = time.perf_counter()\n",
    "        await send(\n",
    "            {\n",
    "                \"type\": \"http.response.start\",\n",
    "                \"status\": self.status_code,\n",
    "                \"headers\": self.raw_headers,\n",
    "            }\n",
    "        )\n",
    "        async with aiofiles.open(self.path, mode=\"rb\") as file:  # type: ignore\n",
    "            more_body = True\n",
    "            while more_body:\n",
    "                chunk = await file.read(self.chunk_size)\n",
    "                more_body = len(chunk) == self.chunk_size\n",
    "                await send(\n",
    "                    {\n",
    "                        \"type\": \"http.response.body\",\n",
    "                        \"body\": chunk,\n",
    "                        \"more_body\": more_body,\n",
    "                    }\n",
    "                )\n",
    "        self.elapsed = time.perf_counter() - started_serving"
   ]
  }
 ],
 "metadata": {
  "kernelspec": {
   "display_name": "Python 3",
   "language": "python",
   "name": "python3"
  }
 },
 "nbformat": 4,
 "nbformat_minor": 5
}
